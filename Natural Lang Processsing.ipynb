{
 "cells": [
  {
   "cell_type": "code",
   "execution_count": 1,
   "metadata": {},
   "outputs": [],
   "source": [
    "import nltk\n"
   ]
  },
  {
   "cell_type": "code",
   "execution_count": 2,
   "metadata": {},
   "outputs": [],
   "source": [
    "#nltk.download_shell()"
   ]
  },
  {
   "cell_type": "code",
   "execution_count": 3,
   "metadata": {},
   "outputs": [],
   "source": [
    "messages = [line.rstrip() for line in open('smsspamcollection/SMSSpamCollection')]"
   ]
  },
  {
   "cell_type": "code",
   "execution_count": 4,
   "metadata": {},
   "outputs": [
    {
     "name": "stdout",
     "output_type": "stream",
     "text": [
      "5574\n"
     ]
    }
   ],
   "source": [
    "print(len(messages))"
   ]
  },
  {
   "cell_type": "code",
   "execution_count": 5,
   "metadata": {},
   "outputs": [],
   "source": [
    "import pandas as pd"
   ]
  },
  {
   "cell_type": "code",
   "execution_count": 6,
   "metadata": {},
   "outputs": [
    {
     "data": {
      "text/plain": [
       "'ham\\tWhat you thinked about me. First time you saw me in class.'"
      ]
     },
     "execution_count": 6,
     "metadata": {},
     "output_type": "execute_result"
    }
   ],
   "source": [
    "messages[50]"
   ]
  },
  {
   "cell_type": "code",
   "execution_count": 7,
   "metadata": {},
   "outputs": [
    {
     "name": "stdout",
     "output_type": "stream",
     "text": [
      "0 ham\tGo until jurong point, crazy.. Available only in bugis n great world la e buffet... Cine there got amore wat...\n",
      "\n",
      "\n",
      "1 ham\tOk lar... Joking wif u oni...\n",
      "\n",
      "\n",
      "2 spam\tFree entry in 2 a wkly comp to win FA Cup final tkts 21st May 2005. Text FA to 87121 to receive entry question(std txt rate)T&C's apply 08452810075over18's\n",
      "\n",
      "\n",
      "3 ham\tU dun say so early hor... U c already then say...\n",
      "\n",
      "\n",
      "4 ham\tNah I don't think he goes to usf, he lives around here though\n",
      "\n",
      "\n",
      "5 spam\tFreeMsg Hey there darling it's been 3 week's now and no word back! I'd like some fun you up for it still? Tb ok! XxX std chgs to send, Â£1.50 to rcv\n",
      "\n",
      "\n",
      "6 ham\tEven my brother is not like to speak with me. They treat me like aids patent.\n",
      "\n",
      "\n",
      "7 ham\tAs per your request 'Melle Melle (Oru Minnaminunginte Nurungu Vettam)' has been set as your callertune for all Callers. Press *9 to copy your friends Callertune\n",
      "\n",
      "\n",
      "8 spam\tWINNER!! As a valued network customer you have been selected to receivea Â£900 prize reward! To claim call 09061701461. Claim code KL341. Valid 12 hours only.\n",
      "\n",
      "\n",
      "9 spam\tHad your mobile 11 months or more? U R entitled to Update to the latest colour mobiles with camera for Free! Call The Mobile Update Co FREE on 08002986030\n",
      "\n",
      "\n"
     ]
    }
   ],
   "source": [
    "for messNO,messages in enumerate(messages[:10]):\n",
    "    print(messNO,messages)\n",
    "    print('\\n')"
   ]
  },
  {
   "cell_type": "code",
   "execution_count": 8,
   "metadata": {},
   "outputs": [],
   "source": [
    "messages=pd.read_csv('smsspamcollection/SMSSpamCollection',sep='\\t',names=['label','message'])"
   ]
  },
  {
   "cell_type": "code",
   "execution_count": 9,
   "metadata": {},
   "outputs": [
    {
     "data": {
      "text/html": [
       "<div>\n",
       "<style scoped>\n",
       "    .dataframe tbody tr th:only-of-type {\n",
       "        vertical-align: middle;\n",
       "    }\n",
       "\n",
       "    .dataframe tbody tr th {\n",
       "        vertical-align: top;\n",
       "    }\n",
       "\n",
       "    .dataframe thead th {\n",
       "        text-align: right;\n",
       "    }\n",
       "</style>\n",
       "<table border=\"1\" class=\"dataframe\">\n",
       "  <thead>\n",
       "    <tr style=\"text-align: right;\">\n",
       "      <th></th>\n",
       "      <th>label</th>\n",
       "      <th>message</th>\n",
       "    </tr>\n",
       "  </thead>\n",
       "  <tbody>\n",
       "    <tr>\n",
       "      <th>0</th>\n",
       "      <td>ham</td>\n",
       "      <td>Go until jurong point, crazy.. Available only ...</td>\n",
       "    </tr>\n",
       "    <tr>\n",
       "      <th>1</th>\n",
       "      <td>ham</td>\n",
       "      <td>Ok lar... Joking wif u oni...</td>\n",
       "    </tr>\n",
       "    <tr>\n",
       "      <th>2</th>\n",
       "      <td>spam</td>\n",
       "      <td>Free entry in 2 a wkly comp to win FA Cup fina...</td>\n",
       "    </tr>\n",
       "    <tr>\n",
       "      <th>3</th>\n",
       "      <td>ham</td>\n",
       "      <td>U dun say so early hor... U c already then say...</td>\n",
       "    </tr>\n",
       "    <tr>\n",
       "      <th>4</th>\n",
       "      <td>ham</td>\n",
       "      <td>Nah I don't think he goes to usf, he lives aro...</td>\n",
       "    </tr>\n",
       "  </tbody>\n",
       "</table>\n",
       "</div>"
      ],
      "text/plain": [
       "  label                                            message\n",
       "0   ham  Go until jurong point, crazy.. Available only ...\n",
       "1   ham                      Ok lar... Joking wif u oni...\n",
       "2  spam  Free entry in 2 a wkly comp to win FA Cup fina...\n",
       "3   ham  U dun say so early hor... U c already then say...\n",
       "4   ham  Nah I don't think he goes to usf, he lives aro..."
      ]
     },
     "execution_count": 9,
     "metadata": {},
     "output_type": "execute_result"
    }
   ],
   "source": [
    "messages.head()"
   ]
  },
  {
   "cell_type": "code",
   "execution_count": 10,
   "metadata": {},
   "outputs": [
    {
     "data": {
      "text/html": [
       "<div>\n",
       "<style scoped>\n",
       "    .dataframe tbody tr th:only-of-type {\n",
       "        vertical-align: middle;\n",
       "    }\n",
       "\n",
       "    .dataframe tbody tr th {\n",
       "        vertical-align: top;\n",
       "    }\n",
       "\n",
       "    .dataframe thead th {\n",
       "        text-align: right;\n",
       "    }\n",
       "</style>\n",
       "<table border=\"1\" class=\"dataframe\">\n",
       "  <thead>\n",
       "    <tr style=\"text-align: right;\">\n",
       "      <th></th>\n",
       "      <th>label</th>\n",
       "      <th>message</th>\n",
       "    </tr>\n",
       "  </thead>\n",
       "  <tbody>\n",
       "    <tr>\n",
       "      <th>count</th>\n",
       "      <td>5572</td>\n",
       "      <td>5572</td>\n",
       "    </tr>\n",
       "    <tr>\n",
       "      <th>unique</th>\n",
       "      <td>2</td>\n",
       "      <td>5169</td>\n",
       "    </tr>\n",
       "    <tr>\n",
       "      <th>top</th>\n",
       "      <td>ham</td>\n",
       "      <td>Sorry, I'll call later</td>\n",
       "    </tr>\n",
       "    <tr>\n",
       "      <th>freq</th>\n",
       "      <td>4825</td>\n",
       "      <td>30</td>\n",
       "    </tr>\n",
       "  </tbody>\n",
       "</table>\n",
       "</div>"
      ],
      "text/plain": [
       "       label                 message\n",
       "count   5572                    5572\n",
       "unique     2                    5169\n",
       "top      ham  Sorry, I'll call later\n",
       "freq    4825                      30"
      ]
     },
     "execution_count": 10,
     "metadata": {},
     "output_type": "execute_result"
    }
   ],
   "source": [
    "messages.describe()"
   ]
  },
  {
   "cell_type": "code",
   "execution_count": 11,
   "metadata": {},
   "outputs": [
    {
     "data": {
      "text/html": [
       "<div>\n",
       "<style scoped>\n",
       "    .dataframe tbody tr th:only-of-type {\n",
       "        vertical-align: middle;\n",
       "    }\n",
       "\n",
       "    .dataframe tbody tr th {\n",
       "        vertical-align: top;\n",
       "    }\n",
       "\n",
       "    .dataframe thead tr th {\n",
       "        text-align: left;\n",
       "    }\n",
       "\n",
       "    .dataframe thead tr:last-of-type th {\n",
       "        text-align: right;\n",
       "    }\n",
       "</style>\n",
       "<table border=\"1\" class=\"dataframe\">\n",
       "  <thead>\n",
       "    <tr>\n",
       "      <th></th>\n",
       "      <th colspan=\"4\" halign=\"left\">message</th>\n",
       "    </tr>\n",
       "    <tr>\n",
       "      <th></th>\n",
       "      <th>count</th>\n",
       "      <th>unique</th>\n",
       "      <th>top</th>\n",
       "      <th>freq</th>\n",
       "    </tr>\n",
       "    <tr>\n",
       "      <th>label</th>\n",
       "      <th></th>\n",
       "      <th></th>\n",
       "      <th></th>\n",
       "      <th></th>\n",
       "    </tr>\n",
       "  </thead>\n",
       "  <tbody>\n",
       "    <tr>\n",
       "      <th>ham</th>\n",
       "      <td>4825</td>\n",
       "      <td>4516</td>\n",
       "      <td>Sorry, I'll call later</td>\n",
       "      <td>30</td>\n",
       "    </tr>\n",
       "    <tr>\n",
       "      <th>spam</th>\n",
       "      <td>747</td>\n",
       "      <td>653</td>\n",
       "      <td>Please call our customer service representativ...</td>\n",
       "      <td>4</td>\n",
       "    </tr>\n",
       "  </tbody>\n",
       "</table>\n",
       "</div>"
      ],
      "text/plain": [
       "      message                                                               \n",
       "        count unique                                                top freq\n",
       "label                                                                       \n",
       "ham      4825   4516                             Sorry, I'll call later   30\n",
       "spam      747    653  Please call our customer service representativ...    4"
      ]
     },
     "execution_count": 11,
     "metadata": {},
     "output_type": "execute_result"
    }
   ],
   "source": [
    "messages.groupby('label').describe()"
   ]
  },
  {
   "cell_type": "code",
   "execution_count": 12,
   "metadata": {},
   "outputs": [],
   "source": [
    "messages['length']=messages['message'].apply(len)"
   ]
  },
  {
   "cell_type": "code",
   "execution_count": 13,
   "metadata": {},
   "outputs": [
    {
     "data": {
      "text/html": [
       "<div>\n",
       "<style scoped>\n",
       "    .dataframe tbody tr th:only-of-type {\n",
       "        vertical-align: middle;\n",
       "    }\n",
       "\n",
       "    .dataframe tbody tr th {\n",
       "        vertical-align: top;\n",
       "    }\n",
       "\n",
       "    .dataframe thead th {\n",
       "        text-align: right;\n",
       "    }\n",
       "</style>\n",
       "<table border=\"1\" class=\"dataframe\">\n",
       "  <thead>\n",
       "    <tr style=\"text-align: right;\">\n",
       "      <th></th>\n",
       "      <th>length</th>\n",
       "    </tr>\n",
       "  </thead>\n",
       "  <tbody>\n",
       "    <tr>\n",
       "      <th>count</th>\n",
       "      <td>5572.000000</td>\n",
       "    </tr>\n",
       "    <tr>\n",
       "      <th>mean</th>\n",
       "      <td>80.489950</td>\n",
       "    </tr>\n",
       "    <tr>\n",
       "      <th>std</th>\n",
       "      <td>59.942907</td>\n",
       "    </tr>\n",
       "    <tr>\n",
       "      <th>min</th>\n",
       "      <td>2.000000</td>\n",
       "    </tr>\n",
       "    <tr>\n",
       "      <th>25%</th>\n",
       "      <td>36.000000</td>\n",
       "    </tr>\n",
       "    <tr>\n",
       "      <th>50%</th>\n",
       "      <td>62.000000</td>\n",
       "    </tr>\n",
       "    <tr>\n",
       "      <th>75%</th>\n",
       "      <td>122.000000</td>\n",
       "    </tr>\n",
       "    <tr>\n",
       "      <th>max</th>\n",
       "      <td>910.000000</td>\n",
       "    </tr>\n",
       "  </tbody>\n",
       "</table>\n",
       "</div>"
      ],
      "text/plain": [
       "            length\n",
       "count  5572.000000\n",
       "mean     80.489950\n",
       "std      59.942907\n",
       "min       2.000000\n",
       "25%      36.000000\n",
       "50%      62.000000\n",
       "75%     122.000000\n",
       "max     910.000000"
      ]
     },
     "execution_count": 13,
     "metadata": {},
     "output_type": "execute_result"
    }
   ],
   "source": [
    "messages.describe()"
   ]
  },
  {
   "cell_type": "code",
   "execution_count": 14,
   "metadata": {},
   "outputs": [
    {
     "data": {
      "text/html": [
       "<div>\n",
       "<style scoped>\n",
       "    .dataframe tbody tr th:only-of-type {\n",
       "        vertical-align: middle;\n",
       "    }\n",
       "\n",
       "    .dataframe tbody tr th {\n",
       "        vertical-align: top;\n",
       "    }\n",
       "\n",
       "    .dataframe thead th {\n",
       "        text-align: right;\n",
       "    }\n",
       "</style>\n",
       "<table border=\"1\" class=\"dataframe\">\n",
       "  <thead>\n",
       "    <tr style=\"text-align: right;\">\n",
       "      <th></th>\n",
       "      <th>label</th>\n",
       "      <th>message</th>\n",
       "      <th>length</th>\n",
       "    </tr>\n",
       "  </thead>\n",
       "  <tbody>\n",
       "    <tr>\n",
       "      <th>0</th>\n",
       "      <td>ham</td>\n",
       "      <td>Go until jurong point, crazy.. Available only ...</td>\n",
       "      <td>111</td>\n",
       "    </tr>\n",
       "    <tr>\n",
       "      <th>1</th>\n",
       "      <td>ham</td>\n",
       "      <td>Ok lar... Joking wif u oni...</td>\n",
       "      <td>29</td>\n",
       "    </tr>\n",
       "    <tr>\n",
       "      <th>2</th>\n",
       "      <td>spam</td>\n",
       "      <td>Free entry in 2 a wkly comp to win FA Cup fina...</td>\n",
       "      <td>155</td>\n",
       "    </tr>\n",
       "    <tr>\n",
       "      <th>3</th>\n",
       "      <td>ham</td>\n",
       "      <td>U dun say so early hor... U c already then say...</td>\n",
       "      <td>49</td>\n",
       "    </tr>\n",
       "    <tr>\n",
       "      <th>4</th>\n",
       "      <td>ham</td>\n",
       "      <td>Nah I don't think he goes to usf, he lives aro...</td>\n",
       "      <td>61</td>\n",
       "    </tr>\n",
       "  </tbody>\n",
       "</table>\n",
       "</div>"
      ],
      "text/plain": [
       "  label                                            message  length\n",
       "0   ham  Go until jurong point, crazy.. Available only ...     111\n",
       "1   ham                      Ok lar... Joking wif u oni...      29\n",
       "2  spam  Free entry in 2 a wkly comp to win FA Cup fina...     155\n",
       "3   ham  U dun say so early hor... U c already then say...      49\n",
       "4   ham  Nah I don't think he goes to usf, he lives aro...      61"
      ]
     },
     "execution_count": 14,
     "metadata": {},
     "output_type": "execute_result"
    }
   ],
   "source": [
    "messages.head()"
   ]
  },
  {
   "cell_type": "code",
   "execution_count": 15,
   "metadata": {},
   "outputs": [],
   "source": [
    "import seaborn as sns\n",
    "import matplotlib.pyplot as plt\n",
    "import numpy as np\n",
    "%matplotlib inline"
   ]
  },
  {
   "cell_type": "code",
   "execution_count": 16,
   "metadata": {},
   "outputs": [
    {
     "data": {
      "text/plain": [
       "<matplotlib.axes._subplots.AxesSubplot at 0x29546e775c0>"
      ]
     },
     "execution_count": 16,
     "metadata": {},
     "output_type": "execute_result"
    },
    {
     "data": {
      "image/png": "[encoded data removed]",
      "text/plain": [
       "<matplotlib.figure.Figure at 0x29546dbbdd8>"
      ]
     },
     "metadata": {},
     "output_type": "display_data"
    }
   ],
   "source": [
    "messages['length'].plot.hist(bins=500)"
   ]
  },
  {
   "cell_type": "code",
   "execution_count": 17,
   "metadata": {},
   "outputs": [],
   "source": [
    "import string"
   ]
  },
  {
   "cell_type": "code",
   "execution_count": 18,
   "metadata": {},
   "outputs": [],
   "source": [
    "mess = 'sample string !, for checkiing punctuations'"
   ]
  },
  {
   "cell_type": "code",
   "execution_count": 19,
   "metadata": {},
   "outputs": [
    {
     "data": {
      "text/plain": [
       "'!\"#$%&\\'()*+,-./:;<=>?@[\\\\]^_`{|}~'"
      ]
     },
     "execution_count": 19,
     "metadata": {},
     "output_type": "execute_result"
    }
   ],
   "source": [
    "string.punctuation"
   ]
  },
  {
   "cell_type": "code",
   "execution_count": 20,
   "metadata": {},
   "outputs": [],
   "source": [
    "nopunc = [c for c in mess if c not in string.punctuation]"
   ]
  },
  {
   "cell_type": "code",
   "execution_count": 21,
   "metadata": {},
   "outputs": [
    {
     "data": {
      "text/plain": [
       "['sample', 'string', 'for', 'checkiing', 'punctuations']"
      ]
     },
     "execution_count": 21,
     "metadata": {},
     "output_type": "execute_result"
    }
   ],
   "source": [
    "nopunc=''.join(nopunc)\n",
    "nopunc.split()"
   ]
  },
  {
   "cell_type": "code",
   "execution_count": 22,
   "metadata": {},
   "outputs": [],
   "source": [
    "from nltk.corpus import stopwords"
   ]
  },
  {
   "cell_type": "code",
   "execution_count": 23,
   "metadata": {},
   "outputs": [],
   "source": [
    "clean_mess = [word for word in nopunc.split() if word.lower() not in stopwords.words('english')]"
   ]
  },
  {
   "cell_type": "code",
   "execution_count": 24,
   "metadata": {},
   "outputs": [
    {
     "data": {
      "text/plain": [
       "['sample', 'string', 'checkiing', 'punctuations']"
      ]
     },
     "execution_count": 24,
     "metadata": {},
     "output_type": "execute_result"
    }
   ],
   "source": [
    "clean_mess"
   ]
  },
  {
   "cell_type": "code",
   "execution_count": 25,
   "metadata": {},
   "outputs": [],
   "source": [
    "def text_process(messages):\n",
    "    nopunc= [c for c in messages if c not in string.punctuation]\n",
    "    nopunc=''.join(nopunc)\n",
    "    clean_messages = [word for word in nopunc.split() if word.lower() not in stopwords.words('english')]\n",
    "    return clean_messages"
   ]
  },
  {
   "cell_type": "code",
   "execution_count": 26,
   "metadata": {},
   "outputs": [
    {
     "data": {
      "text/html": [
       "<div>\n",
       "<style scoped>\n",
       "    .dataframe tbody tr th:only-of-type {\n",
       "        vertical-align: middle;\n",
       "    }\n",
       "\n",
       "    .dataframe tbody tr th {\n",
       "        vertical-align: top;\n",
       "    }\n",
       "\n",
       "    .dataframe thead th {\n",
       "        text-align: right;\n",
       "    }\n",
       "</style>\n",
       "<table border=\"1\" class=\"dataframe\">\n",
       "  <thead>\n",
       "    <tr style=\"text-align: right;\">\n",
       "      <th></th>\n",
       "      <th>label</th>\n",
       "      <th>message</th>\n",
       "      <th>length</th>\n",
       "    </tr>\n",
       "  </thead>\n",
       "  <tbody>\n",
       "    <tr>\n",
       "      <th>0</th>\n",
       "      <td>ham</td>\n",
       "      <td>Go until jurong point, crazy.. Available only ...</td>\n",
       "      <td>111</td>\n",
       "    </tr>\n",
       "    <tr>\n",
       "      <th>1</th>\n",
       "      <td>ham</td>\n",
       "      <td>Ok lar... Joking wif u oni...</td>\n",
       "      <td>29</td>\n",
       "    </tr>\n",
       "    <tr>\n",
       "      <th>2</th>\n",
       "      <td>spam</td>\n",
       "      <td>Free entry in 2 a wkly comp to win FA Cup fina...</td>\n",
       "      <td>155</td>\n",
       "    </tr>\n",
       "    <tr>\n",
       "      <th>3</th>\n",
       "      <td>ham</td>\n",
       "      <td>U dun say so early hor... U c already then say...</td>\n",
       "      <td>49</td>\n",
       "    </tr>\n",
       "    <tr>\n",
       "      <th>4</th>\n",
       "      <td>ham</td>\n",
       "      <td>Nah I don't think he goes to usf, he lives aro...</td>\n",
       "      <td>61</td>\n",
       "    </tr>\n",
       "  </tbody>\n",
       "</table>\n",
       "</div>"
      ],
      "text/plain": [
       "  label                                            message  length\n",
       "0   ham  Go until jurong point, crazy.. Available only ...     111\n",
       "1   ham                      Ok lar... Joking wif u oni...      29\n",
       "2  spam  Free entry in 2 a wkly comp to win FA Cup fina...     155\n",
       "3   ham  U dun say so early hor... U c already then say...      49\n",
       "4   ham  Nah I don't think he goes to usf, he lives aro...      61"
      ]
     },
     "execution_count": 26,
     "metadata": {},
     "output_type": "execute_result"
    }
   ],
   "source": [
    "messages.head()"
   ]
  },
  {
   "cell_type": "code",
   "execution_count": 27,
   "metadata": {},
   "outputs": [
    {
     "data": {
      "text/plain": [
       "0    [Go, jurong, point, crazy, Available, bugis, n...\n",
       "1                       [Ok, lar, Joking, wif, u, oni]\n",
       "2    [Free, entry, 2, wkly, comp, win, FA, Cup, fin...\n",
       "3        [U, dun, say, early, hor, U, c, already, say]\n",
       "4    [Nah, dont, think, goes, usf, lives, around, t...\n",
       "Name: message, dtype: object"
      ]
     },
     "execution_count": 27,
     "metadata": {},
     "output_type": "execute_result"
    }
   ],
   "source": [
    "messages['message'].head(5).apply(text_process)"
   ]
  },
  {
   "cell_type": "code",
   "execution_count": 28,
   "metadata": {},
   "outputs": [],
   "source": [
    "from sklearn.feature_extraction.text import CountVectorizer"
   ]
  },
  {
   "cell_type": "code",
   "execution_count": 29,
   "metadata": {},
   "outputs": [],
   "source": [
    "transformation_bow= CountVectorizer(analyzer=text_process).fit(messages['message'])"
   ]
  },
  {
   "cell_type": "code",
   "execution_count": 30,
   "metadata": {},
   "outputs": [],
   "source": [
    "mess3=messages['message'][3]"
   ]
  },
  {
   "cell_type": "markdown",
   "metadata": {},
   "source": [
    "mess3"
   ]
  },
  {
   "cell_type": "code",
   "execution_count": 31,
   "metadata": {},
   "outputs": [
    {
     "name": "stdout",
     "output_type": "stream",
     "text": [
      "11425\n"
     ]
    }
   ],
   "source": [
    "print(len(transformation_bow.vocabulary_))"
   ]
  },
  {
   "cell_type": "code",
   "execution_count": 32,
   "metadata": {},
   "outputs": [],
   "source": [
    "bow3 = transformation_bow.transform([mess3])"
   ]
  },
  {
   "cell_type": "code",
   "execution_count": 33,
   "metadata": {},
   "outputs": [
    {
     "data": {
      "text/plain": [
       "(1, 11425)"
      ]
     },
     "execution_count": 33,
     "metadata": {},
     "output_type": "execute_result"
    }
   ],
   "source": [
    "bow3.shape"
   ]
  },
  {
   "cell_type": "code",
   "execution_count": 34,
   "metadata": {},
   "outputs": [
    {
     "name": "stdout",
     "output_type": "stream",
     "text": [
      "  (0, 4068)\t2\n",
      "  (0, 4629)\t1\n",
      "  (0, 5261)\t1\n",
      "  (0, 6204)\t1\n",
      "  (0, 6222)\t1\n",
      "  (0, 7186)\t1\n",
      "  (0, 9554)\t2\n"
     ]
    }
   ],
   "source": [
    "print(bow3)"
   ]
  },
  {
   "cell_type": "code",
   "execution_count": 35,
   "metadata": {},
   "outputs": [
    {
     "name": "stdout",
     "output_type": "stream",
     "text": [
      "['0', '008704050406', '0089my', '0121', '01223585236', '01223585334', '0125698789', '02', '020603', '0207', '02070836089', '02072069400', '02073162414', '02085076972', '020903', '021', '050703', '0578', '06', '060505', '061104', '07008009200', '07046744435', '07090201529', '07090298926', '07099833605', '071104', '07123456789', '0721072', '07732584351', '07734396839', '07742676969', '07753741225', '0776xxxxxxx', '07786200117', '077xxx', '078', '07801543489', '07808', '07808247860', '07808726822', '07815296484', '07821230901', '0784987', '0789xxxxxxx', '0794674629107880867867', '0796XXXXXX', '07973788240', '07XXXXXXXXX', '07xxxxxxxxx', '0800', '08000407165', '08000776320', '08000839402', '08000930705', '08000938767', '08001950382', '08002888812', '08002986030', '08002986906', '08002988890', '08006344447', '0808', '08081263000', '08081560665', '0825', '0844', '08448350055', '08448714184', '0845', '08450542832', '08452810071', '08452810073', '08452810075over18s', '0870', '08700621170150p', '08701213186', '08701237397', '08701417012', '08701417012150p', '0870141701216', '087016248', '08701752560', '087018728737', '0870241182716', '08702490080', '08702840625', '08702840625COMUK', '08704439680', '08704439680TsCs', '08706091795', '0870737910216yrs', '08707500020', '08707509020', '0870753331018', '08707808226', '08708034412', '08708800282', '08709222922', '08709501522', '0870k', '087104711148', '08712101358', '08712103738', '0871212025016', '08712300220', '087123002209am7pm', '08712317606', '08712400200', '08712400603', '08712402050', '08712402578', '08712402779', '08712402902', '08712402972', '08712404000', '08712405020', '08712405022', '08712460324', '08712460324nat', '08712466669', '0871277810710pmin', '0871277810810', '0871277810910pmin', '087143423992stop', '087147123779am7pm', '08714712379', '08714712388', '08714712394', '08714712412', '08714714011', '08714719523', '08715203028', '08715203649', '08715203652', '08715203656', '08715203677', '08715203685', '08715203694', '08715205273', '08715500022', '08715705022', '08717111821', '08717168528', '08717205546', '08717507382', '08717507711', '08717509990', '08717890890£150', '08717895698', '08717898035', '08718711108', '08718720201', '08718723815', '08718725756', '08718726270', '08718726270150gbpmtmsg18', '08718726970', '08718726971', '08718726978', '087187272008', '08718727868', '08718727870', '08718729755', '08718729758', '08718730555', '08718730666', '08718738001', '08718738002', '08718738034', '08719180219', '08719180248', '08719181259', '08719181503', '08719181513', '08719839835', '08719899217', '08719899229', '08719899230', '09041940223', '09050000301', '09050000332', '09050000460', '09050000555', '09050000878', '09050000928', '09050001295', '09050001808', '09050002311', '09050003091', '09050005321', '09050090044', '09050280520', '09053750005', '09056242159', '09057039994', '09058091854', '09058091870', '09058094454', '09058094455', '09058094507', '09058094565', '09058094583', '09058094594', '09058094597', '09058094599', '09058095107', '09058095201', '09058097189', '09058097218', '09058098002', '09058099801', '09061104276', '09061104283', '09061209465', '09061213237', '09061221061', '09061221066', '09061701444', '09061701461', '09061701851', '09061701939', '09061702893', '09061743386', '09061743806', '09061743810', '09061743811', '09061744553', '09061749602', '09061790121', '09061790125', '09061790126', '09063440451', '09063442151', '09063458130', '0906346330', '09064011000', '09064012103', '09064012160', '09064015307', '09064017295', '09064017305', '09064018838', '09064019014', '09064019788', '09065069120', '09065069154', '09065171142stopsms08', '09065171142stopsms08718727870150ppm', '09065174042', '09065394514', '09065394973', '09065989180', '09065989182', '09066350750', '09066358152', '09066358361', '09066361921', '09066362206', '09066362220', '09066362231', '09066364311', '09066364349', '09066364589', '09066368327', '09066368470', '09066368753', '09066380611', '09066382422', '09066612661', '09066649731from', '09066660100', '09071512432', '09071512433', '09071517866', '09077818151', '09090204448', '09090900040', '09094100151', '09094646631', '09094646899', '09095350301', '09096102316', '09099725823', '09099726395', '09099726429', '09099726481', '09099726553', '09111030116', '09111032124', '09701213186', '0ANETWORKS', '1', '10', '100', '1000', '10000', '1000s', '100603', '100pSMS', '100s', '1010', '1013', '101mega', '1030', '10803', '10K', '10am', '10am7pm', '10am9pm', '10k', '10p', '10pmin', '10ppm', '10th', '11', '1120', '113', '1131', '11414', '1146', '1148', '116', '1172', '118pmsg', '11mths', '12', '120', '12000pes', '1205', '121', '1225', '123', '1230', '125gift', '128', '12Mths', '12hours', '12hrs', '12mths', '12price', '13', '130', '131004', '1327', '13404', '139', '140', '1405', '140ppm', '145', '146tf150p', '14thMarch', '150', '150P', '150PPM', '150p', '150pMSGRCVD', '150pMTmsg', '150pMsg', '150pMsgrcvdHGSuite3422LandsRowW1J6HL', '150pMt', '150pMtmsgrcvd18', '150pSMS', '150pday', '150pm', '150pmeg', '150pmin', '150pmsg', '150ppermessSubscription', '150ppm', '150ppmPOBox10183BhamB64XE', '150ppmsg', '150prcvd', '150ptext', '150ptone', '150pwk', '151', '1526', '153', '15541', '15pmin', '16', '1680', '169', '16only', '177', '18', '180', '181104', '1843', '186£150moreFrmMob', '18only', '18ptxt', '18yrs', '195', '1956669', '1AppleDayNo', '1Cup', '1DA', '1ER', '1Hanuman', '1His', '1IM', '1LemonDayNo', '1McFlyAll', '1Tulsi', '1U', '1Unbreakable', '1Winaweek', '1Winawk', '1YF', '1childish', '1hr', '1month', '1pm', '1s', '1st', '1st4Terms', '1stchoicecouk', '1stone', '1u', '1x150pwk', '2', '20', '200', '2000', '20000', '2003', '2004', '2005', '2006', '2007', '2025050', '20F', '20M12AQ', '20p', '20pmin', '21', '211104', '215', '21870000Hi', '21m', '21st', '22', '220CM2', '23', '2309', '230ish', '24', '241', '241004', '247MP', '24Hrs', '24M', '24hrs', '24th', '25', '250', '255', '25F', '25p', '260305', '261004', '261104', '2667', '26th', '2703', '27603', '28', '2814032', '285', '28days', '28th', '28thFebTCs', '290305', '29100', '29M', '2B', '2Bajarangabali', '2C', '2DOCDPLEASE', '2EZ', '2End', '2GETHA', '2GEVA', '2Hook', '2I', '2IM', '2KBSubject', '2MORO', '2MOROW', '2MORRO', '2MRW', '2MWEN', '2NITE', '2NITETELL', '2PX', '2Police', '2StopTx', '2StopTxt', '2U', '2Untamed', '2WATERSHD', '2WT', '2WU', '2When', '2bold', '2channel', '2day', '2daylove', '2exit', '2geva', '2go', '2godid', '2gthr', '2hrs', '2marrow', '2moro', '2morow', '2morro', '2morrow', '2morrowxxxx', '2mro', '2mrw', '2naughty', '2nd', '2nhite', '2nights', '2nite', '2optout', '2optoutD3WV', '2p', '2rcv', '2stop', '2stoptxt', '2u', '2u2', '2waxsto', '2wks', '2years', '2yr', '2yrs', '3', '30', '300', '3000', '300603', '300603tcsBCM4235WC1N3XXcallcost150ppmmobilesvary', '300p', '3030', '30Apr', '30pptxt', '30s', '30th', '31', '3100', '310303', '311004', '31pmsg150p', '32000', '3230', '32323', '326', '32F', '330', '350', '3510i', '35p', '3650', '36504', '3680', '3680Offer', '373', '3750', '391784', '3AJ', '3Cover', '3DB', '3G', '3GBP', '3Lions', '3MOBILE', '3Maruti', '3POUND', '3SS', '3Sentiment', '3U', '3UZ', '3Unkempt', '3Wife', '3XX', '3d', '3days', '3g', '3hrs', '3lp', '3miles', '3mins', '3optical', '3qxj9', '3rd', '3u', '3wks', '3x£150pw', '4', '40', '400', '400minsCall', '402', '4041', '40411', '40533', '40GB', '40mph', '415', '41685', '41782', '420', '42049', '4217', '42478', '42810', '430', '434', '44', '4403LDNW1A7RW18', '447797706009', '447801259231', '447per', '448712404000Please', '449050000301', '449071512431', '449month', '45', '450', '450Ppw', '450p', '450pw', '45239', '46', '47', '4712', '4742', '4882', '48922', '49557', '4BREKKIE', '4Cook', '4EVA', '4GET', '4JX', '4Lux', '4MY', '4Pavanaputra', '4Press', '4TCtxt', '4U', '4WARD', '4a', '4d', '4eva', '4few', '4fil', '4get', '4give', '4got', '4goten', '4info', '4mths', '4o', '4rowdy', '4some1', '4th', '4thNOVBEHIND', '4the', '4txt120p', '4txtú120', '4u', '4uTxt', '4ui', '4w', '4wrd', '4years', '5', '50', '500', '5000', '505060', '50p', '50s', '515', '515pm', '5226', '5249', '526', '528', '530', '532', '54', '542', '545', '5903', '5Gardener', '5Gently', '5I\\x92m', '5K', '5Sankatmochan', '5Terror', '5WB', '5WE', '5WQ', '5digital', '5free', '5ful', '5ish', '5min', '5mls', '5p', '5pm', '5th', '5we', '5wkg', '5years', '6', '600', '6031', '60400thousadi', '60P', '60pmin', '61200', '61610', '62220Cncl', '6230', '62468', '62735£450', '630', '63miles', '645', '645pm', '650', '6669', '67441233', '68866', '69101', '69200', '69669', '69696', '69698', '69855', '6986618', '69876', '69888', '69888Nyt', '69911£150p', '69969', '69988', '6Cruel', '6HL', '6HouseMaid', '6Ramaduth', '6WU', '6ZF', '6days', '6hrs', '6ish', '6missed', '6months', '6pm', '6romantic', '6th', '6times', '7', '700', '725', '7250', '7250i', '730', '730ish', '730pm', '731', '74355', '750', '7548', '7634', '7684', '7732584351', '78', '786', '7876150ppm', '78pmin', '7Children', '7Mahaveer', '7Romantic', '7WS', '7ZS', '7am', '7cfca1a', '7ish', '7oz', '7pm', '7shy', '7th', '8', '800', '8000930705', '80062', '8007', '80082', '80086', '80122300pwk', '80155', '80160', '80182', '8027', '80488', '80488biz', '80608', '8077', '80878', '80s', '81010', '81151', '81303', '81618', '816183', '82242', '82277', '82277unsub', '82324', '82468', '830', '83021', '83039', '83049', '83110', '83118', '83222', '83332Please', '83338', '83355', '83370', '83383', '83435', '83600', '83738', '84', '84025', '84122', '84128', '84128custcare', '84199', '84484', '85', '850', '85023', '85069', '85222', '85233', '8552', '85555', '86021', '861', '863', '864233', '86688', '86888', '87021', '87066', '87070', '87077', '87121', '87131', '8714714', '87239', '87575', '8800', '88039', '88039SkilGmeTsCs087147403231WinawkAge16£150perWKsub', '88066', '88088', '88222', '8830', '88600', '88800', '8883', '88877', '88877FREE', '88888', '89034', '89070', '89080', '89105', '89123', '89545', '89555', '89693', '89938', '8Attractive', '8Ball', '8Lovable', '8Neighbour', '8WP', '8am', '8hr', '8lb', '8o', '8pm', '8th', '9', '900', '9061100010', '9153', '924', '92H', '930', '945', '946', '95pax', '96', '97N7QP', '98321561', '9996', '9AE', '9YT', '9am', '9am11pm', '9decent', '9funny', '9ja', '9pm', '9t', '9th', 'A21', 'ABOUTAS', 'ABTA', 'ACCEPT', 'ACL03530150PM', 'ACTION', 'ACTUALLY', 'AD', 'ADAM', 'ADDAMSFA', 'ADP', 'ADRINK', 'AFEW', 'AFTERNOON', 'AG', 'AGAINcall', 'AGE', 'AGESRING', 'AGO', 'AGOCUSOON', 'AGreen', 'AH', 'AIG', 'AINT', 'AL', 'ALERT', 'ALETTER', 'ALEX', 'ALRITE', 'ALSO', 'ALWAYS', 'AMY', 'ANAL', 'ANNIE', 'ANS', 'ANSWER', 'ANTELOPE', 'ANYTHING', 'AOM', 'APPY', 'APRIL', 'AREA', 'ARIES', 'AROUND', 'ARR', 'ASAP', 'ASKED', 'ASLEEP', 'ASTHERE', 'ASUSUAL1', 'AUCTION', 'AUGUST', 'AV', 'AVA', 'AVE', 'AVENT', 'AWAITING', 'AWARD', 'AXIS', 'Aah', 'Aaniye', 'Aaooooright', 'Ab', 'Abbey', 'Abeg', 'Aberdeen', 'Abiola', 'Abt', 'Accept', 'Accident', 'AccommodationVouchers', 'Account', 'Accounts', 'Ache', 'Acnt', 'AcoEntry41', 'Activate', 'Active', 'Actually', 'Address', 'Admirer', 'Adrian', 'Adult', 'Aeronautics', 'Affectionate', 'Affectionsamp', 'Aft', 'AfterNoon', 'Afternoon', 'Afternoons', 'Aftr', 'Agalla', 'Age', 'Ages', 'Ah', 'Ahhh', 'Ahhhhjust', 'Ahmad', 'Aight', 'Air', 'Airtel', 'Aiya', 'Aiyah', 'Aiyar', 'Aiyo', 'Aka', 'AkonLonely', 'Al', 'AlaikkumPride', 'Alaipayuthe', 'Aldrine', 'AlertFrom', 'Alex', 'Alfie', 'Algarve', 'AllahRakhesh', 'Allahmeet', 'Allo', 'Almost', 'Already', 'Alright', 'Alrite', 'Also', 'Although', 'Always', 'Alwys', 'Amanda', 'Amazing', 'Ambrithmaduraimet', 'American', 'Ami', 'Amrca', 'Amrita', 'Amy', 'Annoying', 'Another', 'Anyone', 'Anything', 'Anytime', 'Anyway', 'Anyways', 'Apart', 'Apnt', 'Apo', 'Apparently', 'Apply', 'Apps', 'Appt', 'ArPraveesh', 'Arabian', 'Arcade', 'Ard', 'Argh', 'Argument', 'Armand', 'Arms', 'Arngd', 'Arrow', 'Arsenal', 'Arul', 'Arun', 'Ashley', 'Asian', 'Ask', 'Asking', 'Aslamalaikkuminsha', 'Astronomer', 'Athletic', 'Atlanta', 'Atlast', 'Atleast', 'Auction', 'Audrey', 'Audrie', 'August', 'Auntie', 'Australia', 'Available', 'Ave', 'Avenge', 'Awarded', 'Awesome', 'Aww', 'Awww', 'Ay', 'A£150', 'A£50', 'B', 'B4', 'B4U', 'BA128NNFWFLY150ppm', 'BABE', 'BABEPROBPOP', 'BABES', 'BABESOZI', 'BABY', 'BABYHOPE', 'BACK', 'BACKWARDS', 'BAHAMAS', 'BAILIFF', 'BAK', 'BANG', 'BANK', 'BANNEDUK', 'BARMED', 'BATH', 'BBC', 'BBDELUXE', 'BBDpooja', 'BBDthts', 'BBlue', 'BCK', 'BCM1896WC1N3XX', 'BCM4284', 'BCMSFWC1N3XX', 'BCozI', 'BEAUTIFUL', 'BED', 'BEDROOMLOVE', 'BEER', 'BEGIN', 'BELIEVE', 'BEST', 'BETTER', 'BETTERSN', 'BIDS', 'BIG', 'BILL', 'BILLING', 'BIRD', 'BIRTHDAY', 'BIT', 'BK', 'BLOKE', 'BLOKES', 'BLOODSend', 'BMW', 'BOATIN', 'BONUS', 'BOO', 'BOOKS', 'BORED', 'BORING', 'BORNPLEASE', 'BOUT', 'BOUTxx', 'BOX', 'BOX139', 'BOX334SK38ch', 'BOX385', 'BOX420', 'BOX42WR29C', 'BOX95QU', 'BOX97N7QP', 'BOYF', 'BOYFRIEND', 'BRAND', 'BREAK', 'BREAKIN', 'BREATHE1', 'BRISTOL', 'BROKE', 'BROTHER', 'BSLVYL', 'BT', 'BTHERE', 'BTW', 'BTnational', 'BTnationalrate', 'BTooth', 'BUDDY', 'BUS', 'BUTTHERES', 'BUZ', 'BYATCH', 'Baaaaaaaabe', 'Baaaaabe', 'Babe', 'Babes', 'Baby', 'BabyGoodbye', 'Back', 'Bad', 'Badrith', 'Bahamas', 'Ball', 'Balls', 'Bam', 'BangBabes', 'Bani', 'Bank', 'Barbie', 'Barkleys', 'Barry', 'Bbq', 'Bc', 'Bcm', 'Bcoz', 'Bday', 'Bears', 'Beautiful', 'Beauty', 'Bec', 'Becaus', 'Become', 'Becomes', 'Becoz', 'Beer', 'BeerRs', 'Beerage', 'Behind', 'Belovd', 'Ben', 'Bennys', 'Bergkamp', 'Best', 'Best1', 'Beth', 'Better', 'Beware', 'Big', 'Bill', 'Bin', 'Biola', 'Biro', 'Birthday', 'Bishan', 'Bit', 'Bite', 'Bits', 'Black', 'Blackim', 'Blacko', 'Blank', 'Bless', 'Blind', 'Block', 'Bloody', 'Bloomberg', 'Blu', 'Bluetooth', 'BluetoothHdset', 'Blueu', 'Bob', 'Body', 'Bognor', 'Boltblue', 'Bone', 'Bonus', 'Boo', 'Book', 'Booked', 'Bookmark', 'Boooo', 'Boost', 'Bored', 'Boss', 'Bought', 'Box', 'Box1146', 'Box177', 'Box326', 'Box334', 'Box39822', 'Box434SK38WP150PPM18', 'Box61M60', 'Boy', 'Boys', 'Brainless', 'Brandy', 'Bray', 'Brb', 'Brdget', 'Break', 'Breaker', 'Brief', 'Bright', 'Brilliant', 'Bring', 'Bristol', 'British', 'Britney', 'Broadband', 'Brother', 'Brought', 'Browni', 'Bstfrnd', 'Bt', 'Btooth', 'Btw', 'Buffy', 'Bugis', 'Building', 'Bull', 'Burger', 'Burns', 'Busy', 'Buy', 'Buzz', 'Buzzzz', 'Bx', 'Bx526', 'Bye', 'C', 'C52', 'CAKE', 'CAL', 'CALL', 'CALLED', 'CALLIN', 'CALM', 'CAME', 'CAMERA', 'CANCEL', 'CANT', 'CARD', 'CARE', 'CAREFUL', 'CARLIE', 'CASH', 'CAT', 'CATCH', 'CAUSE', 'CC', 'CD', 'CDGT', 'CDs', 'CER', 'CERI', 'CHA', 'CHANCE', 'CHARGE', 'CHARITY', 'CHAT', 'CHATLINES', 'CHECKIN', 'CHEER', 'CHEERED', 'CHEERS', 'CHILLIN', 'CHITCHAT', 'CHOSEN', 'CIN', 'CL', 'CLAIM', 'CLAIRE', 'CLUB', 'CLoSE', 'CM', 'CNN', 'COLLECT', 'COLLEGE', 'COME', 'COMIN', 'COMMON', 'COMPETITION', 'COMPLETELY', 'CONCERNED', 'CONTENTION', 'CONTRACT', 'CONVINCED', 'COOL', 'COS', 'COUNTINLOTS', 'CR01327BT', 'CR9', 'CRAZYIN', 'CREDIT', 'CRISISSPK', 'CRO1327', 'CRed', 'CSH11', 'CU', 'CULDNT', 'CUM', 'CUP', 'CUST', 'CUTE', 'CW25WX', 'CaRE', 'Cab', 'Cable', 'Cali', 'Call', 'Call2OptOut674', 'CallFREEFONE', 'Caller', 'Callers', 'Callertune', 'Calling', 'Calls', 'Calls150ppm', 'Calls£1minMobsmore', 'Calls£1minMobsmoreLKPOBOX177HP51FL', 'Calls£1minmoremobsEMSPOBox45PO139WA', 'Camcorder', 'Camera', 'CameraVideo', 'Canada', 'Canary', 'Cancel', 'Cancer', 'Cannot', 'Cant', 'Captain', 'Cardiff', 'Care', 'Career', 'Careful', 'Carlos', 'Carlosll', 'Carry', 'Case', 'Cash', 'Cashbincouk', 'Catching', 'Caught', 'Cause', 'Cbe', 'Celebrated', 'Celebrations', 'Centre', 'Cha', 'Chachi', 'Chance', 'Change', 'Channel', 'Charles', 'Chart', 'Chasing', 'Chat', 'Chat80155', 'Cheap', 'Check', 'Checkmate', 'Cheer', 'Cheers', 'Chef', 'Chikku', 'Children', 'Chinatown', 'Chinese', 'Chk', 'Chloe', 'Choose', 'Christians', 'Christmas', 'ChristmasMerry', 'Ciao', 'Cine', 'City', 'Claim', 'Classic', 'Click', 'Clos1', 'Close', 'Club', 'Club4', 'Co', 'CocaCola', 'Code', 'Code4xx26', 'Coffee', 'Cold', 'Colin', 'Colleagues', 'Collect', 'Colour', 'Com', 'Come', 'Comfort', 'Common', 'Companion', 'Company', 'Compass', 'Complete', 'Compliments', 'Concentrate', 'Confidence', 'Congrats', 'Congratulations', 'Consider', 'Contact', 'Content', 'Convey', 'Cool', 'CoolMob', 'Cornwall', 'Correct', 'Cos', 'Cost', 'Costa', 'Costs', 'Cost£150pm', 'CougarPen', 'Could', 'Courageous', 'Coz', 'Cozsomtimes', 'Cps', 'Crab', 'Crack', 'Craigslist', 'Cramps', 'Crazy', 'Credit', 'Cribbs', 'Croydon', 'Crucify', 'Crying', 'Cs', 'Ctagg', 'Ctargg', 'Cttargg', 'Ctter', 'Cttergg', 'Cud', 'Cup', 'Cust', 'CustCare08718720201', 'Customer', 'CustomerCare', 'Cut', 'Cute', 'Cutefrnd', 'Cutter', 'Cuz', 'DA', 'DABOOKS', 'DADS', 'DAMMIT', 'DAN', 'DARLIN', 'DAS', 'DATE', 'DATEBox1282EssexCM61XN', 'DAY', 'DAY2', 'DAYS', 'DAYU', 'DD', 'DE', 'DEAD', 'DECIDED', 'DEF', 'DEFO', 'DEL', 'DENA', 'DETAILS', 'DIDNT', 'DIDN\\x92T', 'DIGITAL', 'DIRTY', 'DIS', 'DISCOUNT', 'DLF', 'DOCKS', 'DOESDISCOUNTSHITINNIT', 'DOESNT', 'DOGBREATH', 'DOIN', 'DONATE', 'DONE', 'DONT', 'DONTIGNORE', 'DONTPLEASE', 'DON\\x92T', 'DOT', 'DOUBLE', 'DOWNON', 'DPS', 'DRACULA', 'DRAW', 'DREAMS', 'DREAMZ', 'DRINK', 'DRIVE', 'DRUNK', 'DUE', 'DUMB', 'DVD', 'Da', 'Dad', 'Daddy', 'Dai', 'Damn', 'Dan', 'Dare', 'Darling', 'Darren', 'Dasara', 'Dat', 'Date', 'Dates', 'Dating', 'Datz', 'Dave', 'Day', 'De', 'Deal', 'Dear', 'Dear1', 'DearMe', 'Dearregret', 'Dearshall', 'December', 'Declare', 'Deeraj', 'Def', 'Del', 'Delhi', 'Deliver', 'Delivered', 'DeliveredTomorrow', 'Delivery', 'Den', 'Dependable', 'Depends', 'Derp', 'Designation', 'Desires', 'Determined', 'Detroit', 'Devils', 'Dey', 'Dhoni', 'Dial', 'Dick', 'Dictionary', 'Didnt', 'Die', 'Digital', 'Dileepthank', 'Din', 'Ding', 'Dino', 'Dint', 'Dips', 'Direct', 'Dirty', 'Dis', 'Disconnect', 'Discussed', 'Diseases', 'Ditto', 'Divorce', 'Diwali', 'Dizzamn', 'Dizzee', 'Dload', 'Dnt', 'Doc', 'Doctor', 'Doesnt', 'Dogging', 'Doggy', 'DollD', 'Dolls', 'Dom', 'Done', 'Dont', 'Dont4get2text', 'DontCha', 'Don‘t', 'Dormitory', 'Dorothykiefercom', 'Double', 'DoubleMins', 'DoubleTxt', 'Download', 'Dozens', 'Dr', 'Draw', 'Dream', 'Drink', 'Drinks', 'Driver', 'Drop', 'Duchess', 'Dude', 'Dun', 'Dunno', 'Dvd', 'E', 'E14', 'EACHOTHER', 'EASTENDERS', 'EAT', 'EG23F', 'EH74RR', 'ELLO', 'ENC', 'END', 'ENG', 'ENGLAND', 'ENJOY', 'ENJOYIN', 'ENTER', 'ENTRY', 'ENUFCREDEIT', 'ER', 'ESPECIALLY', 'EURO', 'EURO2004', 'EVE', 'EVEN', 'EVENING', 'EVER', 'EVERY', 'EVERY1', 'EVERYTHIN', 'EVONE', 'EXACT', 'EXAMS', 'EXETER', 'EXORCIST', 'EXP', 'EXPLAIN', 'EXPLOSIVE', 'EXTREME', 'EY', 'Early', 'Earth', 'East', 'Easter', 'Easy', 'Eat', 'Eatin', 'Echo', 'Eckankar', 'Edison', 'Ee', 'Eek', 'Eerie', 'Egbon', 'Eh', 'Eire', 'Either', 'Ela', 'Election', 'Eleven', 'Elvis', 'Em', 'Email', 'Emily', 'Emotion', 'En', 'Enamous', 'End', 'Energy', 'England', 'English', 'Enjoy', 'Enna', 'Er', 'Erm', 'Err', 'Erutupalam', 'Ese', 'Especially', 'Esplanade', 'Eta', 'Eternal', 'Euro', 'Euro2004', 'EuroDisinc', 'Europe', 'Eve', 'Even', 'Evening', 'Evenings', 'Ever', 'Every', 'Everybody', 'Everyday', 'Everyone', 'Everything', 'Everytime', 'Evn', 'Evr', 'Evrey', 'Evry', 'Ew', 'Exactly', 'Exam', 'Excellent', 'Except', 'Executive', 'Exorcism', 'Expected', 'Expecting', 'Expires', 'Explain', 'Express', 'Expression', 'Extra', 'EyedDont', 'Eyes', 'F', 'FA', 'FANCY', 'FANTASIES', 'FANTASTIC', 'FANTASY', 'FAR', 'FEEL', 'FEELINGOOD', 'FFFFUUUUUUU', 'FIELDOF', 'FIFA', 'FIFTEEN', 'FIGHTS', 'FILTH', 'FINAL', 'FIND', 'FINE', 'FINEST', 'FINISH', 'FIRST', 'FIT', 'FIZZ', 'FLAG', 'FLOWER', 'FML', 'FMyou', 'FONE', 'FONIN', 'FOREVER', 'FOUNDURSELF', 'FRAN', 'FRANYxxxxx', 'FREE', 'FREE2DAY', 'FREEFONE', 'FREEMSG', 'FREENokia', 'FREEPHONE', 'FREERingtone', 'FREERingtoneReply', 'FREINDS', 'FRESHERS', 'FRIEND', 'FRIENDS', 'FRIENDSHIP', 'FRMCLOUD', 'FRND', 'FRNDS', 'FRNDSHIP', 'FROMWRK', 'FUCK', 'FUCKED', 'FUCKIN', 'FUCKING', 'FUCKINNICESELFISHDEVIOUSBITCHANYWAYI\\x92L', 'FUDGE', 'FUNNY', 'Face', 'Facebook', 'Fails', 'Fair', 'Faith', 'Fancy', 'Fantasy', 'Farrell', 'Fat', 'Fear', 'Feb', 'Feel', 'Feeling', 'Feels', 'Fffff', 'Ffffffffff', 'Fifty', 'Fighting', 'Filling', 'Fills', 'Filthy', 'Final', 'Finally', 'Find', 'Fine', 'Fingers', 'Finish', 'Finished', 'First', 'Flag', 'Flight', 'Flirt', 'Flung', 'Fml', 'Foley', 'Follow', 'Foned', 'Food', 'Fools', 'Football', 'Force', 'Forever', 'Forevr', 'Forgets', 'Forgot', 'Forwarded', 'Found', 'Fr', 'Frankie', 'Franxx', 'Fredericksburg', 'Free', 'FreeMSG', 'FreeMsg', 'FreeMsgFAV', 'FreeMsgFeelin', 'Freeentry', 'Freemessage', 'Freemsg', 'Fresh', 'Fri', 'Friday', 'Friends', 'Friendship', 'FriendshipMotherFatherTeachersChildrens', 'Frnd', 'FrogAXEL', 'Fuck', 'Full', 'Fun', 'Funny', 'Future', 'Fuuuuck', 'Fwiw', 'Fyi', 'G', 'G2', 'GAIL', 'GAILxx', 'GAME', 'GANG', 'GAS', 'GB', 'GBP', 'GBP150week', 'GBP450week', 'GBP5month', 'GBPweek', 'GENDER', 'GENT', 'GET', 'GETTIN', 'GHOST', 'GIFTS', 'GIMMI', 'GIRL', 'GIRLS', 'GIV', 'GIVE', 'GIVEN', 'GMGNGEGN', 'GMGNGEGNT', 'GMW', 'GO', 'GOD', 'GODI', 'GOIN', 'GOING', 'GONEU', 'GONNA', 'GONNAMISSU', 'GOOD', 'GOODEVENING', 'GOODFRIEND', 'GOODMORNING', 'GOODNIGHT', 'GOODNITE', 'GOODNOON', 'GOODTIMEOLI', 'GORGEOUS', 'GOSSIP', 'GOSSx', 'GOT', 'GOTMARRIED', 'GOTTA', 'GOWER', 'GR8FUN', 'GRAN', 'GRAVEL', 'GREAT', 'GROWRANDOM', 'GSOH', 'GUARANTEED', 'GUD', 'GURL', 'GWR', 'Gain', 'Gal', 'Gam', 'Game', 'Games', 'Gamestar', 'Ganesh', 'Garbage', 'Gary', 'Gay', 'Gaze', 'Gd', 'Ge', 'Gee', 'Geeee', 'Geeeee', 'Geelater', 'Genius', 'Geoenvironmental', 'Georges', 'Germany', 'Get', 'Gettin', 'Getting', 'Gibbs', 'Gift', 'Gimme', 'Gin', 'Girl', 'Girls', 'Give', 'Glad', 'Gn', 'Gnarls', 'Go', 'GoTo', 'Goal', 'God', 'Gods', 'Goin', 'Going', 'Gokila', 'GoldDigger', 'Golf', 'Good', 'Goodmorning', 'Goodmorningmy', 'Goodnight', 'Goodnoon', 'Goodo', 'Google', 'Gopalettan', 'Gosh', 'Gossip', 'Got', 'Goto', 'Gotta', 'Gr8', 'Grahmbell', 'Granite', 'Gravity', 'Grazed', 'Great', 'Greeni', 'Greetings', 'Grl', 'Grumpy', 'Gsex', 'Guai', 'Guaranteed', 'Gud', 'Gudni8', 'Gudnite', 'Gudnitetcpractice', 'Gudnyt', 'Guess', 'Guessin', 'Guide', 'Guild', 'Gumbys', 'Guy', 'Guys', 'Gyno', 'H', 'HALF', 'HAPPY', 'HARD', 'HARDCORE', 'HARDEST', 'HARRY', 'HATES', 'HAUGHAIGHGTUJHYGUJ', 'HAV', 'HAVBEEN', 'HAVEBEEN', 'HAVENT', 'HAVENTCN', 'HAVIN', 'HCL', 'HEART', 'HELL', 'HELLO', 'HELLOGORGEOUS', 'HELLOYou', 'HELP', 'HEY', 'HGSuite3422Lands', 'HGSuite3422LandsRowW1J6HL', 'HGSuite3422lands', 'HI', 'HIDE', 'HIT', 'HIYA', 'HL', 'HM', 'HMM', 'HMV', 'HMV1', 'HOLIDAY', 'HOME', 'HON', 'HONEYDID', 'HONI', 'HOPE', 'HOPEU', 'HORO', 'HOSPITAL', 'HOT', 'HOTMIX', 'HOUSE', 'HOWDY', 'HOWS', 'HOWU', 'HP20', 'HRS', 'HTTPWWWURAWINNERCOM', 'HU', 'HUN', 'HUNLOVE', 'HUNNY', 'HUNNYHOPE', 'HUNNYWOT', 'Ha', 'Habit', 'Hack', 'Haf', 'Haha', 'Hahahause', 'Hahatake', 'Hai', 'Haiyoh', 'Haiz', 'Half', 'Hallaq', 'Halloween', 'Hands', 'Handset', 'Hang', 'Hanging', 'Hanumanji', 'Happy', 'Hard', 'Hardcore', 'Hari', 'Harishs', 'Hasbroin', 'Hasnt', 'Hav', 'Havent', 'Havnt', 'Head', 'Headin', 'Headset', 'Healer', 'Hear', 'Heart', 'Hearts', 'Hee', 'Heehee', 'HehE', 'Height', 'Helen', 'Hell', 'Hello', 'HelloHow', 'Hellodrivby0quit', 'Helloooo', 'Help', 'Help08700621170150p', 'Help08714742804', 'Help08718728876', 'Helpline', 'Henry', 'Heroes', 'Heroi', 'Hes', 'Hey', 'HeyGreat', 'Hhahhaahahah', 'Hi', 'Hicts', 'Hidid', 'High', 'Hii', 'Hint', 'History', 'Hitechnical', 'Hitler', 'Hiwhat', 'Hiya', 'Hlp', 'Hm', 'Hmm', 'HmmBad', 'Hmmm', 'Hmmmbut', 'Hmmmhow', 'Hmmmkbut', 'Hmmmm', 'Hmmmstill', 'Hmmmy', 'Hmph', 'Ho', 'Hockey', 'Hogli', 'Hogolo', 'Hol', 'Holby', 'Holder', 'Holding', 'Holiday', 'Holla', 'Hols', 'Holy', 'Home', 'Homeowners', 'Honestly', 'Honey', 'Honeybee', 'Hoody', 'Hope', 'Hopefully', 'Hoping', 'Horrible', 'Hospital', 'Hospitals', 'Hostbased', 'Hot', 'Hotel', 'Hottest', 'HouseMaid', 'Howda', 'However', 'Hows', 'Howz', 'Hrishi', 'Hubby', 'Hugs', 'Huh', 'Hui', 'Hungry', 'Hurry', 'Hurt', 'Hurts', 'Hyde', 'IAS', 'IBH', 'IBHltd', 'IBN', 'ID', 'IDIOT', 'IDPS', 'IFINK', 'IG11', 'IJUST', 'IKEA', 'IKNO', 'IKNOW', 'IL', 'ILEAVE', 'ILL', 'ILLSPEAK', 'IM', 'IMAT', 'IMF', 'IMIN', 'IMPORTANT', 'INC', 'INCLU', 'INCONVENIENCE', 'INDIA', 'INDIANS', 'INDYAROCKSCOM', 'INFORM', 'INFORMATION', 'INK', 'INR', 'INSTEAD', 'INTELLIGENT', 'INTERFLORA', 'INTERVIW', 'INVITED', 'IP4', 'IQ', 'ISH', 'ISNT', 'ISVIMPORTANT', 'ITBOTH', 'ITNOW', 'ITTB', 'ITXT', 'IThis', 'ITxx', 'IVE', 'IWANA', 'Iam', 'Ibiza', 'Ic', 'Ice', 'Icic', 'Id', 'Idea', 'Identifier', 'Idk', 'Ill', 'Ilol', 'Im', 'Ima', 'Imagine', 'Immediately', 'Important', 'Imprtant', 'Including', 'Inclusive', 'Incorrect', 'Incredible', 'Indeed', 'Independence', 'India', 'Indian', 'IndianPls', 'Indians', 'Indyarockscom', 'Inever', 'Infact', 'Inform', 'Information', 'Innocent', 'Insha', 'Instant', 'Intelligent', 'Interflora', 'Intimate', 'Invaders', 'Invest', 'Iraq', 'Iriver', 'Irritates', 'IsaiahD', 'Islands', 'Isnt', 'Italian', 'Itll', 'Itna', 'Itsnot', 'Itz', 'It\\x92s', 'It‘s', 'Ive', 'Iwasmarinethat\\x92s', 'Izzit', 'I\\x92LLSPEAK', 'I\\x92m', 'I\\x92ve', 'I‘ll', 'I‘m', 'I‘ve', 'J', 'J89', 'JADE', 'JAN', 'JANE', 'JANINExx', 'JANX', 'JAZ', 'JD', 'JEN', 'JESS', 'JJC', 'JOBYET', 'JSCO', 'JSco', 'JULY', 'JUS', 'JUSWOKE', 'Jackpot', 'Jada', 'James', 'Jamster', 'JamsterGet', 'Jamz', 'Jane', 'January', 'Japanese', 'Jason', 'Jay', 'Jays', 'Jealous', 'Jen', 'Jenny', 'Jenxxx', 'Jeremiah', 'Jeri', 'Jerk', 'Jerry', 'Jersey', 'Jesus', 'Jez', 'Jia', 'Joanna', 'John', 'Join', 'Joke', 'Jokes', 'Jokin', 'Joking', 'Jolly', 'Jon', 'Jones', 'Jordan', 'JordanTxt', 'JorgeShock', 'Jos', 'Joys', 'Jst', 'Jstfrnd', 'Jsut', 'July', 'June', 'Junna', 'Jus', 'Juz', 'K', 'K52', 'K61', 'K718', 'KATE', 'KAVALAN', 'KEEP', 'KING', 'KISS', 'KL341', 'KNACKERED', 'KNOW', 'KNOWNEWAY', 'KNOWS', 'KR', 'KUDIyarasu', 'Kaiez', 'Kall', 'Kallis', 'Kanagu', 'Karaoke', 'Kate', 'Katexxx', 'Kath', 'Kay', 'Kdo', 'Keep', 'Keepintouch', 'Keng', 'Kens', 'Kent', 'Kerala', 'KeralaCircle', 'Keris', 'Kgive', 'Ki', 'Kicchu', 'Kick', 'Kids', 'Kidz', 'Kind', 'Kinda', 'Kindly', 'King', 'Kingdom', 'Kit', 'Kkadvance', 'Kkany', 'Kkapo', 'Kkare', 'Kkcongratulation', 'Kkfrom', 'Kkgoodstudy', 'Kkhow', 'Kkim', 'Kkits', 'Kkthis', 'Kkwhat', 'Kkwhen', 'Kkwhere', 'Kkwhy', 'Kkyesterday', 'Knock', 'Know', 'Kothi', 'Kthen', 'Ku', 'Kusruthi', 'Kyou', 'L', 'L8ER', 'L8R', 'L8TR', 'L8r', 'LA1', 'LA3', 'LA32WU', 'LADIES', 'LAPTOP', 'LAST', 'LATE', 'LATER', 'LAY', 'LCCLTD', 'LDN', 'LE', 'LEKDOG', 'LES', 'LET', 'LETS', 'LIFE', 'LIFT', 'LIKE', 'LIKELY', 'LIKEYOUR', 'LIKINGBE', 'LILY', 'LISTEN', 'LISTENING', 'LITTLE', 'LIVE', 'LKPOBOX177HP51FL', 'LMAO', 'LOCAL', 'LOCAXX', 'LOG', 'LOL', 'LONG', 'LONGER', 'LOOK', 'LOOKIN', 'LORD', 'LOST', 'LOT', 'LOTR', 'LOTS', 'LOU', 'LOVE', 'LOVEJEN', 'LOVEME', 'LRG', 'LS1', 'LS15HB', 'LS278BB', 'LST', 'LUCKY', 'LUCY', 'LUCYxx', 'LUSH', 'LUTON', 'LUV', 'Lacsthere', 'Ladies', 'Lancaster', 'Landline', 'Lands', 'Langport', 'Lara', 'Large', 'Last', 'Later', 'Latest', 'Laugh', 'Laughed', 'Laughing', 'Ldn', 'LdnW15H', 'LeafDayNo', 'Leannewhat', 'Leave', 'Leaving', 'Left', 'Lemme', 'Lessons', 'Let', 'Lets', 'Libertines', 'Lies', 'Life', 'Lifpartnr', 'Like', 'Lil', 'Limited', 'Lindsay', 'Line', 'Linerental', 'Lion', 'Lions', 'Litres', 'Live', 'Liverpool', 'Living', 'Lk', 'Lmao', 'Lmaonice', 'Loads', 'Loan', 'Loans', 'Log', 'Logon', 'Lol', 'Lolnice', 'Lololo', 'London', 'Long', 'LookAtMe', 'Looking', 'Looks', 'Lool', 'Loooooool', 'Loosu', 'Lots', 'Lovable', 'Love', 'Loveable', 'Loved', 'Lovely', 'Lover', 'Loverboy', 'Loves', 'Loving', 'Lowcost', 'Loyalty', 'Ltd', 'LtdHelpDesk', 'Ltd£150Mtmsgrcvd18', 'Luck', 'Luckily', 'Lucky', 'Lucozade', 'Lucy', 'Lul', 'Luv', 'Lux', 'Luxury', 'Lvblefrnd', 'M221BP', 'M227XY', 'M26', 'M263UZ', 'M39M51', 'M6', 'M95', 'MAD1', 'MAD2', 'MADE', 'MAHAL', 'MAKE', 'MALL', 'MAN', 'MANEESHA', 'MARCH', 'MARRIED', 'MARSMS', 'MAT', 'MATCH', 'MATCHED', 'MATE', 'MAYBE', 'MECAUSE', 'MEET', 'MEETIN', 'MEGA', 'MELNITE', 'MEMBERS', 'MEREMEMBERIN', 'MESSAGE', 'MESSAGEThanks', 'MESSED', 'MF', 'MFL', 'MIDNIGHT', 'MILLIONS', 'MIN', 'MINE', 'MINI', 'MINS', 'MINUTES', 'MISS', 'MISSED', 'MISSIN', 'MISSY', 'MISTAKEU', 'MITE', 'MIX', 'MK17', 'MK45', 'MMM', 'MMSto', 'MO', 'MOAN', 'MOB', 'MOBNO', 'MOMENT', 'MONKEESPEOPLE', 'MONKEYAROUND', 'MONL8RSx', 'MONO', 'MONOC', 'MOON', 'MORAL', 'MORNING', 'MOVIE', 'MOyeP', 'MP3', 'MQUIZ', 'MR', 'MRNG', 'MRur', 'MSG', 'MSGS', 'MSGWe', 'MTALK', 'MUCH', 'MUCHI', 'MUCHXXLOVE', 'MUM', 'MUMS', 'MUNSTERS', 'MUSIC', 'MUST', 'MYCALLSU', 'Maangalyam', 'Maat', 'Macedonia', 'Macha', 'Machan', 'Madamregret', 'Made', 'Mah', 'Mailbox', 'Maintain', 'Make', 'Makes', 'Making', 'Male', 'Mallika', 'Man', 'Manchester', 'Mandan', 'Mandy', 'Many', 'Map', 'March', 'Maretare', 'Margaret', 'Mark', 'Marley', 'Married', 'Marvel', 'Match', 'Mathe', 'Mathews', 'Matrix3', 'Matthew', 'Max10mins', 'May', 'Mayb', 'Maybe', 'Means', 'Meanwhile', 'Meat', 'Meds', 'Meet', 'MeetGreet', 'Meeting', 'Melle', 'Men', 'Merry', 'Message', 'Messages', 'Messagesome', 'Messaging', 'Met', 'Michael', 'Midnight', 'Might', 'Mila', 'Mileage', 'Miles', 'MilkdayNo', 'Min', 'Mind', 'Mine', 'Minimum', 'Minnaminunginte', 'Mins', 'Miserable', 'Misplaced', 'Miss', 'Missed', 'Missing', 'Mite', 'Mittelschmertz', 'Mm', 'Mmm', 'Mmmm', 'Mmmmm', 'Mmmmmm', 'Mmmmmmm', 'Mnths', 'Mob', 'MobStoreQuiz10ppm', 'MobcudB', 'Mobile', 'MobileUpd8', 'Mobiles', 'MobilesDirect', 'Mobileupd8', 'Moby', 'Mode', 'Moji', 'MojiBiola', 'Mom', 'Moment', 'Moms', 'Mon', 'Monday', 'Money', 'Monthly', 'MonthlySubscription50pmsg', 'Moon', 'Moons', 'Moral', 'MoralDont', 'MoralOne', 'Morning', 'Mornings', 'Mostly', 'Mother', 'Motherinlaw', 'Motivate', 'Motorola', 'Mountains', 'Movie', 'Mr', 'MsSuman', 'Msg', 'Msg150p', 'Msgs', 'Much', 'Muhommad', 'Multiply', 'Mum', 'Mumtaz', 'Mumtazs', 'Murdered', 'Music', 'Must', 'Musta', 'Muz', 'Mwahs', 'MySpace', 'Mystery', 'N', 'NAKED', 'NAME', 'NAME1', 'NAME2', 'NBME', 'NEED', 'NEEDS', 'NEFT', 'NEO69', 'NETHING', 'NEVA', 'NEVER', 'NEW', 'NEWQUAYSEND', 'NGage', 'NHS', 'NIC', 'NICE', 'NICHOLS', 'NIGHT', 'NITE', 'NITE2', 'NITW', 'NO1', 'NO165', 'NO434', 'NO440', 'NO762', 'NO910', 'NOK', 'NOKIA', 'NOKIA6600', 'NONENOWHERE', 'NOTHING', 'NOW1', 'NOWREPLY', 'NR31', 'NRI', 'NTT', 'NUMBER', 'NUMBERSO', 'NVQ', 'NYTHO', 'NYUSA', 'NYs', 'Nah', 'Name', 'Nan', 'Nasdaq', 'Natalie', 'Natalja', 'National', 'Nationwide', 'Natural', 'Nature', 'Near', 'Need', 'Neither', 'Neshanthtel', 'Netcollex', 'Network', 'Networking', 'Neva', 'Never', 'Neville', 'New', 'Neway', 'Newport', 'News', 'Next', 'Ni8', 'Nic', 'Nice', 'Nicenicehow', 'Nick', 'Nickey', 'Nigeria', 'Nigh', 'Night', 'Nights', 'Nikiyu4net', 'Nimbomsons', 'Nimya', 'Nimyapls', 'Nite', 'No1', 'No81151', 'No83355', 'NoWorriesLoanscom', 'Noble', 'Nobody', 'Nobut', 'Nofew', 'Nohe', 'Noi', 'Noice', 'Noits', 'Nojst', 'Nokia', 'Nokia150p', 'Nokia6650', 'Nokias', 'None', 'Nookii', 'Nooooooo', 'Noooooooo', 'Nope', 'Norcorp', 'Normal', 'Normally', 'Nothin', 'Nothing', 'Nottel', 'Nottingham', 'November', 'Now4T', 'Nowadays', 'Nt', 'Number', 'NumberRespectful', 'Nurungu', 'Nutter', 'Nver', 'Nvm', 'Nw', 'Nyt', 'NytEC2A3LPmsg150p', 'O2', 'O2FWD', 'OFFICE', 'OFSI', 'OFTEN', 'OH', 'OJA', 'OK', 'OKDEN', 'OKTAKE', 'OLD', 'ONCALL', 'ONE', 'ONLYFOUND', 'ONTO', 'OPT', 'ORANGE', 'OREOS', 'OTBox', 'OTHERWISE', 'OURBACKS', 'OUTL8RJUST', 'OUTSOMEWHERE', 'OVERDOSE', 'Obviously', 'OceanD', 'Ofcourse', 'Offer', 'OfferThe', 'Oh', 'Ohas', 'Ohi', 'Oi', 'Oic', 'Ok', 'Okay', 'Okey', 'Okie', 'Okies', 'Okok', 'Okors', 'Ola', 'Old', 'Olol', 'Omg', 'Omw', 'Onam', 'One', 'OnionRs', 'Only1more', 'Onum', 'Ooh', 'Oooh', 'Oooooh', 'Ooooooh', 'Oops', 'Open', 'Opinion', 'Opt', 'OptOut', 'Optout', 'Orange', 'Orangei', 'Oranges', 'Orchard', 'Order', 'Organizer', 'Orh', 'Oru', 'Others', 'Otherwise', 'Oyea', 'Oz', 'P', 'PA', 'PARENTS', 'PARIS', 'PARISFREE', 'PARK', 'PARTNERS', 'PARTY', 'PASS', 'PAUL', 'PAY', 'PAYED2DAY', 'PC', 'PEACH', 'PERIL', 'PERSON', 'PETE', 'PETEXXX', 'PETROL', 'PHONE', 'PHP', 'PIC', 'PICK', 'PICS', 'PICSFREE1', 'PIN', 'PISS', 'PIX', 'PLAY', 'PLEASE', 'PLEASSSSSSSEEEEEE', 'PLS', 'PLUS', 'PO', 'PO19', 'POBOX', 'POBOX11414TCRW1', 'POBOX84', 'POBOXox36504W45WQ', 'POBox', 'POBox334', 'POBox36504W45WQ', 'POBox365O4W45WQ', 'POBox84', 'POD', 'POINT', 'POKKIRI', 'POLY', 'POLY3', 'POLYC', 'POLYPHONIC', 'POLYS', 'POOR', 'PORN', 'PORTIONS', 'POST', 'POSTCARD', 'POWER', 'PPL', 'PREMIER', 'PRESCHOOLCOORDINATOR', 'PRICE', 'PRIVACY', 'PRIVATE', 'PRIZEAWAITING', 'PROBLEM', 'PROBTHAT', 'PROPERLY', 'PS', 'PSP', 'PSXTRA', 'PT2', 'PUB', 'PUTTIN', 'PX3748', 'Pa', 'Package', 'Pain', 'Painful', 'Panasonic', 'Pandy', 'Pansy', 'Panther', 'Parents', 'Paris', 'Park', 'Part', 'Partys', 'Pass', 'PasswordsATMSMS', 'Pathaya', 'Patrick', 'Payee', 'Peace', 'Peaceful', 'Penny', 'People', 'Per', 'Perhaps', 'Peripherals', 'Persian', 'Person', 'Personality', 'Pest', 'Pete', 'Peteis', 'Petey', 'Peteynoi\\x92m', 'PetrolRs', 'Pg', 'Ph08704050406', 'Pharmacy', 'Phil', 'Phoenix', 'Phone', 'Phony', 'Pic', 'Pick', 'Pics', 'Pie', 'Piggy', 'Pilates', 'Pin', 'Pink', 'Pinku', 'Pity', 'Pl', 'PlanetTalkInstantcom', 'Platt', 'Play', 'Player', 'Playin', 'Please', 'Pleasure', 'Pls', 'Plsi', 'Plus', 'Plyr', 'Plz', 'Po', 'PoBox1', 'PoBox12n146tf15', 'PoBox12n146tf150p', 'PoBox202', 'PoBox45W2TG150P', 'PoBox75LDNS7', 'PoBox84', 'PocketBabecouk', 'Points', 'Police', 'Polo', 'Poly', 'Poly200p', 'Polyphonic', 'Polys', 'Poop', 'Poor', 'PopcornJust', 'Pose', 'Potter', 'Pound', 'Poyyarikaturkolathupalayamunjalur', 'Prabhaim', 'Prabu', 'Prakesh', 'Prasanth', 'Prashanthettans', 'Pray', 'Prayrs', 'Predicte', 'Prem', 'Premaricakindly', 'Prepare', 'President', 'Presleys', 'Press', 'Prey', 'Price', 'Princess', 'Printer', 'Prize', 'Pro', 'Probably', 'Problms', 'Prof', 'Promo', 'Promotion', 'Props', 'Proverb', 'Provided', 'Pshewmissing', 'Psychiatrist', 'Psychic', 'Psychologist', 'Ptbo', 'Pub', 'Purity', 'Purpleu', 'PushButton', 'Put', 'Putting', 'Q', 'QUITE', 'QUITEAMUZING', 'Qatar', 'QatarRakhesh', 'QlynnBV', 'Que', 'Queen', 'Queries', 'Ques', 'Question', 'Questions', 'Quick', 'Quite', 'Quiz', 'QuizWin', 'Quote', 'R', 'R836', 'RALLY', 'RANDOM', 'RANG', 'RCT', 'READ', 'REAL', 'REAL1', 'REALISE', 'REALITY', 'REALLY', 'REALLYNEED', 'REALY', 'REBEL', 'RECD', 'RECEIVE', 'RECPT', 'RED', 'REGRET', 'REMEMBER', 'REMINDER', 'REPLY', 'REPLYS150', 'REPORT', 'REVEAL', 'REVISION', 'REWARD', 'RG21', 'RGENT', 'RIGHT', 'RING', 'RINGSRETURN', 'RINGTONE', 'RISE', 'RITE', 'ROMCAPspam', 'ROOM', 'ROSES', 'RP176781', 'RSTM', 'RTKIng', 'RTM', 'RTO', 'RUDI', 'RV', 'Racal', 'Rain', 'Raining', 'Raj', 'Rajipls', 'Rajitha', 'Rajnikant', 'Rally', 'Randy', 'Ranjith', 'Ranju', 'Rate', 'Rats', 'Raviyog', 'Rayman', 'Reach', 'Reaction', 'Read', 'Reading', 'Ready', 'Real', 'Really', 'Realy', 'Reason', 'Received', 'Reckon', 'Records', 'Red', 'Redim', 'Ref9280114', 'Ref9307622', 'Reference', 'Reflection', 'Refused', 'Regards', 'Registered', 'Remember', 'RememberI', 'Remembered', 'Remembr', 'Remembrs', 'Remind', 'Reminder', 'Reminding', 'Remove', 'Rent', 'Rental', 'Reply', 'Requests', 'Resend', 'Response', 'Reverse', 'Rgds', 'Ride', 'Right', 'Rightio', 'Ring', 'Ringtone', 'RingtoneFrom', 'Ringtones', 'Ringtone¡', 'Rock', 'Rodds1', 'Rodger', 'Rofl', 'Roger', 'Romantic', 'Ron', 'Rose', 'RowW1J6HL', 'RowW1JHL', 'RowW1j6HL', 'Rreveal', 'Rs', 'Rs5', 'Rum', 'Ryder', 'S3XY', 'S8', 'S89', 'SAD', 'SAE', 'SAID', 'SAM', 'SARY', 'SATJUST', 'SATLOVE', 'SATSOUND\\x92S', 'SATTHEN', 'SAUSAGELOVE', 'SAW', 'SAY', 'SCARY', 'SCOTLAND', 'SD', 'SED', 'SEE', 'SEEING', 'SEEMED', 'SEEN', 'SEENO', 'SELFINDEPENDENCE', 'SEND', 'SENDS', 'SENT', 'SERIOUSLY', 'SERVICES', 'SERVs', 'SEX', 'SEXYCHAT', 'SF', 'SHAME', 'SHEFFIELD', 'SHESIL', 'SHIT', 'SHITIN', 'SHITJUSTFOUND', 'SHOP', 'SHOW', 'SHOWR', 'SHUDVETOLD', 'SI', 'SIB', 'SIM', 'SIMPLE', 'SING', 'SIR', 'SITUATION', 'SIX', 'SK3', 'SK38XH', 'SK38xh', 'SLAP', 'SLEEPING', 'SLEEPINGWITH', 'SLEEPSWEET', 'SLEPT', 'SLO4msgs', 'SMILEY', 'SMS', 'SMSSERVICES', 'SN', 'SNAP', 'SNORINGTHEY', 'SOFA', 'SOIREE', 'SOMEONE', 'SOMETHIN', 'SOMETHING', 'SONY', 'SOO', 'SOON', 'SOONC', 'SOONLOTS', 'SORRY', 'SORTEDBUT', 'SOUNDING', 'SOZ', 'SP', 'SPAM', 'SPECIAL', 'SPECIALE', 'SPEEDCHAT', 'SPIDER', 'SPINOUT', 'SPJanuary', 'SPK', 'SPOOK', 'SPORT', 'SPORTSx', 'SPRWM', 'SPTV', 'SPTyrone', 'SPUNOUT', 'ST', 'STAPATI', 'STAR', 'STARS', 'START', 'STATION', 'STIL', 'STILL', 'STOP', 'STOP2stop', 'STOPBCM', 'STOPCS', 'STORE', 'STORES', 'STRIKE', 'STU', 'STUDENT', 'STUDENTFINANCIAL', 'STUDY', 'STUPID', 'STaY', 'SUBPOLY', 'SUE', 'SUM', 'SUMMER', 'SUMTHINxx', 'SUNDAY', 'SUPER', 'SURE', 'SURPRISE', 'SUZY', 'SW7', 'SW73SS', 'SWAN', 'SWAP', 'SWAT', 'SWEET', 'SWITCH', 'SYMPTOMS', 'SaLL', 'Sac', 'Sad', 'Saeed', 'Safe', 'Sagamu', 'Said', 'Salad', 'Salam', 'Sale', 'Sam', 'Sankranti', 'Santa', 'Santha', 'Sar', 'Sara', 'Sarcasm', 'Saristar', 'Sary', 'Sat', 'Saturday', 'SavaMob', 'Save', 'Saw', 'Say', 'Says', 'Sbut', 'Scared', 'School', 'Schools', 'Science', 'Scoring', 'Scotch', 'Scotsman', 'Sday', 'Search', 'Second', 'Secret', 'Secured', 'See', 'Seem', 'Select', 'Sen', 'Send', 'Sender', 'SenderName', 'Sending', 'Sends', 'Sent', 'SentDate', 'Senthil', 'Sept', 'Serena', 'Serious', 'Service', 'Services', 'Set', 'Seventeen', 'Sex', 'Sexy', 'Sez', 'Sfine', 'Sfrom', 'Shah', 'Shahjahan', 'Shahjahans', 'Shakespeare', 'Shall', 'Shampain', 'ShanilRakhesh', 'Shant', 'Shb', 'Shell', 'Sherawat', 'Shes', 'Shesil', 'Shhhhh', 'Shifad', 'Shijas', 'Shijutta', 'Shinco', 'Shiny', 'Shit', 'Shivratri', 'Shjas', 'Shola', 'Shop', 'ShopWe', 'Shopping', 'Shoranur', 'Short', 'Shoul', 'Show', 'ShrAcomOrSglSuplt10', 'Shuhui', 'Si', 'SiPix', 'Sian', 'Sicomo', 'Sif', 'Silent', 'Sim', 'Simple', 'Simply', 'Simpsons', 'Since', 'Sinco', 'Sindu', 'Single', 'Singles', 'Sir', 'SirI', 'SirSalam', 'SirjiI', 'Sister', 'Sitting', 'Siva', 'Skallis', 'SkilGme', 'SkillGame', 'SkillGame1Winaweek', 'Skip', 'Sky', 'Slaaaaave', 'Sleep', 'Sleeping', 'SleepwellampTake', 'Slept', 'Slide', 'Slow', 'Slowly', 'Small', 'SmartCall', 'Smile', 'SmileD', 'Smiling', 'Smith', 'SmithSwitch', 'Sms', 'Snd', 'Sno', 'Soany', 'Sol', 'Sold', 'Solve', 'Somebody', 'Someone', 'Someonone', 'Something', 'Sometimes', 'Somewhr', 'Sonetimes', 'Sony', 'SonyEricsson', 'Soon', 'Sorry', 'Sorryin', 'Sort', 'Sos', 'Soul', 'Sounds', 'Soup', 'South', 'Space', 'Spain', 'Spanish', 'Speak', 'Speaking', 'Special', 'Spending', 'Spiderman', 'Spiral', 'Spl', 'SplashMobile', 'Splat', 'Spoke', 'Spook', 'Spoons', 'Spose', 'Sppok', 'Spring', 'Sprint', 'Sptv', 'Squeeeeeze', 'Squishy', 'Sry', 'Ssi', 'Ssindia', 'Ssnervous', 'St', 'Staff', 'StarWars3', 'Start', 'Started', 'Starting', 'Starts', 'Statement', 'Stay', 'Staying', 'StdTxtRate', 'Stereophonics', 'StewartSize', 'Sthis', 'Still', 'Stockport', 'Stop', 'Stop2', 'Stoptxt', 'Storming', 'Stream', 'Street', 'Strip', 'Strokes', 'StrongBuy', 'Student', 'Studying', 'Stuff', 'Stupid', 'Stupidits', 'Stylish', 'Stylist', 'Sub', 'Subs', 'Subscribe6GBPmnth', 'Subscriber', 'Subscription', 'Subscriptn3gbpwk', 'Sugababes', 'Suganya', 'Sugar', 'Suite', 'Sullivan', 'Summer', 'Summers', 'Sun', 'Sunday', 'Sunscreen', 'Sunshine', 'Sup', 'Super', 'Superb', 'Suprman', 'Sure', 'Surely', 'Surly', 'Sux', 'Swayze', 'Sweet', 'Sweetest', 'Sweetheart', 'Swtheart', 'Symbol', 'Sympathetic', 'Syria', 'T91', 'TA', 'TAJ', 'TAKE', 'TALK', 'TALKBUT', 'TALKED', 'TALKIN', 'TALKING', 'TAMPA', 'TAROT', 'TASTS', 'TBSPERSOLVO', 'TC', 'TCLLC', 'TCRW1', 'TCs', 'TCsBCM4235WC1N3XX', 'TCsC', 'TCsstop', 'TEL', 'TELL', 'TELLMISS', 'TERMINATEDWE', 'TEX', 'TEXD', 'TEXT', 'TEXTBUDDY', 'TEXTCOMP', 'TEXTPOD', 'TEXTS', 'TH', 'THANKS', 'THANX', 'THANX4', 'THASA', 'THATMUM', 'THAT\\x92S', 'THAT\\x92SCOOL', 'THEACUSATIONS', 'THECD', 'THEMOB', 'THERES', 'THESEyours', 'THEWEND', 'THING', 'THINK', 'THNQ', 'THO', 'TIME', 'TISSCOTayseer', 'TITLE', 'TMobile', 'TOBED', 'TOCALLSHALL', 'TODAY', 'TOME', 'TOMORROW', 'TOMORW', 'TONE', 'TONES2U', 'TONESReply', 'TONEXS', 'TONIGHT', 'TONITE', 'TOOL', 'TOP', 'TOPLAY', 'TOTAL', 'TOTALLY', 'TOWN', 'TOWNCUD', 'TOWNDONTMATTER', 'TROUBLE', 'TRUBLE', 'TRUE', 'TRY', 'TSCs', 'TULIP', 'TV', 'TWILIGHT', 'TX', 'TXT', 'TXTAUCTION', 'TXTAUCTIONTxt', 'Ta', 'TaDaaaaa', 'TaKe', 'Taka', 'Take', 'Takecare', 'Takin', 'Talk', 'Tas', 'Tata', 'TayseerTISSCO', 'Tb', 'Tea', 'Teach', 'Teacher', 'Team', 'Tear', 'Tears', 'Tease', 'Tee', 'Tel', 'Telephonic', 'Teletext', 'Tell', 'Ten', 'Tenants', 'Tenerife', 'Tension', 'Teresa', 'Terms', 'Termsapply', 'Terry', 'Tessypls', 'Test', 'Text', 'Text82228', 'TextOperator', 'Texting', 'Thank', 'Thanks', 'Thanku', 'Thankyou', 'Thanx', 'Thatll', 'Thats', 'That\\x92s', 'That‘s', 'TheDailyDraw', 'TheMob', 'TheMobHit', 'TheMobYo', 'Theoretically', 'Theory', 'Therell', 'Therere', 'Theres', 'Theyre', 'Thgt', 'Thing', 'Things', 'Think', 'Thinkin', 'Thinking', 'Thinks', 'Thk', 'Thnx', 'Tho', 'Though', 'Thought', 'Thout', 'Thts', 'Thurs', 'Thursday', 'Thx', 'Thy', 'Tick', 'Tickets', 'Tiger', 'Till', 'Tim', 'Time', 'TimeGud', 'Tired', 'Tis', 'Titles', 'Tiwary', 'Tmorrowpls', 'Tmr', 'Tmrw', 'TnC', 'TnCs', 'Toa', 'Today', 'Todays', 'Todaysundaysunday', 'Toledo', 'Toll', 'Tom', 'Tomarrow', 'Tomorrow', 'Tone', 'Tones', 'Tonight', 'Took', 'Top', 'Total', 'Touch', 'Tour', 'Toxic', 'Trackmarque', 'Traditions', 'Traffic', 'Transaction', 'Trav', 'Travel', 'Treat', 'Triple', 'True', 'Truro', 'Trust', 'Truth', 'Truthful', 'Try', 'TryWALES', 'Trying', 'Ts', 'TsCs', 'TsCs08714740323', 'TsCs087147403231WinawkAge16', 'TsandCs', 'Tsunami', 'Tsunamis', 'Ttyl', 'Tues', 'Tuesday', 'Tunde', 'Tunji', 'Turns', 'Twelve', 'Twiggs', 'Twinks', 'Twittering', 'Two', 'Txt', 'Txt250com', 'TxtNO', 'Txting', 'Txts', 'Tyler', 'U', 'U2MORO', 'U4', 'UAWAKEFEELLIKW', 'UCALL', 'UIN', 'UK', 'UKP2000', 'UKmobiledate', 'UKs', 'UNBELIEVABLE', 'UNDERSTaND', 'UNI', 'UNICEFs', 'UNLIMITED', 'UP4', 'UPDAT', 'UPNOT', 'UPYEH', 'UR', 'URE', 'URFEELING', 'URGENT', 'URGOIN', 'URGRAN', 'URN', 'URSELF', 'US', 'USED', 'USER', 'UU', 'Ubi', 'Ufind', 'Ugadi', 'Ugh', 'Uh', 'Uhhhhrmm', 'Ujhhhhhhh', 'Uks', 'Ull', 'Ultimate', 'Ultimately', 'Umma', 'Ummmawill', 'Ummmmmaah', 'UnSub', 'Uncle', 'Understand', 'Unfortunately', 'Uni', 'United', 'University', 'Unless', 'Unlike', 'Unlimited', 'Unni', 'Unsecured', 'Unsub', 'Unsubscribe', 'Upd8', 'Update', 'UpdateNow', 'UpgrdCentre', 'Ups', 'Uptown', 'Ur', 'Ure', 'Urgent', 'Urgh', 'Us', 'Use', 'Usf', 'Usher', 'Usmle', 'Usually', 'Uve', 'U’ve', 'V', 'VALENTINES', 'VALUED', 'VAT', 'VCo', 'VIA', 'VIDEO', 'VILLA', 'VIOLENCE', 'VIOLET', 'VIP', 'VIVEKANAND', 'VPOD', 'VU', 'Valentine', 'Valentines', 'Valid', 'Valid12hrs', 'Valuable', 'Values', 'Vatian', 'Vegas', 'Velly', 'Velusamy', 'Verify', 'Vettam', 'ViVa', 'Video', 'Videophones', 'Videos', 'Vijay', 'Vikky', 'Village', 'Virgin', 'Voda', 'Vodafone', 'Vodka', 'Voila', 'Vote', 'Voucher', 'Vouchers', 'Vry', 'W111WX', 'W14RG', 'W1A', 'W1J', 'W4', 'W45WQ', 'WA14', 'WAIT', 'WAITING', 'WALES', 'WANNA', 'WANNATELL', 'WANT', 'WAP', 'WAY', 'WAY2SMSCOM', 'WC1N', 'WC1N3XX', 'WEDLUNCH', 'WEEK', 'WELL', 'WELLDA', 'WEN', 'WENT', 'WENWECAN', 'WEREBORED', 'WERETHE', 'WHASSUP', 'WHITE', 'WHORE', 'WID', 'WIFE', 'WILD', 'WIN', 'WINNER', 'WISH', 'WISHING', 'WITHOUT', 'WIV', 'WK', 'WKEND', 'WKENT150P16', 'WOKE', 'WOMAN', 'WOMEN', 'WONT', 'WORDS', 'WORK', 'WORLD', 'WORRIEDx', 'WORRY', 'WORRYC', 'WOT', 'WOTU', 'WOULD', 'WOULDNT', 'WOW', 'WRC', 'WRK', 'WRKI', 'WRKIN', 'WRLD', 'WRONGTAKE', 'WTF', 'WWWASJESUSCOM', 'Wa', 'Waaaat', 'Wah', 'Wahleykkumsharing', 'Wait', 'WaitU', 'Waiti', 'Waiting', 'Waitshould', 'Wake', 'Walk', 'Wan', 'Wan2', 'Wana', 'Wanna', 'Want', 'Wanting', 'Waqt', 'Warm', 'Warner', 'Wasnt', 'Waste', 'Wasted', 'Wat', 'Watch', 'Watching', 'Water', 'Wating', 'WatrDayNo', 'Wats', 'Waves', 'WeBeBurnin', 'WeLL', 'Webpage', 'Wed', 'WeddingFriend', 'Wednesday', 'Weekly', 'Weightloss', 'Weiyi', 'Welcome', 'Well', 'Welp', 'Wen', 'Wendy', 'Went', 'Westlife', 'Wet', 'Weve', 'Wewa', 'We‘re', 'Whatever', 'Whats', 'Whatsup', 'What‘s', 'Whenevr', 'Whenre', 'Whens', 'Whenwhere', 'Wheres', 'Wherevr', 'Wherres', 'Whos', 'Wicklow', 'Wif', 'Wife', 'Wifehow', 'Wil', 'Win', 'Wine', 'Wings', 'Winner', 'WinnersClub', 'Winning', 'Wins', 'Wipe', 'Wire3net', 'Wish', 'Wishing', 'Wk', 'Wkly', 'Wld', 'Wn', 'Wnevr', 'Woke', 'Woman', 'Wondering', 'Wont', 'Woo', 'Woodland', 'Woods', 'Woohoo', 'WordsEvry', 'Work', 'Working', 'World', 'Worth', 'Wot', 'Wotz', 'Would', 'Wow', 'Wright', 'Wrong', 'Wtf', 'Wuld', 'Wun', 'Wylie', 'X', 'X2', 'X29', 'X49', 'X49Your', 'XCHAT', 'XCLUSIVECLUBSAISAI', 'XMAS', 'XX', 'XXUK', 'XXX', 'XXXMobileMovieClub', 'XXXX', 'XXXXX', 'XXXXXX', 'Xavier', 'Xmas', 'XoXo', 'Xuhui', 'Xx', 'XxX', 'Xy', 'Y87', 'YA', 'YEAH', 'YEAHAND', 'YEAR', 'YEARS', 'YEH', 'YES', 'YES165', 'YES434', 'YES440', 'YES762', 'YES910', 'YEST', 'YESTERDAY', 'YET', 'YM', 'YMCA', 'YO', 'YOR', 'YOUCLEAN', 'YOURE', 'YOURJOB', 'YOUVE', 'YRS', 'YWHERE', 'Ya', 'Yagoing', 'Yahoo', 'Yalru', 'Yar', 'Yavnt', 'Yaxx', 'Yaxxx', 'Yay', 'Yeah', 'Year', 'Years', 'Yeesh', 'Yeh', 'Yellow', 'Yelowi', 'Yen', 'Yep', 'Yes', 'Yesbut', 'Yesfrom', 'Yesgauti', 'Yeshe', 'Yeshere', 'Yesim', 'Yesmum', 'Yessura', 'Yest', 'Yesterday', 'Yet', 'Yetunde', 'Yo', 'Yogasana', 'Youd', 'Youi', 'Youll', 'Youre', 'Youve', 'Yoyyooo', 'Yummmm', 'Yummy', 'Yun', 'Yunny', 'Yup', 'Yupz', 'Z', 'ZOE', 'ZOUK', 'Zahers', 'Zebra', 'Zindgi', 'Zogtorius', 'a30', 'aa', 'aathilove', 'aathiwhere', 'abdomen', 'abelu', 'abi', 'ability', 'abj', 'able', 'abnormally', 'abroad', 'absence', 'absolutely', 'abstract', 'abt', 'aburo', 'abuse', 'abusers', 'ac', 'acWicmb3cktz8r74', 'academic', 'acc', 'accent', 'accenture', 'accept', 'access', 'accessible', 'accidant', 'accident', 'accidentally', 'accommodation', 'accomodate', 'accomodations', 'accordin', 'accordingly', 'accordinglyor', 'account', 'accounting', 'accounts', 'accumulation', 'achanammaRakheshQatar', 'ache', 'achieve', 'acid', 'acknowledgement', 'across', 'acsmsrewards', 'act', 'acted', 'actin', 'acting', 'action', 'activ8', 'activate', 'activities', 'actor', 'actual', 'actually', 'ad', 'add', 'added', 'addicted', 'addie', 'adding', 'address', 'addressull', 'adds', 'adewale', 'adi', 'adjustable', 'admin', 'administrator', 'admirer', 'admission', 'admit', 'admiti', 'adore', 'adoring', 'adress', 'ads', 'adsense', 'adult', 'adults', 'advance', 'adventure', 'adventuring', 'advice', 'advise', 'advising', 'advisors', 'aeroplane', 'affair', 'affairs', 'affection', 'affectionate', 'affidavit', 'afford', 'afghanistan', 'afraid', 'africa', 'african', 'aft', 'afternon', 'afternoon', 'afterwards', 'aftr', 'againloving', 'agalla', 'age', 'age16', 'age16150ppermessSubscription', 'age23', 'agency', 'agent', 'agents', 'ages', 'agidhane', 'aging', 'ago', 'agree', 'ah', 'aha', 'ahead', 'ahgee', 'ahnow', 'ahold', 'ahsen', 'ahthe', 'ahwhat', 'aid', 'aids', 'aight', 'aint', 'air', 'air1', 'airport', 'airtel', 'ajith', 'ak', 'aka', 'al', 'albi', 'album', 'albumquite', 'alcohol', 'alert', 'alerts', 'alex', 'alexs', 'alfie', 'algebra', 'algorithms', 'ali', 'alian', 'alibi', 'alive', 'alivebetter', 'allah', 'allalo', 'allday', 'alle', 'allow', 'allowed', 'allows', 'alls', 'almost', 'alone', 'along', 'alot', 'already', 'alreadysabarish', 'alright', 'alrightOkay', 'alrite', 'alritehave', 'also', 'alsoor', 'alter', 'alternativehope', 'although', 'alwa', 'always', 'alwys', 'amazing', 'ambitious', 'american', 'amigos', 'amk', 'ammaelife', 'ammo', 'amnow', 'among', 'amongst', 'amore', 'amount', 'amp', 'amplikater', 'ams', 'amt', 'amused', 'amx', 'ana', 'analysis', 'anand', 'anderson', 'andor', 'andre', 'andres', 'andrewsboy', 'andros', 'angels', 'angry', 'animal', 'animation', 'anjie', 'anjolas', 'anna', 'annie', 'anniversary', 'annoncement', 'announced', 'announcement', 'annoyin', 'annoying', 'anonymous', 'anot', 'another', 'ans', 'ansr', 'answer', 'answered', 'answerin', 'answering', 'answers', 'answr', 'anthony', 'anti', 'antibiotic', 'anybody', 'anybodys', 'anyhow', 'anymore', 'anyone', 'anyones', 'anyplaces', 'anythiing', 'anythin', 'anything', 'anythings', 'anythingtomorrow', 'anytime', 'anyway', 'anyways', 'anywhere', 'apart', 'apartment', 'apes', 'apeshit', 'aphex\\x92s', 'apologetic', 'apologise', 'apologize', 'apology', 'app', 'apparently', 'appeal', 'appear', 'appendix', 'applebees', 'applespairsall', 'application', 'apply', 'apply2', 'applyed', 'applying', 'appointment', 'appointments', 'appreciate', 'appreciated', 'approaches', 'approaching', 'appropriate', 'approve', 'approved', 'approx', 'apps', 'appt', 'april', 'aproach', 'apt', 'aptitude', 'aquarius', 'ar', 'arab', 'archive', 'ard', 'ardÉ', 'area', 'arent', 'arestaurant', 'aretaking', 'argentina', 'argh', 'argue', 'arguing', 'argument', 'arguments', 'arise', 'arises', 'arithmetic', 'arm', 'armand', 'armands', 'armenia', 'arms', 'arng', 'arnt', 'around', 'aroundn', 'arrange', 'arranging', 'arrested', 'arrival', 'arrive', 'arrived', 'arsenal', 'art', 'artists', 'arts', 'arty', 'arun', 'asa', 'asap', 'asapok', 'asda', 'ashes', 'ashleys', 'ashwini', 'asia', 'ask', 'askd', 'asked', 'askin', 'asking', 'asks', 'asleep', 'aspects', 'ass', 'assessment', 'asshole', 'assistance', 'associate', 'assume', 'assumed', 'asthma', 'astne', 'astoundingly', 'astrology', 'asus', 'atHome', 'ate', 'atlanta', 'atlast', 'atm', 'atrocious', 'attach', 'attached', 'attack', 'attempt', 'atten', 'attend', 'attended', 'attending', 'attention', 'attitude', 'attractioni', 'attracts', 'attributed', 'atyour', 'auction', 'auctionpunj', 'audiitions', 'audition', 'audreys', 'aunt', 'aunties', 'aunts', 'aunty', 'auntys', 'aust', 'authorise', 'auto', 'autocorrect', 'av', 'availa', 'available', 'availablei', 'availablethey', 'avalarr', 'avatar', 'avble', 'ave', 'avent', 'avenue', 'avin', 'avo', 'avoid', 'avoiding', 'avoids', 'await', 'awaiting', 'awake', 'award', 'awarded', 'away', 'awesome', 'awkward', 'ax', 'ayn', 'ayo', 'b', 'b4', 'b4190604', 'b4280703', 'ba', 'babe', 'babes', 'babies', 'baby', 'babyjontet', 'babysit', 'babysitting', 'bac', 'back', 'backa', 'backdoor', 'bad', 'badass', 'badly', 'bag', 'bagi', 'bags', 'baig', 'bak', 'bakra', 'bakrid', 'balance', 'baller', 'balloon', 'bambling', 'band', 'bandages', 'bang', 'bangb', 'bank', 'banks', 'banned', 'banter', 'bao', 'bar', 'barcelona', 'bare', 'barely', 'bari', 'barolla', 'barred', 'barrel', 'barring', 'bars', 'base', 'bash', 'basic', 'basically', 'basketball', 'baskets', 'basqihave', 'bat', 'batch', 'batchlor', 'bath', 'bathe', 'bathing', 'bathroom', 'batsman', 'batt', 'battery', 'battle', 'bawling', 'bay', 'bb', 'bbs', 'bc', 'bcaz', 'bck', 'bcoz', 'bcum', 'bcums', 'bcz', 'bday', 'beach', 'beads', 'bear', 'bears', 'beatings', 'beauties', 'beautiful', 'beautifulMay', 'beauty', 'bec', 'becausethey', 'become', 'becoz', 'becz', 'bed', 'bedbut', 'bedreal', 'bedrm', 'bedrm900', 'bedroom', 'beeen', 'beehoon', 'beendropping', 'beer', 'beers', 'befor', 'beforehand', 'beforewent', 'beg', 'beggar', 'begging', 'begin', 'begins', 'begun', 'behalf', 'behave', 'behind', 'bein', 'believe', 'belive', 'bell', 'bellearlier', 'belligerent', 'belly', 'belong', 'belongs', 'belovd', 'beloved', 'belt', 'ben', 'bend', 'beneath', 'beneficiary', 'benefits', 'beside', 'best', 'bestcongrats', 'bestrply', 'bet', 'beta', 'betta', 'better', 'beverage', 'bevieswaz', 'beyond', 'bf', 'bffs', 'bfore', 'bhaskar', 'bhayandar', 'bian', 'biatch', 'bid', 'bids', 'big', 'bigger', 'biggest', 'bike', 'bill', 'billed', 'billion', 'bills', 'billy', 'bilo', 'bimbo', 'bin', 'biolas', 'bird', 'birds', 'birla', 'birth', 'birthdate', 'birthday', 'bishan', 'bit', 'bitch', 'bitching', 'bite', 'bites', 'bk', 'black', 'blackand', 'blackberry', 'blah', 'blakes', 'blame', 'blank', 'blanked', 'blanket', 'blankets', 'blastin', 'bleak', 'bleh', 'bless', 'blessed', 'blessget', 'blessing', 'blessings', 'blimey', 'block', 'blocked', 'blog', 'blogging', 'bloke', 'blokes', 'blonde', 'bloo', 'blood', 'bloodblood', 'bloody', 'bloombergcom', 'blow', 'blowing', 'blown', 'blue', 'bluff', 'blur', 'bluray', 'board', 'boat', 'body', 'boggy', 'bold', 'bold2', 'bollox', 'bomb', 'bone', 'bong', 'bonus', 'boo', 'boobs', 'book', 'booked', 'bookedthe', 'booking', 'books', 'bookshelf', 'boost', 'booty', 'bootydelious', 'borderline', 'bored', 'borin', 'boring', 'born', 'borrow', 'boss', 'boston', 'bot', 'bother', 'bothering', 'bottle', 'bottom', 'bought', 'bought\\x94braindance\\x94a', 'boundaries', 'bout', 'bowa', 'bowl', 'bowls', 'box', 'box245c2150pm', 'box334sk38ch', 'box403', 'boy', 'boye', 'boyfriend', 'boys', 'boytoy', 'boyy', 'bpo', 'brah', 'brain', 'brains', 'brainy', 'brand', 'bras', 'brats', 'braved', 'bread', 'breadstick', 'break', 'breakfast', 'breaking', 'breaks', 'breath', 'breathe', 'breather', 'breathing', 'breeze', 'breezy', 'bribe', 'bridge', 'bridgwater', 'brief', 'bright', 'brighten', 'brilliant', 'brilliant1thingi', 'brilliantly', 'brin', 'bring', 'bringing', 'brings', 'brisk', 'brison', 'bro', 'broad', 'broke', 'broken', 'brolly', 'bros', 'broth', 'brothas', 'brother', 'brothers', 'brother‘s', 'brought', 'brownie', 'brownies', 'browse', 'browser', 'browsin', 'bruce', 'brum', 'bruv', 'bsn', 'bsnl', 'bt', 'bthmm', 'btw', 'btwn', 'bucks', 'bud', 'buddys', 'budget', 'buen', 'buff', 'buffet', 'bugis', 'build', 'building', 'built', 'bulbs', 'bullshit', 'bunch', 'bundle', 'bunkers', 'buns', 'burden', 'burger', 'burgundy', 'burial', 'burn', 'burning', 'burns', 'burnt', 'burrito', 'bus', 'bus822656166382', 'buses', 'busetop', 'business', 'busty', 'busy', 'busyi', 'butt', 'butting', 'buttons', 'buy', 'buyer', 'buyers', 'buying', 'buzy', 'buzz', 'bw', 'bx420', 'bx420ip45we', 'bye', 'by\\x94leafcutter', 'b\\x92day', 'b‘ham', 'c', 'cThen', 'cabin', 'cafe', 'cage', 'cake', 'caken', 'cakes', 'cal', 'calculated', 'calculation', 'calicut', 'california', 'calis', 'call', 'call09050000327', 'call2optout4QF2', 'call2optoutF4Q', 'call2optoutHF8', 'call2optoutJ', 'call2optoutJ5Q', 'call2optoutLF56', 'call2optoutN9DX', 'call2optoutYHL', 'callback', 'callcost', 'callcoz', 'calld', 'calldrove', 'called', 'caller', 'callertune', 'callin', 'calling', 'callingForgot', 'callon', 'calls', 'callsmessagesmissed', 'callurgent', 'calm', 'cam', 'camcorder', 'came', 'camera', 'cameravideo', 'camp', 'campus', 'camry', 'canada', 'canal', 'cancel', 'canceled', 'cancelled', 'cancer', 'candont', 'canlove', 'canname', 'cannot', 'cannt', 'cant', 'cantdo', 'canteen', 'can\\x92t', 'can‘t', 'capacity', 'capital', 'cappuccino', 'caps', 'captain', 'captaining', 'car', 'card', 'cardiff', 'cardin', 'cards', 'care', 'careabout', 'cared', 'career', 'careful', 'carefully', 'careinsha', 'careless', 'carente', 'cares', 'careswt', 'careumma', 'carewhoever', 'caring', 'carlin', 'carlos', 'carly', 'carolina', 'caroline', 'carpark', 'carry', 'carryin', 'cars', 'carso', 'cartons', 'cartoon', 'case', 'cash', 'cashbalance', 'cashed', 'cashin', 'cashto', 'casing', 'cast', 'casting', 'castor', 'casualty', 'cat', 'catch', 'catches', 'catching', 'categories', 'caught', 'cause', 'causes', 'causing', 'cave', 'caveboy', 'cbe', 'cc100pmin', 'ccna', 'cd', 'cedar', 'ceiling', 'celeb', 'celeb4', 'celebrate', 'celebration', 'cell', 'census', 'center', 'centre', 'century', 'cereals', 'certainly', 'certificate', 'cha', 'chad', 'chain', 'challenge', 'challenging', 'champ', 'champlaxigating', 'champneys', 'chance', 'chances', 'change', 'changed', 'changes', 'changing', 'channel', 'chapel', 'chaps', 'chapter', 'character', 'characters', 'charge', 'charged', 'charged150pmsg2', 'charges', 'charity', 'charles', 'charlie', 'charming', 'chart', 'charts', 'chase', 'chasing', 'chastity', 'chat', 'chatIm', 'chatter', 'chatting', 'cheap', 'cheaper', 'cheat', 'cheating', 'chechi', 'check', 'checkboxes', 'checked', 'checking', 'checkup', 'cheek', 'cheers', 'cheery', 'cheese', 'cheesy', 'cheetos', 'chennai', 'chennaibecause', 'chennaii', 'cheque', 'cherish', 'cherthalain', 'chess', 'chest', 'chex', 'cheyyamoand', 'chez', 'chg', 'chgs', 'chic', 'chick', 'chicken', 'chickened', 'chief', 'chik', 'chikku', 'chikkuB', 'chikkuDB', 'chikkuali', 'chikkugoing', 'chikkuil', 'chikkuk', 'chikkusimple', 'chikkuwat', 'child', 'childish', 'childporn', 'children', 'childs', 'chile', 'chill', 'chillaxin', 'chillin', 'china', 'chinchillas', 'chinese', 'chinky', 'chiong', 'chip', 'chocolate', 'choice', 'choices', 'choose', 'choosing', 'chop', 'chords', 'chores', 'chosen', 'chrgd50p', 'christ', 'christmas', 'christmassy', 'chuck', 'chuckin', 'church', 'cine', 'cinema', 'citizen', 'city', 'citylink', 'claim', 'claimcode', 'claims', 'claire', 'clarification', 'clarify', 'clas', 'clash', 'class', 'classes', 'classmates', 'claypot', 'cld', 'clean', 'cleaning', 'clear', 'cleared', 'clearer', 'clearing', 'clearly', 'clever', 'click', 'cliff', 'cliffs', 'clip', 'clock', 'clocks', 'close', 'closeby', 'closed', 'closedincluding', 'closer', 'closes', 'closingdate040902', 'cloth', 'clothes', 'cloud', 'clover', 'club', 'club4mobilescom', 'clue', 'cm', 'cme', 'cmon', 'cn', 'cnl', 'coach', 'coast', 'coat', 'coaxing', 'coccooning', 'cochin', 'cock', 'cocksuckers', 'coco', 'code', 'coffee', 'coherently', 'coimbatore', 'coin', 'coincidence', 'coins', 'colany', 'cold', 'coldheard', 'collages', 'collapsed', 'collect', 'collected', 'collecting', 'collection', 'colleg', 'college', 'collegexx', 'color', 'colour', 'colourful', 'colourredtextcolourTXTstar', 'colours', 'comb', 'combination', 'combine', 'come', 'comedy', 'comedycant', 'comei', 'comes', 'cometil', 'comfey', 'comfort', 'comin', 'coming', 'comingdown', 'comingtmorow', 'command', 'comment', 'commercial', 'commit', 'common', 'community', 'comp', 'companies', 'company', 'compare', 'compensation', 'competition', 'complacent', 'complain', 'complaining', 'complaint', 'complementary', 'complete', 'completed', 'completely', 'completes', 'completing', 'complexities', 'complimentary', 'compofstuff', 'comprehensive', 'compromised', 'compulsory', 'computational', 'computer', 'computerless', 'computers', 'comuk220cm2', 'conacted', 'concentrate', 'concentrating', 'concentration', 'concern', 'concert', 'conclusion', 'condition', 'conditionand', 'conditions', 'conducts', 'conected', 'conference', 'confidence', 'configure', 'confirm', 'confirmd', 'confirmdeny', 'confirmed', 'conform', 'confused', 'confuses', 'congrats', 'connect', 'connected', 'connection', 'connections', 'cons', 'consensus', 'consent', 'conserve', 'consider', 'considering', 'consistently', 'console', 'constant', 'constantly', 'contact', 'contacted', 'contacts', 'contains', 'content', 'contented', 'contents', 'continent', 'continue', 'continued', 'contract', 'contribute', 'control', 'convenience', 'conversations', 'converted', 'converter', 'convey', 'conveying', 'convince', 'convincing', 'convincingjust', 'cook', 'cooked', 'cookies', 'cooking', 'cool', 'cooped', 'cooperative', 'copied', 'copies', 'coping', 'cops', 'copy', 'corect', 'cornwall', 'corporation', 'corrct', 'correct', 'correction', 'correctionor', 'correctly', 'corrupt', 'corvettes', 'cos', 'cosign', 'cost', 'costing', 'costs', 'costume', 'costumes', 'cost£375max', 'couch', 'cough', 'coughing', 'could', 'coulda', 'couldnt', 'couldn\\x92t', 'count', 'countin', 'country', 'counts', 'coupla', 'couple', 'courage', 'course', 'court', 'courtroom', 'cousin', 'cover', 'coveragd', 'covers', 'coz', 'cozy', 'cr', 'crab', 'crammed', 'cramps', 'crap', 'crash', 'crashed', 'crashing', 'crave', 'craving', 'craziest', 'crazy', 'cream', 'created', 'creative', 'creativity', 'credit', 'credited', 'credits', 'creep', 'creepy', 'cresubi', 'cricket', 'cricketer', 'crickiting', 'cried', 'crisis', 'crore', 'cross', 'crossing', 'crowd', 'crucial', 'cruise', 'cruisin', 'crushes', 'cry', 'cs', 'cst', 'cstore', 'ctla', 'cuck', 'cud', 'cuddle', 'cuddled', 'cuddling', 'cudnt', 'cultures', 'cum', 'cumin', 'cumming', 'cup', 'cupboard', 'cuppa', 'curfew', 'curious', 'current', 'currently', 'curry', 'curtsey', 'cust', 'custcare', 'custom', 'customer', 'customers', 'customersqueriesnetvisionukcom', 'cut', 'cute', 'cutest', 'cutie', 'cutting', 'cuz', 'cya', 'cyclists', 'cysts', 'da', 'daal', 'daalways', 'dabbles', 'dad', 'daddy', 'dado', 'dads', 'dagood', 'dahe', 'dahow', 'dai', 'daily', 'dajst', 'damn', 'danalla', 'dancce', 'dance', 'dancin', 'dancing', 'dane', 'dang', 'danger', 'dangerous', 'dao', 'daplease', 'dare', 'dark', 'darker', 'darkest', 'darkness', 'darlin', 'darling', 'darlings', 'darlinim', 'darren', 'dartboard', 'dat', 'data', 'date', 'dates', 'dating', 'datingi', 'datoday', 'dats', 'daurgent', 'dawhats', 'dawhere', 'dawns', 'day', 'day2find', 'dayexcept', 'dayhas', 'days', 'dayshe', 'daysso', 'dayswill', 'daysèn', 'daytime', 'daywith', 'de', 'dead', 'deadWell', 'deal', 'dealFarm', 'dealer', 'dealers', 'dealing', 'deals', 'deam', 'dear', 'dearRakhesh', 'dearer', 'deari', 'dearloving', 'dearly', 'dearslp', 'deartake', 'deary', 'death', 'debating', 'dec', 'decades', 'decide', 'decided', 'deciding', 'decimal', 'decision', 'decisions', 'deck', 'decking', 'decorating', 'dedicate', 'dedicated', 'deduct', 'deep', 'deepak', 'deepest', 'deer', 'def', 'defeat', 'defer', 'definite', 'definitely', 'definitly', 'degree', 'degrees', 'dehydrated', 'dehydration', 'del', 'delTOMORROW', 'delay', 'delayed', 'delete', 'deleted', 'delicious', 'deliver', 'delivered', 'delivery', 'deluxe', 'dem', 'demand', 'den', 'dengra', 'denis', 'dent', 'dental', 'dentist', 'dentists', 'denying', 'department', 'dependents', 'depends', 'deposit', 'deposited', 'depressed', 'depression', 'dept', 'der', 'derek', 'dereks', 'describe', 'description', 'desert', 'deserve', 'desk', 'desparate', 'desparately', 'desperate', 'despite', 'dessert', 'destination', 'destiny', 'detail', 'detailed', 'details', 'detailsi', 'determine', 'deus', 'develop', 'developed', 'developer', 'device', 'devouring', 'dey', 'deyhope', 'deyi', 'dha', 'dhina', 'dhorte', 'di', 'dial', 'dialling', 'dialogue', 'diamond', 'diamonds', 'diapers', 'dice', 'dick', 'dict', 'dictionary', 'diddy', 'didnt', 'didntgive', 'didn\\x92t', 'didn‘t', 'didt', 'die', 'died', 'diesel', 'diet', 'dieting', 'diff', 'differ', 'differbe', 'difference', 'differences', 'different', 'difficult', 'difficulties', 'dificult', 'digi', 'digital', 'digits', 'dignity', 'dime', 'dimension', 'din', 'dine', 'dined', 'dinero', 'ding', 'dining', 'dinner', 'dinnermsg', 'dint', 'dippeditinaDEW', 'direct', 'directly', 'director', 'directors', 'dirt', 'dirtiest', 'dirty', 'dis', 'disagreeable', 'disappeared', 'disappointment', 'disaster', 'disasters', 'disastrous', 'disc', 'disclose', 'disconnected', 'discount', 'discreet', 'discuss', 'discussed', 'diskyou', 'dislikes', 'dismay', 'dismissial', 'display', 'distance', 'distract', 'disturb', 'disturbancemight', 'disturbing', 'divert', 'division', 'divorce', 'diwali', 'dl', 'dled', 'dnt', 'doInterested', 'dob', 'dobby', 'dobbys', 'doc', 'dock', 'docs', 'doctor', 'doctors', 'documents', 'dodda', 'dodgey', 'doesnt', 'doesn\\x92t', 'doesn‘t', 'dog', 'dogg', 'doggin', 'dogging', 'doggy', 'dogs', 'dogwood', 'doin', 'doinat', 'doingWhat', 'doinghow', 'doinnearly', 'doke', 'dokey', 'dollar', 'dollars', 'domain', 'donate', 'done', 'donewant', 'donno', 'dont', 'donyt', 'don\\x92t', 'don‘t', 'dooms', 'door', 'doors', 'dorm', 'dose', 'dosomething', 'dot', 'double', 'doublefaggot', 'doubles', 'doubt', 'doug', 'dough', 'download', 'downloaded', 'downloads', 'downs', 'downstem', 'dr', 'drama', 'dramastorms', 'dramatic', 'drastic', 'draw', 'drawPlease', 'draws', 'dreading', 'dream', 'dreamlove', 'dreams', 'dreamsMuah', 'dreamstake', 'dreamsu', 'dress', 'dressed', 'dresser', 'drink', 'drinkin', 'drinking', 'drinkpa', 'drinks', 'drive', 'driver', 'drivin', 'driving', 'drizzling', 'drms', 'drmstake', 'drop', 'dropped', 'drops', 'drove', 'drpd', 'drug', 'drugdealer', 'drugs', 'drum', 'drunk', 'drunkard', 'drunken', 'drvgsTo', 'dry', 'dryer', 'dsnt', 'dt', 'dual', 'dub', 'dubsack', 'ducking', 'dude', 'dudes', 'dudette', 'due', 'duffer', 'dull', 'dumb', 'dump', 'dun', 'dungerees', 'dunno', 'duo', 'durban', 'durham', 'dusk', 'dust', 'duvet', 'dvg', 'dwn', 'dying', 'dysentry', 'e', 'ear', 'earlier', 'earlierwe', 'earliest', 'early', 'earn', 'earning', 'ears', 'earth', 'earthsofa', 'easier', 'easiest', 'easily', 'east', 'easter', 'easy', 'eat', 'eaten', 'eatin', 'eating', 'ebay', 'ec2a', 'ecstacy', 'ecstasy', 'edge', 'edhae', 'edition', 'edrunk', 'education', 'educational', 'edukkukayee', 'edward', 'edwards', 'ee', 'eerie', 'eerulli', 'effect', 'effects', 'efficient', 'efreefone', 'eg', 'eg23G', 'egg', 'eggpotato', 'eggs', 'eggspert', 'ego', 'eh', 'eight', 'eighth', 'eightish', 'either', 'el', 'ela', 'elaborate', 'elaborating', 'elaine', 'elama', 'elaya', 'eldest', 'elections', 'electricity', 'elephant', 'elliot', 'else', 'elsewhere', 'em', 'email', 'emailed', 'embarassed', 'embarassing', 'embarrassed', 'embassy', 'emergency', 'emerging', 'emigrated', 'employee', 'employers', 'empty', 'en', 'end', 'ended', 'ending', 'endless', 'endof', 'endowed', 'ends', 'enemies', 'enemy', 'energy', 'engaged', 'engagement', 'engalnd', 'engin', 'england', 'english', 'enjoy', 'enjoyed', 'enjoying', 'enketa', 'ennal', 'enough', 'enter', 'entered', 'enters', 'entertain', 'entertaining', 'entey', 'entire', 'entirely', 'entitled', 'entrepreneurs', 'entropication', 'entry', 'enuff', 'envelope', 'envy', 'epi', 'epsilon', 'equally', 'ericson', 'ericsson', 'erotic', 'error', 'errors', 'ertini', 'eruku', 'erupt', 'erything', 'esaplanade', 'escalator', 'escape', 'ese', 'eshxxxxxxxxxxx', 'especially', 'espell', 'esplanade', 'essay', 'essential', 'establish', 'eta', 'etc', 'ethnicity', 'ethreats', 'ettans', 'europe', 'evaluation', 'evaporated', 'eve', 'eveB', 'evei', 'even', 'evening', 'evenings', 'event', 'events', 'eventually', 'ever', 'every', 'everybody', 'everybodys', 'everyboy', 'everyday', 'everyone', 'everyones', 'everyso', 'everything', 'everywhere', 'evey', 'eviction', 'evil', 'evn', 'evng', 'evo', 'evry1', 'evrydy', 'ex', 'exact', 'exactly', 'exam', 'exams', 'excellent', 'except', 'exchanged', 'excited', 'exciting', 'excuse', 'excused', 'excuses', 'exe', 'executive', 'exercise', 'exeter', 'exhaust', 'exhausted', 'exhibition', 'exist', 'exmpel', 'expect', 'expecting', 'expects', 'expensive', 'experience', 'experiencehttpwwwvouch4mecometlpdiningasp', 'experiment', 'expert', 'expired', 'expiredso', 'expiry', 'explain', 'explicit', 'explicitly', 'exposed', 'exposes', 'express', 'expression', 'ext', 'exterminator', 'extra', 'extract', 'exwife', 'ey', 'eye', 'eyes', 'e£nd', 'f', 'fab', 'faber', 'face', 'faceasssssholeeee', 'facebook', 'facilities', 'fact', 'factory', 'facts', 'faded', 'faggy', 'faglord', 'failed', 'failing', 'failure', 'fainting', 'fair', 'faithEvening', 'fake', 'fakemy', 'fakeyes', 'fal', 'falconerf', 'fall', 'fallen', 'falling', 'falls', 'fals', 'famamus', 'familiar', 'family', 'familymay', 'famous', 'fan', 'fancied', 'fancies', 'fancy', 'fans', 'fantasies', 'fantastic', 'fantasy', 'far', 'farm', 'farting', 'fassyole', 'fast', 'faster', 'fastest', 'fastpls', 'fat', 'fated', 'father', 'fathima', 'fats', 'fatty', 'fault', 'faultal', 'faultfed', 'fav', 'fave', 'favor', 'favorite', 'favour', 'favourite', 'fb', 'fear', 'feathery', 'features', 'feb', 'febapril', 'february', 'fedex', 'feed', 'feel', 'feelin', 'feeling', 'feelingwavering', 'feels', 'fees', 'feet', 'fell', 'fellow', 'felt', 'female', 'feng', 'festival', 'fetch', 'fetching', 'fever', 'fgkslpo', 'fgkslpoPW', 'fidalfication', 'field', 'fiendmake', 'fifteen', 'fifth', 'fight', 'fighting', 'fightng', 'fights', 'figure', 'figures', 'figuring', 'file', 'files', 'fill', 'filled', 'filling', 'fills', 'film', 'films', 'filthy', 'filthyguys', 'final', 'finalise', 'finally', 'finance', 'financial', 'find', 'finding', 'finds', 'fine', 'fineInshah', 'fineabsolutly', 'finewhen', 'fingers', 'finish', 'finishd', 'finished', 'finishes', 'finishing', 'fink', 'finns', 'fire', 'fired', 'firefox', 'fireplace', 'firesAre', 'firmware', 'firsg', 'first', 'fish', 'fishhead', 'fishrman', 'fit', 'fiting', 'five', 'fix', 'fixd', 'fixed', 'fixedline', 'fixes', 'flag', 'flaked', 'flaky', 'flame', 'flash', 'flat', 'flatter', 'flavour', 'flea', 'fletcher', 'flew', 'flies', 'flight', 'flights', 'flim', 'flip', 'flippin', 'flirt', 'flirting', 'floating', 'flood', 'floor', 'floppy', 'florida', 'flow', 'flower', 'flowers', 'flowing', 'fluids', 'flurries', 'flute', 'fly', 'flyim', 'flying', 'flyng', 'fml', 'fne', 'fo', 'fold', 'folks', 'follow', 'followed', 'followin', 'following', 'follows', 'fond', 'fondly', 'fone', 'fones', 'food', 'fool', 'fooled', 'foot', 'football', 'footblcrckt', 'footie', 'footprints', 'footy', 'force', 'forced', 'foregate', 'foreign', 'forever', 'forevr', 'forfeit', 'forget', 'forgets', 'forgive', 'forgiven', 'forgiveness', 'forgot', 'forgotten', 'forgt', 'formal', 'formallyPls', 'format', 'formatting', 'formclark', 'forms', 'formsdon', 'forth', 'fortune', 'forum', 'forums', 'forward', 'forwarded', 'forwarding', 'for£38', 'found', 'four', 'fourth', 'foward', 'fowler', 'fox', 'fps', 'fr', 'fraction', 'frankgood', 'frauds', 'freak', 'freaked', 'freaking', 'freaky', 'free', 'freedom', 'freefone', 'freek', 'freely', 'freesend', 'freezing', 'fren', 'french', 'frens', 'frequently', 'fret', 'fri', 'friday', 'fridayhope', 'fridays', 'fridge', 'fried', 'friend', 'friendofafriend', 'friends', 'friendsare', 'friendship', 'friendships', 'fring', 'fringe', 'frm', 'frnd', 'frndZ', 'frnds', 'frndship', 'frndshp', 'frndsship', 'frnt', 'fro', 'frog', 'fromm', 'front', 'frontierville', 'frosty', 'fruit', 'frwd', 'frying', 'ft', 'fuck', 'fucked', 'fuckin', 'fucking', 'fucks', 'fuelled', 'fujitsu', 'ful', 'fulfil', 'full', 'fullonsmscom', 'fumbling', 'fun', 'function', 'functions', 'fund', 'fundamentals', 'funeral', 'funk', 'funky', 'funny', 'funs', 'furniture', 'fusion', 'future', 'fyi', 'g', 'g696ga', 'gET', 'gOoD', 'ga', 'gain', 'gained', 'gal', 'galcan', 'galileo', 'galno', 'gals', 'galsU', 'game', 'games', 'gandhipuram', 'ganesh', 'gang', 'gap', 'gaps', 'garage', 'garbage', 'garden', 'gari', 'garments', 'gas', 'gastroenteritis', 'gate', 'gauge', 'gautham', 'gave', 'gay', 'gayD', 'gayle', 'gays', 'gaytextbuddycom', 'gbpsms', 'gd', 'gdeve', 'gdnow', 'gdthe', 'ge', 'gei', 'gek1510', 'general', 'generally', 'genes', 'genius', 'gentle', 'gentleman', 'gently', 'genuine', 'genus', 'gep', 'ger', 'get', 'get4an18th', 'getiing', 'geting', 'gets', 'getsleep', 'getstop', 'gettin', 'getting', 'getzedcouk', 'gf', 'ghodbandar', 'gibbs', 'gibe', 'gift', 'gifted', 'giggle', 'gigolo', 'gimme', 'girl', 'girld', 'girlfrnd', 'girlie', 'girls', 'gist', 'giv', 'give', 'given', 'gives', 'giving', 'givits', 'glad', 'glands', 'glasgow', 'glass', 'glo', 'global', 'glorious', 'glory', 'gloucesterroad', 'go', 'go2', 'go2sri', 'goa', 'goal', 'goals', 'goalsteam', 'gobi', 'god', 'godYou', 'godnot', 'gods', 'godtaken', 'goes', 'goggles', 'goigng', 'goin', 'goin2bed', 'going', 'gold', 'golden', 'goldviking', 'gon', 'gona', 'gone', 'gong', 'gonna', 'gooD', 'good', 'gooddhanush', 'goodenvironment', 'goodfine', 'goodies', 'goodmate', 'goodnight', 'goodnite', 'goodno', 'goods', 'goodwhen', 'google', 'gorgeous', 'gossip', 'got', 'gota', 'gotany', 'goto', 'gotta', 'gotten', 'gotto', 'goverment', 'govtinstituitions', 'gowait', 'gprs', 'gpu', 'gr8', 'gr8prizes', 'grab', 'grace', 'graduated', 'gram', 'grams', 'grand', 'grandfather', 'grandma', 'grandmas', 'granted', 'graphics', 'grasp', 'grateful', 'grave', 'gravy', 'gray', 'gre', 'great', 'greatbhaji', 'greatbye', 'greatest', 'greatly', 'greatness', 'greece', 'green', 'greet', 'greeting', 'greetings', 'grief', 'grinder', 'grins', 'grinule', 'grocers', 'grooved', 'groovy', 'groovying', 'ground', 'groundamla', 'group', 'grow', 'growing', 'grown', 'grownup', 'grr', 'grumble', 'gs', 'gt', 'gua', 'guarantee', 'guaranteed', 'gucci', 'gud', 'gudk', 'guess', 'guessed', 'guesses', 'guessing', 'guidance', 'guide', 'guides', 'guilty', 'guitar', 'guoyang', 'gut', 'guy', 'guys', 'gv', 'gving', 'gym', 'gymnastics', 'gynae', 'h', 'ha', 'habbahw', 'habit', 'hadnt', 'hadya', 'haf', 'haha', 'hai', 'hail', 'hair', 'haircut', 'hairdressers', 'half', 'half8th', 'hall', 'halla', 'ham', 'hamper', 'hamster', 'hand', 'handed', 'handing', 'handle', 'hands', 'handset', 'handsome', 'handsomes', 'hang', 'hanger', 'hangin', 'hanging', 'hanks', 'hannaford', 'happen', 'happend', 'happened', 'happenin', 'happening', 'happens', 'happier', 'happiest', 'happily', 'happiness', 'happy', 'hard', 'hardcore', 'harder', 'hardly', 'harlem', 'harri', 'hasnt', 'hassling', 'hat', 'hate', 'haul', 'haunt', 'hav', 'hav2hear', 'hava', 'havent', 'haven\\x92t', 'havin', 'havnt', 'hdd', 'head', 'headache', 'headin', 'heading', 'heads', 'headstart', 'head…', 'heal', 'healthy', 'heap', 'hear', 'heard', 'hearin', 'hearing', 'heart', 'hearted', 'heartgn', 'heartheart', 'heartsnot', 'heat', 'heater', 'heaven', 'heavily', 'heavy', 'hectic', 'hee', 'held', 'helen', 'helens', 'hell', 'hella', 'hello', 'helloed', 'help', 'help08700469649', 'help08712400602450p', 'helpful', 'helping', 'helps', 'heltiniIyo', 'hen', 'hence', 'hep', 'herI', 'herepls', 'hereremember', 'herethanksi', 'herlove', 'hermy', 'heron', 'hershe', 'herwho', 'herwill', 'hes', 'hesitant', 'hesitate', 'hesitation', 'hex', 'hey', 'he\\x92s', 'hi', 'hidden', 'hide', 'hides', 'hiding', 'high', 'highest', 'hilariousalso', 'hill', 'hills', 'hillsborough', 'himso', 'himthen', 'hint', 'hip', 'hiphop', 'hire', 'hisher', 'history', 'hit', 'hitman', 'hits', 'hitteranyway', 'hittng', 'hiya', 'hlday', 'hme', 'hmm', 'hmmm', 'ho', 'hockey', 'hogidhechinnu', 'hol', 'hold', 'holder', 'holding', 'hole', 'holiday', 'holidayso', 'holla', 'hollalater', 'hols', 'holy', 'home', 'homeBut', 'homecheck', 'homeleft', 'homelove', 'homewot', 'hon', 'honest', 'honesty', 'honey', 'honeymoon', 'hont', 'hoo', 'hooch', 'hook', 'hooked', 'hoops', 'hop', 'hope', 'hopeSo', 'hopeafternoon', 'hoped', 'hopeful', 'hopefully', 'hopeing', 'hopes', 'hoping', 'hor', 'horniest', 'horny', 'horrible', 'horse', 'hos', 'hospital', 'hospitals', 'hostel', 'hostile', 'hot', 'hotel', 'hotels', 'hour', 'hourish', 'hours', 'house', 'houseful', 'housewives', 'housework', 'housing', 'howard', 'however', 'howre', 'hows', 'howve', 'hp', 'hppnss', 'hr', 'hrs', 'hsbc', 'html', 'httpalto18coukwavewaveaspo44345', 'httpcareers', 'httpdoit', 'httpgotbabescouk', 'httpimg', 'httptms', 'httpwap', 'httpwwwbubbletextcom', 'httpwwwetlpcoukexpressoffer', 'httpwwwetlpcoukreward', 'httpwwwgr8prizescom', 'httpwwwurawinnercom', 'httpwwwwtlpcouktext', 'huai', 'hubby', 'hubbys', 'hudgi', 'hug', 'huge', 'hugging', 'hugh', 'huh', 'huiming', 'hum', 'humanities', 'humans', 'hun', 'hundred', 'hundredhe', 'hundreds', 'hungover', 'hungry', 'hunks', 'hunny', 'hunnyjust', 'hunonbus', 'hunt', 'hunting', 'hurricanes', 'hurried', 'hurry', 'hurt', 'hurting', 'hurts', 'husband', 'hussey', 'hustle', 'hut', 'hv', 'hvae', 'hw', 'hwd', 'hwkeep', 'hyde', 'hypertension', 'hypotheticalhuagauahahuagahyuhagga', 'iPOD', 'iPod', 'iZ', 'iam', 'ibm', 'ibored', 'ibuprofens', 'ic', 'iccha', 'ice', 'icicibankcom', 'icky', 'icon', 'id', 'idc', 'idconvey', 'idea', 'ideal', 'ideas', 'identification', 'idiot', 'idk', 'idu', 'ie', 'iff', 'ifwhenhow', 'ignorant', 'ignore', 'ignoring', 'ikea', 'il', 'ill', 'illness', 'im', 'image', 'images', 'imaginationMy', 'imagine', 'imma', 'immed', 'immediately', 'immunisation', 'imp', 'impatient', 'implications', 'important', 'importantly', 'imposed', 'impossible', 'imposter', 'impress', 'impressed', 'impression', 'impressively', 'improve', 'improved', 'in2', 'inc', 'inch', 'inches', 'incident', 'include', 'includes', 'inclusive', 'incomm', 'inconsiderate', 'inconvenient', 'increase', 'increments', 'inde', 'indeed', 'independently', 'india', 'indian', 'indicate', 'individual', 'individualtime', 'infections', 'infernal', 'influx', 'info', 'inforingtonekingcouk', 'inform', 'information', 'informed', 'informedRgdsRakheshKerala', 'infotxt82228couk', 'infovipclub4u', 'infowww100percentrealcom', 'infra', 'infront', 'ing', 'ingredients', 'initiate', 'inlude', 'inmind', 'inner', 'innings', 'innocent', 'innu', 'inour', 'inperialmusic', 'inpersonation', 'insects', 'inshah', 'inside', 'inspection', 'inst', 'install', 'installation', 'installing', 'instantly', 'instead', 'instructions', 'insurance', 'intelligent', 'intend', 'intention', 'intentions', 'interest', 'interested', 'interesting', 'interfued', 'internal', 'internet', 'internetservice', 'interview', 'interviews', 'intha', 'intrepid', 'intro', 'intrude', 'invention', 'invest', 'investigate', 'invitation', 'invite', 'invited', 'inviting', 'invnted', 'invoices', 'involve', 'involved', 'iouri', 'ip', 'ip4', 'ipad', 'ipaditan', 'ipads', 'iphone', 'ipod', 'ireneere', 'iron', 'ironing', 'irritated', 'irritating', 'irritation', 'irulinae', 'isComing', 'isLOVE', 'isare', 'iscoming', 'ish', 'ishtamayoohappy', 'island', 'islands', 'isnt', 'isn\\x92t', 'isn‘t', 'isn’t', 'issue', 'issues', 'itLEAVE', 'itU', 'italian', 'itc', 'itcould', 'items', 'iter', 'ithink', 'iti', 'itjust', 'itlet', 'itmail', 'itmay', 'itor', 'itplspls', 'itried2tell', 'itwhichturnedinto', 'it\\x92s', 'it‘s', 'ivatte', 'ive', 'iz', 'izzit', 'i\\x92d', 'i\\x92m', 'i‘ll', 'i‘m', 'i’m', 'j', 'jabo', 'jack', 'jacket', 'jackson', 'jacuzzi', 'jaklin', 'jam', 'james', 'jamster', 'jamstercouk', 'jan', 'janarige', 'jane', 'january', 'jap', 'jason', 'java', 'jay', 'jaya', 'jaykwon', 'jays', 'jazz', 'jb', 'je', 'jealous', 'jeans', 'jeetey', 'jeevithathile', 'jelly', 'jenne', 'jenny', 'jess', 'jesus', 'jet', 'jetton', 'jewelry', 'ji', 'jiayin', 'jide', 'jiu', 'jo', 'job', 'jobs', 'jocks', 'jod', 'jog', 'jogging', 'john', 'john\\x94sounds', 'join', 'joined', 'joinedHope', 'joinedso', 'joining', 'joke', 'joker', 'jokes', 'jokethet', 'jokin', 'joking', 'jolly', 'jolt', 'jontin', 'jot', 'journey', 'joy', 'joys', 'jp', 'js', 'jst', 'juan', 'judgementali', 'juicy', 'jules', 'juliana', 'julianaland', 'jump', 'jumpers', 'june', 'jungle', 'jurong', 'jus', 'justbeen', 'justify', 'justthought', 'juz', 'k', 'kaaj', 'kadeem', 'kafter', 'kaila', 'kaitlyn', 'kalaachutaarama', 'kalainar', 'kalisidare', 'kallis', 'kalstiyathen', 'kama', 'kane', 'kanji', 'kano', 'kanoanyway', 'kanoil', 'kanowhr', 'kappa', 'karaoke', 'karnan', 'karo', 'kaypoh', 'kb', 'kbut', 'ke', 'keen', 'keep', 'keeping', 'keeps', 'kegger', 'keluviri', 'kent', 'kept', 'kerala', 'kettoda', 'key', 'keypad', 'keys', 'keyword', 'kfc', 'kg', 'kgood', 'khelate', 'ki', 'kick', 'kickboxing', 'kickoff', 'kicks', 'kid', 'kidding', 'kids', 'kill', 'killed', 'killing', 'kills', 'kilos', 'kim', 'kind', 'kinda', 'kindly', 'king', 'kintu', 'kiosk', 'kip', 'kisi', 'kiss', 'kisses', 'kissing', 'kits', 'kittum', 'kitty', 'kkwhere', 'knackered', 'knees', 'knew', 'knickers', 'knocking', 'know', 'knowhe', 'knowing', 'known', 'knows', 'knowthis', 'knowwait', 'knowyetunde', 'knw', 'ko', 'kochi', 'kodstini', 'kodthini', 'konw', 'korche', 'korean', 'korli', 'korte', 'kotees', 'kothi', 'ksry', 'ktv', 'kuch', 'kvb', 'kwish', 'kz', 'l8', 'l8r', 'l8tr', 'la', 'lab', 'labor', 'lac', 'lacking', 'lacsthats', 'laden', 'ladies', 'ladiesU', 'lady', 'lag', 'lage', 'lager', 'laid', 'laidwant', 'lakhs', 'lambda', 'lambu', 'lamp', 'land', 'landing', 'landline', 'landlineonly', 'landlines', 'landmark', 'lane', 'langport', 'language', 'lanka', 'lanre', 'lap', 'lapdancer', 'laptop', 'lar', 'laready', 'largest', 'lark', 'lasagna', 'last', 'lastest', 'lasting', 'late', 'latebut', 'latei', 'lately', 'latelyxxx', 'later', 'lateso', 'latest', 'latests', 'latr', 'laugh', 'laughing', 'laughs', 'laundry', 'laurie', 'lautech', 'lavender', 'law', 'laxinorficated', 'layin', 'laying', 'lays', 'lazy', 'lead', 'leadership', 'leading', 'leads', 'league', 'learn', 'learned', 'least', 'least5times', 'leastWhich', 'leave', 'leaves', 'leaving', 'lect', 'lecture', 'lecturer', 'left', 'leftovers', 'leg', 'legal', 'legitimat', 'legs', 'leh', 'lehHaha', 'lei', 'lemme', 'length', 'lengths', 'lennon', 'leo', 'leona', 'leonardo', 'leonas', 'less', 'lesser', 'lesson', 'lessons', 'let', 'lets', 'letter', 'letters', 'leu', 'level', 'li', 'liao', 'liaoSo', 'liaoToo', 'lib', 'library', 'lick', 'licks', 'lido', 'lie', 'lies', 'life', 'lifeThis', 'lifeand', 'lifebook', 'lifeis', 'lifetime', 'lifeyou', 'lift', 'lifted', 'lifting', 'light', 'lighters', 'lightly', 'lik', 'like', 'liked', 'likely', 'likes', 'lil', 'lim', 'limit', 'limiting', 'limits', 'limping', 'line', 'linear', 'lined', 'linerental', 'lines', 'lineyou', 'lingerie', 'lingo', 'link', 'links', 'linux', 'lion', 'lionm', 'lionp', 'lip', 'lipo', 'lips', 'liquor', 'list', 'listed', 'listen', 'listener', 'listening', 'listening2the', 'listn', 'lists', 'lit', 'literally', 'little', 'live', 'lived', 'liver', 'lives', 'living', 'lk', 'lm', 'lmao', 'lnly', 'lo', 'load', 'loads', 'loan', 'loans', 'lobby', 'local', 'location', 'locations', 'lock', 'locks', 'lodge', 'lodging', 'log', 'logged', 'logging', 'login', 'logo', 'logoff', 'logopic', 'logos', 'logosmusicnews', 'loko', 'lol', 'londn', 'london', 'loneliness', 'lonely', 'long', 'longer', 'lonlines', 'loo', 'look', 'looked', 'lookin', 'looking', 'looks', 'looovvve', 'loose', 'loosing', 'lor', 'lorWe', 'lorgoin', 'lose', 'losers', 'loses', 'losing', 'loss', 'lost', 'lot', 'loti', 'lotr', 'lots', 'lotsly', 'lotsof', 'lotta', 'lotto', 'lotwill', 'lotz', 'lou', 'loud', 'lounge', 'lousy', 'lov', 'lovable', 'love', 'loveJen', 'loved', 'lovely', 'lover', 'loverakhesh', 'loverboy', 'lovers', 'loves', 'lovin', 'loving', 'lovingly', 'lovly', 'low', 'lower', 'lowes', 'loxahatchee', 'loyal', 'loyalty', 'lst', 'lt', 'lt3', 'ltDECIMALgt', 'ltEMAILgt', 'ltTIMEgt', 'ltURLgt', 'ltgt', 'lttrs', 'lubly', 'luck', 'luck2', 'lucky', 'lucozadecoukwrc', 'luks', 'lunch', 'lunchtime', 'lunchyou', 'lunsford', 'lush', 'luv', 'luvNight', 'luvd', 'luvs', 'luxury', 'lv', 'lyf', 'lyfu', 'lying', 'lyk', 'lyricalladie21F', 'lyrics', 'm100', 'm8', 'm8s', 'maaaan', 'mac', 'machan', 'machiany', 'machines', 'macho', 'mack', 'macleran', 'macs', 'mad', 'madam', 'made', 'madodu', 'madoke', 'madstini', 'madthen', 'mag', 'maga', 'magazine', 'maggi', 'magic', 'magical', 'magicalsongsblogspotcom', 'mah', 'mahal', 'mahfuuzmeaning', 'mail', 'mailed', 'maili', 'mails', 'main', 'maintaining', 'major', 'make', 'makes', 'makiing', 'makin', 'making', 'malaria', 'malarky', 'male', 'mall', 'man', 'manage', 'manageable', 'managed', 'management', 'manda', 'mandara', 'manege', 'mango', 'maniac', 'manky', 'manual', 'many', 'map', 'mapquest', 'maps', 'maraikara', 'marandratha', 'march', 'margin', 'mark', 'market', 'marketing', 'marking', 'marrgeremembr', 'marriage', 'marriageprogram', 'married', 'marry', 'mary', 'mas', 'masked', 'massages', 'massagetiepos', 'massive', 'masteriastering', 'masters', 'match', 'matches', 'mate', 'mates', 'math', 'mathematics', 'maths', 'matra', 'matric', 'matter', 'mattermsg', 'matters', 'matured', 'maturity', 'max', 'max6month', 'maximize', 'maximum', 'max£7', 'may', 'mayb', 'maybe', 'mb', 'mc', 'mca', 'mcat', 'mcr', 'meAre', 'meDont', 'meI', 'meRemove', 'meal', 'meals', 'mean', 'meaning', 'meaningful', 'meaningless', 'means', 'meant', 'measure', 'meatballs', 'med', 'medical', 'medicine', 'meds', 'mee', 'meet', 'meetin', 'meeting', 'meetins', 'meetitz', 'meets', 'mega', 'meh', 'mei', 'meim', 'meis', 'meive', 'mel', 'melike', 'melody', 'melt', 'member', 'members', 'membership', 'membershiptake', 'memorable', 'memories', 'memory', 'men', 'meneed', 'mens', 'mental', 'mention', 'mentionedtomorrow', 'mentionned', 'mentor', 'menu', 'meok', 'meow', 'meowD', 'merely', 'merry', 'mesages', 'meshe', 'meso', 'mess', 'message', 'messageIts', 'messaged', 'messageit', 'messageno', 'messagepandy', 'messages', 'messagesText', 'messagesim', 'messenger', 'messy', 'met', 'method', 'meummifyingbye', 'mgs', 'mi', 'mia', 'mid', 'middle', 'midnight', 'mids', 'might', 'miiiiiiissssssssss', 'miles', 'milk', 'millers', 'million', 'miltaZindgi', 'min', 'minAPN', 'mina', 'mind', 'minded', 'mindi', 'mindsetbelieve', 'mine', 'mineall', 'minecraft', 'mines', 'mini', 'minimum', 'minor', 'mins', 'mins100txtmth', 'minstand', 'minstexts', 'mint', 'minus', 'minute', 'minutes', 'minuts', 'miracle', 'mirror', 'mis', 'misbehaved', 'miserable', 'misfits', 'mising', 'miss', 'misscall', 'missed', 'missin', 'missing', 'missionary', 'missions', 'misss', 'misstake', 'missunderstding', 'mist', 'mistake', 'mistakes', 'misundrstud', 'mite', 'mitsake', 'miwa', 'mj', 'mjzgroup', 'ml', 'mns', 'mnth', 'mo', 'moan', 'mob', 'mobile', 'mobiles', 'mobilesvary', 'mobs', 'mobsicom', 'moby', 'mode', 'model', 'modelsony', 'modl', 'module', 'modules', 'mofo', 'moji', 'mokka', 'molestedsomeone', 'mom', 'moment', 'moments', 'moms', 'mon', 'monday', 'mondaynxt', 'moneYas', 'moneeppolum', 'money', 'moneyi', 'monkey', 'monkeys', 'mono', 'monos', 'monster', 'month', 'monthly', 'monthnot', 'months', 'mood', 'moon', 'morn', 'mornin', 'morning', 'morningtake', 'morphine', 'moseley', 'mostly', 'mother', 'motherfucker', 'motivating', 'motive', 'motor', 'motorola', 'mountain', 'mouse', 'mouth', 'move', 'moved', 'moves', 'movie', 'movies', 'moviewat', 'moving', 'mp3', 'mr', 'mre', 'mrng', 'mrt', 'ms', 'msg', 'msging', 'msgrcvd18', 'msgs', 'msgs150p', 'msgsD', 'msgsometext', 'msgsubscription', 'msgticketkioskValid', 'msg£150rcvd', 'msn', 'mt', 'mth', 'mths', 'mtnl', 'mu', 'much', 'muchand', 'muchi', 'muchimpede', 'mudyadhu', 'mufti', 'muht', 'multimedia', 'multis', 'mum', 'mumHas', 'mumbai', 'mummy', 'mummys', 'mums', 'mundhe', 'murali', 'murder', 'murdered', 'murderer', 'mus', 'mush', 'mushy', 'music', 'musical', 'must', 'musthu', 'mustprovide', 'mutai', 'mutations', 'muz', 'mw', 'mylife', 'mymoby', 'myparents', 'mys', 'mytonecomenjoy', 'n', 'n8', 'na', 'naal', 'nachos', 'nag', 'nagar', 'nahi', 'nails', 'naked', 'nalla', 'nalli', 'name', 'named', 'namemy', 'names', 'nammanna', 'nan', 'nange', 'nanny', 'nannys', 'nap', 'narcotics', 'naseeb', 'nasty', 'nat', 'national', 'nattil', 'natuition', 'natural', 'nature', 'natwest', 'naughty', 'nauseous', 'nav', 'navigate', 'nb', 'nd', 'ne', 'near', 'nearby', 'nearer', 'nearly', 'necesity', 'necessarily', 'necessary', 'necessity', 'neck', 'necklace', 'ned', 'need', 'needa', 'needed', 'neededSalary', 'needing', 'needle', 'needs', 'needy', 'neekunna', 'negative', 'neglect', 'neglet', 'neighbor', 'neighbors', 'neither', 'nelson', 'nervous', 'net', 'netflix', 'netno', 'network', 'networks', 'neva', 'nevamindWe', 'never', 'nevering', 'nevr', 'new', 'newest', 'news', 'newsBy', 'newsHype', 'newscaster', 'newspapers', 'next', 'ni8', 'ni8swt', 'nice', 'nichols', 'nicky', 'nig', 'nigeria', 'night', 'nighters', 'nightnight', 'nightnobody', 'nights', 'nightsExcellent', 'nightsWe', 'nightswt', 'nigpun', 'nigro', 'nike', 'ninish', 'nino', 'nipost', 'nit', 'nite', 'nitro', 'nitros', 'nitz', 'njan', 'nmde', 'nobbing', 'nobody', 'nobodys', 'noe', 'noise', 'noisy', 'nokia', 'nokias', 'noline', 'nolistened2the', 'non', 'noncomittal', 'none', 'nonetheless', 'noon', 'nora', 'nordstrom', 'norm', 'norm150ptone', 'normal', 'normally', 'north', 'northampton', 'nos', 'nose', 'nosh', 'nosy', 'note', 'notebook', 'notes', 'nothin', 'nothing', 'nothis', 'notice', 'notifications', 'notified', 'notixiquating', 'notxtcouk', 'noun', 'novelty', 'nowSKY', 'nowSavaMobmember', 'nowSend', 'nowTCs', 'nowUse', 'nowadayslot', 'nowcan', 'nowi', 'nownyt', 'nowonion', 'nowstill', 'nt', 'nte', 'ntswt', 'ntwk', 'nuclear', 'nudist', 'nuerologist', 'num', 'number', 'numberpls', 'numbers', 'nursery', 'nurses', 'nus', 'nusstu', 'nuther', 'nvm', 'nw', 'nxt', 'nyc', 'nydc', 'nyt', 'nz', 'nìte', 'o2coukgames', 'oath', 'obedient', 'obese', 'obey', 'objection', 'oblisingately', 'oblivious', 'obviously', 'occasion', 'occupied', 'occupy', 'occur', 'occurs', 'oclock', 'october', 'odalebeku', 'odi', 'offc', 'offcampus', 'offdam', 'offense', 'offer', 'offered', 'offering', 'offers', 'office', 'officer', 'officestill', 'officethenampet', 'officeunderstand', 'officewhats', 'official', 'officially', 'offline', 'ofice', 'oficegot', 'often', 'of£2000', 'oga', 'ogunrinde', 'oh', 'oil', 'ok', 'okay', 'okcome', 'okday', 'okie', 'okmail', 'oktake', 'okthenwhats', 'okvarunnathu', 'ola', 'olage', 'olave', 'olayiwolas', 'old', 'ollubut', 'olowoyey', 'olympics', 'omw', 'ondu', 'one', 'onedge', 'ones', 'oneta', 'oni', 'onit', 'online', 'onlinewhy', 'onluy', 'onlybettr', 'onlydon', 'onto', 'onwards', 'onwords', 'open', 'opened', 'opener', 'openin', 'opening', 'openings', 'operate', 'operator', 'opinion', 'opinions', 'opponenter', 'opportunity', 'opportunityall', 'opportunitypls', 'opposed', 'opposite', 'opps', 'opt', 'opted', 'optimistic', 'optin', 'option', 'optout', 'or2optoutHV9D', 'or2stoptxt', 'oral', 'orange', 'orc', 'orchard', 'order', 'ordered', 'ore', 'oredi', 'oreo', 'organise', 'orig', 'original', 'orno', 'ors', 'ortxt', 'oru', 'os', 'oscar', 'oso', 'others', 'otherwise', 'othrs', 'otside', 'ou', 'ouch', 'oursso', 'outage', 'outages', 'outbid', 'outdoors', 'outfit', 'outfor', 'outgoing', 'outhave', 'outif', 'outrageous', 'outreach', 'outs', 'outside', 'outsider', 'outstanding', 'outta', 'ovarian', 'overa', 'overdid', 'overemphasiseor', 'overheating', 'overtime', 'ovr', 'ovulatewhen', 'ovulation', 'ow', 'owe', 'owed', 'owl', 'owned', 'owns', 'ownyouve', 'owo', 'oxygen', 'oyster', 'oz', 'p', 'pa', 'paces', 'pack', 'package', 'packalso', 'packing', 'packs', 'padhegm', 'page', 'pages', 'pai', 'paid', 'pain', 'painful', 'painhope', 'paining', 'painit', 'painting', 'pale', 'palm', 'pan', 'panalambut', 'panic', 'panicks', 'panren', 'panties', 'pants', 'pap', 'papa', 'paper', 'papers', 'paperwork', 'paracetamol', 'parachute', 'parade', 'paragon', 'paragraphs', 'paranoid', 'parantella', 'parchi', 'parco', 'parent', 'parentnot', 'parents', 'parentsi', 'parish', 'park', 'park6ph', 'parked', 'parkin', 'parking', 'part', 'participate', 'particular', 'particularly', 'parties', 'partner', 'partnership', 'parts', 'party', 'paru', 'pases', 'pass', 'passThey', 'passable', 'passed', 'passes', 'passion', 'passionate', 'passport', 'password', 'past', 'pataistha', 'patent', 'path', 'paths', 'patients', 'pattern', 'patty', 'pattys', 'pause', 'pay', 'payasam', 'payback', 'payed', 'paying', 'payment', 'payments', 'payoh', 'paypal', 'pc', 'pdateNow', 'peace', 'peaceful', 'peak', 'pears', 'pee', 'peeps', 'pehle', 'pei', 'pen', 'pence', 'pendent', 'pending', 'pendingi', 'penis', 'people', 'peoples', 'per', 'percent', 'percentages', 'perf', 'perfect', 'perform', 'performance', 'performed', 'perfume', 'perhaps', 'period', 'permanent', 'permission', 'permissions', 'perpetual', 'persevered', 'person', 'person2die', 'personMeet', 'personal', 'personally', 'persons', 'perspective', 'perumbavoor', 'pesky', 'petrol', 'pg', 'ph', 'ph08700435505150p', 'phasing', 'phd', 'phews', 'philosophical', 'philosophy', 'phne', 'phone', 'phone750', 'phonebook', 'phoned', 'phones', 'photo', 'photos', 'photoshop', 'phrase', 'physics', 'piah', 'pic', 'picTxt', 'pick', 'picked', 'picking', 'pickle', 'pics', 'picture', 'pictures', 'pie', 'piece', 'pieces', 'pierre', 'pig', 'pilates', 'pile', 'pillows', 'pimples', 'pimpleseven', 'pin', 'pink', 'pints', 'pisces', 'piss', 'pissed', 'pix', 'pixels', 'pizza', 'place', 'placeNo', 'placed', 'placement', 'places', 'plaid', 'plan', 'plane', 'planet', 'planetI', 'planned', 'planning', 'plans', 'plate', 'play', 'played', 'player', 'players', 'playerwhy', 'playi', 'playing', 'playng', 'plaza', 'pleasant', 'please', 'pleased', 'pleasure', 'pleasured', 'plenty', 'plm', 'ploughing', 'pls', 'plum', 'plumbers', 'plumbingremixed', 'plural', 'plus', 'plz', 'pm', 'pmt', 'po', 'pocay', 'pocked', 'pockets', 'pocy', 'poem', 'poet', 'point', 'points', 'poker', 'poking', 'pole', 'police', 'politicians', 'poly', 'polyH', 'polyPH', 'polypH', 'polyphonic', 'polys', 'polytruePixRingtonesGames', 'pongal', 'pongaldo', 'ponnungale', 'poo', 'pookie', 'pool', 'poop', 'poor', 'poorly', 'poortiyagi', 'pop', 'popcorn', 'popped', 'popping', 'porn', 'porridge', 'port', 'portal', 'portege', 'posh', 'posible', 'position', 'positions', 'positive', 'possession', 'possessive', 'possessiveness', 'possibility', 'possible', 'possibleHope', 'possibly', 'post', 'postal', 'postcode', 'posted', 'posterode', 'posting', 'postponed', 'posts', 'potato', 'potential', 'pouch', 'pound', 'pounded', 'pounds', 'poured', 'pours', 'pouts', 'power', 'powerful', 'ppl', 'pple', 'pple700', 'ppm', 'ppm150', 'ppt150x3normal', 'prabha', 'pract', 'practical', 'practice', 'practicing', 'practicum', 'practising', 'praises', 'prakasam', 'prakasamanu', 'praps', 'prasad', 'pray', 'prayers', 'praying', 'prayingwill', 'pre', 'prebook', 'predict', 'predicting', 'prediction', 'predictive', 'prefer', 'preferably', 'prem', 'premium', 'prepaid', 'prepare', 'prepared', 'prepayment', 'preponed', 'prescribed', 'prescripiton', 'prescription', 'presence', 'present', 'presents', 'presnts', 'press', 'pressies', 'pressure', 'prestige', 'pretend', 'pretsorginta', 'pretsovru', 'pretty', 'prevent', 'previews', 'previous', 'previously', 'prey', 'price', 'prices', 'priceso', 'pride', 'priest', 'prin', 'prince', 'princeGN', 'princes', 'princess', 'print', 'printed', 'printing', 'prior', 'priority', 'priscillas', 'privacy', 'private', 'prix', 'priya', 'prize', 'prizeTo', 'prizes', 'prizesWith', 'prob', 'probably', 'problem', 'problematic', 'problembut', 'problemfree', 'problemi', 'problems', 'problum', 'probs', 'process', 'processExcellent', 'processed', 'processits', 'processnetworking', 'prods', 'products', 'professional', 'professors', 'profile', 'profiles', 'profit', 'program', 'programs', 'progress', 'project', 'projects', 'prolly', 'prometazine', 'prominent', 'promise', 'promised', 'promises', 'promoting', 'promptly', 'prompts', 'prone', 'proof', 'proove', 'proper', 'properly', 'property', 'propose', 'propsd', 'pros', 'prospects', 'protect', 'prove', 'provided', 'provider', 'province', 'proze', 'prsn', 'ps3', 'pthis', 'pub', 'pubcafe', 'public', 'publish', 'pubs', 'pudunga', 'pull', 'pulling', 'pulls', 'pump', 'punch', 'punish', 'punishment', 'punto', 'puppy', 'pura', 'purchase', 'purchases', 'pure', 'purpose', 'purse', 'push', 'pushes', 'pussy', 'put', 'puts', 'puttin', 'putting', 'puzzeles', 'puzzles', 'p£399', 'qatar', 'qbank', 'qet', 'qi', 'qing', 'quality', 'quarter', 'queen', 'question', 'questioned', 'questions', 'questionstd', 'quick', 'quickly', 'quiet', 'quit', 'quite', 'quitting', 'quiz', 'quizclub', 'quizzes', 'quote', 'quoting', 'r', 'racing', 'radiator', 'radio', 'raed', 'rael', 'raglan', 'rahul', 'raiden', 'railway', 'rain', 'raining', 'raise', 'raised', 'rajas', 'rajini', 'rakhesh', 'raksha', 'ralphs', 'ramen', 'ran', 'random', 'randomlly', 'randomly', 'randy', 'rang', 'range', 'raping', 'rate', 'rateTCs', 'rates', 'rather', 'ratio', 'rawring', 'rayan', 'rays', 'rcbbattle', 'rcd', 'rcv', 'rcvd', 'rd', 'rdy', 'reLation', 'reach', 'reache', 'reached', 'reaching', 'reacting', 'reaction', 'read', 'readers', 'readiness', 'reading', 'ready', 'readyall', 'real', 'realise', 'realised', 'realising', 'reality', 'realize', 'realized', 'realizes', 'really', 'realy', 'reapply', 'rearrange', 'reason', 'reasonable', 'reasons', 'reassurance', 'reassuring', 'reboot', 'rebooting', 'rebtel', 'rec', 'recd', 'recdthirtyeight', 'receipt', 'receipts', 'receipts—well', 'receive', 'receivea', 'received', 'receiving', 'recent', 'recently', 'reception', 'recession', 'recharge', 'rechargeRakhesh', 'recharged', 'recieve', 'reckon', 'recognise', 'recognises', 'record', 'recorded', 'recorder', 'records', 'recount', 'recovery', 'recreation', 'recycling', 'red', 'redeemable', 'redred', 'reduce', 'ree', 'ref', 'reference', 'references', 'referin', 'reffering', 'refilled', 'reflex', 'reformat', 'refreshed', 'refund', 'refundedThis', 'refused', 'reg', 'regard', 'regarding', 'regards', 'register', 'registered', 'registration', 'regret', 'regretted', 'regular', 'rejected', 'related', 'relation', 'relationshipits', 'relatives', 'relax', 'relaxing', 'released', 'reliant', 'relieved', 'religiously', 'relocate', 'reltnship', 'rem', 'remain', 'remains', 'remb', 'remember', 'remembered', 'remet', 'remind', 'reminded', 'reminder', 'reminding', 'reminds', 'removal', 'remove', 'removed', 'rencontre', 'renewal', 'renewed', 'renewing', 'rent', 'rental', 'renting', 'rentl', 'rents', 'repair', 'repairs', 'repeat', 'repeating', 'repent', 'replace', 'replacement', 'replacing', 'replied', 'replies', 'reply', 'replyBe', 'replying', 'report', 'reppurcussions', 'representative', 'republic', 'request', 'requests', 'require', 'required', 'requirements', 'requires', 'reschedule', 'research', 'resend', 'resent', 'reservations', 'reserve', 'reserved', 'reserves', 'reset', 'residency', 'resizing', 'reslove', 'resolution', 'resolved', 'resort', 'respect', 'respectful', 'responcewhat', 'respond', 'responding', 'response', 'responsibilities', 'responsibility', 'responsible', 'rest', 'restUWud', 'restWish', 'restaurant', 'restock', 'restocked', 'restrict', 'restrictions', 'resub', 'resubbing', 'resubmit', 'result', 'results', 'resume', 'resuming', 'retard', 'retired', 'retrieve', 'return', 'returned', 'returning', 'returns', 'reunion', 'revealed', 'revealing', 'review', 'revision', 'reward', 'rewarding', 'rhode', 'rhythm', 'rice', 'rich', 'riddance', 'ridden', 'ride', 'right', 'rightly', 'rights', 'rileys', 'rimac', 'ring', 'ringing', 'ringtone', 'ringtoneget', 'ringtoneking', 'ringtones', 'rinu', 'rip', 'ripped', 'risk', 'risks', 'rite', 'ritten', 'river', 'road', 'roads', 'roadsRVx', 'roast', 'rob', 'robinson', 'robs', 'rock', 'rocking', 'rocks', 'rofl', 'roger', 'role', 'roles', 'rolled', 'roller', 'romantic', 'ron', 'rons', 'room', 'roomate', 'roommate', 'roommates', 'rooms', 'ros', 'rose', 'rough', 'round', 'rounderso', 'rounds', 'route', 'row', 'rows', 'royal', 'rpl', 'rply', 'rr', 'rs', 'rsi', 'ru', 'rub', 'rubber', 'rude', 'rugby', 'ruin', 'ruining', 'rule', 'rules', 'rumbling', 'rummer', 'rumour', 'run', 'running', 'runninglets', 'runs', 'rupaul', 'rush', 'rushing', 'ryan', 'ryans', 'sOOn', 'sachin', 'sachinjust', 'sack', 'sacked', 'sacrifice', 'sad', 'safe', 'safely', 'safety', 'saibaba', 'said', 'saidif', 'sake', 'salary', 'sale', 'sales', 'salesman', 'salespee', 'salmon', 'salon', 'salt', 'samachara', 'samantha', 'sambarlife', 'sameso', 'samus', 'sandiago', 'sane', 'sang', 'sao', 'sapna', 'sar', 'sarasota', 'sarcasm', 'sarcastic', 'sariyag', 'sashimi', 'sat', 'satanic', 'sathy', 'sathya', 'satisfied', 'satisfy', 'satsgettin', 'saturday', 'satü', 'saucy', 'save', 'saved', 'saves', 'savings', 'saw', 'say', 'sayask', 'sayhey', 'sayin', 'saying', 'says', 'sayy', 'sc', 'scallies', 'scammers', 'scarcasim', 'scared', 'scary', 'scenario', 'scenery', 'sch', 'schedule', 'school', 'schools', 'science', 'scold', 'scorable', 'score', 'scores', 'scotland', 'scouse', 'scraped', 'scrappy', 'scratches', 'scratching', 'scream', 'screamed', 'screaming', 'screen', 'screwd', 'scrounge', 'scrumptious', 'sculpture', 'sd', 'sdryb8i', 'se', 'sea', 'search', 'searching', 'season', 'seat', 'sec', 'second', 'secondary', 'seconds', 'secret', 'secretary', 'secretly', 'secrets', 'secs', 'section', 'sections', 'secure', 'sed', 'see', 'seeds', 'seeing', 'seekers', 'seeking', 'seem', 'seemed', 'seems', 'seen', 'sees', 'sef', 'seh', 'sehwag', 'seing', 'select', 'selected', 'selection', 'self', 'selfish', 'selflessness', 'sell', 'selling', 'sells', 'sem', 'semester', 'semi', 'semiobscure', 'sen', 'send', 'sending', 'senor', 'senrddnot', 'sense', 'sensesrespect', 'sensible', 'sensitive', 'sent', 'sentence', 'senthil', 'senthilhsbc', 'seperated鈥┾〨ud', 'sept', 'september', 'series', 'serious', 'seriously', 'served', 'server', 'service', 'services', 'serving', 'set', 'setting', 'settings', 'settle', 'settled', 'settling', 'seven', 'several', 'sex', 'sexiest', 'sextextukcom', 'sexual', 'sexy', 'sfirst', 'sh', 'sha', 'shades', 'shadow', 'shag', 'shagged', 'shakara', 'shake', 'shaking', 'shall', 'shame', 'shangela', 'shanghai', 'shaping', 'share', 'shared', 'sharing', 'shattered', 'shaved', 'shd', 'sheet', 'sheets', 'sheffield', 'shelf', 'shell', 'shelves', 'shes', 'shexy', 'shindig', 'shining', 'ship', 'shipped', 'shipping', 'shirt', 'shirts', 'shit', 'shite', 'shitload', 'shits', 'shitstorm', 'shld', 'shldxxxx', 'shock', 'shocking', 'shoes', 'shoot', 'shop', 'shoppin', 'shopping', 'shopthe', 'shore', 'shoreThe', 'short', 'shortage', 'shortcode', 'shorter', 'shortly', 'shorts', 'shot', 'shoulders', 'shouldnt', 'shouldn‘t', 'shouted', 'shouting', 'shove', 'shoving', 'show', 'showed', 'shower', 'showered', 'showers', 'showing', 'showroomscity', 'shows', 'shrek', 'shrink', 'shrub', 'shu', 'shud', 'shuhui', 'shun', 'shut', 'shy', 'si', 'sian', 'sic', 'sick', 'sickness', 'side', 'sigh', 'sighs', 'sight', 'sign', 'signal', 'significance', 'significant', 'signin', 'signing', 'siguviri', 'silence', 'silent', 'silently', 'silly', 'silver', 'sim', 'simonwatson5120', 'simple', 'simpler', 'simply', 'simulate', 'since', 'sing', 'singapore', 'singing', 'single', 'singles', 'sink', 'sip', 'sips', 'sir', 'sirs', 'sis', 'sister', 'sisters', 'sit', 'site', 'sitll', 'sitter', 'sittin', 'sitting', 'situation', 'situations', 'sivatats', 'six', 'size', 'sized', 'skateboarding', 'skills', 'skinny', 'skins', 'skint', 'skip', 'skirt', 'sky', 'skye', 'skype', 'skyped', 'skyving', 'slacking', 'slap', 'slave', 'sleep', 'sleepin', 'sleeping', 'sleepingand', 'sleeps', 'sleepy', 'slept', 'slice', 'slices', 'slide', 'sliding', 'slightly', 'slip', 'slippers', 'slippery', 'slo', 'slob', 'slots', 'slovely', 'slow', 'slower', 'slowing', 'slowly', 'slurp', 'smacks', 'small', 'smaller', 'smart', 'smartThough', 'smarter', 'smash', 'smashed', 'smear', 'smell', 'smells', 'smeone', 'smidgin', 'smile', 'smiled', 'smiles', 'smiling', 'smoke', 'smoked', 'smokes', 'smokin', 'smoking', 'smoothly', 'sms', 'sms08718727870', 'smsd', 'smsing', 'smsshsexnetUN', 'smth', 'sn', 'snake', 'snappy', 'snatch', 'sneham', 'snickering', 'snogs', 'snow', 'snowball', 'snowboarding', 'snowman', 'snuggles', 'soc', 'sochte', 'social', 'sofa', 'soft', 'software', 'soil', 'soiree', 'soladha', 'solihull', 'solve', 'solved', 'some1', 'somebody', 'someday', 'someone', 'someones', 'someonethat', 'someplace', 'somerset', 'somethin', 'something', 'somethings', 'sometime', 'sometimeRakheshvisitor', 'sometimes', 'sometme', 'somewhat', 'somewhere', 'somewhereSomeone', 'somone', 'somtimes', 'sonathaya', 'song', 'songs', 'sonot', 'soo', 'soon', 'sooner', 'soonxxx', 'sooo', 'soooo', 'sooooo', 'sophas', 'sore', 'sorrow', 'sorrowsI', 'sorry', 'sorryi', 'sort', 'sorta', 'sorted', 'sorting', 'sorts', 'sory', 'sorydarealyfrm', 'soso', 'soul', 'sound', 'sounds', 'soundtrack', 'soup', 'source', 'sources', 'south', 'southern', 'souveniers', 'space', 'spacebucks', 'spaces', 'spageddies', 'spanish', 'spare', 'spares', 'spark', 'sparkling', 'spatula', 'speak', 'speaking', 'special', 'specialcall', 'specialisation', 'specialise', 'specially', 'specific', 'specify', 'specs', 'speechless', 'speed', 'speeding', 'speling', 'spell', 'spelled', 'spelling', 'spend', 'spending', 'spent', 'spice', 'spiffing', 'spile', 'spin', 'spirit', 'spiritual', 'spk', 'splash', 'splendid', 'split', 'splleing', 'splwat', 'spoil', 'spoiled', 'spoilt', 'spoke', 'spoken', 'sponsors', 'spontaneously', 'spoon', 'sporadically', 'sport', 'sports', 'spot', 'spotty', 'spouse', 'spreadsheet', 'spree', 'spring', 'springs', 'spys', 'sq825', 'squatting', 'squeezed', 'squid', 'srs', 'srsly', 'srt', 'sry', 'st', 'stability', 'stable', 'stadium', 'staff', 'staffsciencenusedusgphyhcmkteachingpc1323', 'stage', 'stagwood', 'stairs', 'stalk', 'stalking', 'stamped', 'stamps', 'stand', 'standard', 'standing', 'stands', 'star', 'starer', 'staring', 'starring', 'stars', 'starshine', 'start', 'started', 'startedindia', 'starti', 'starting', 'starts', 'starve', 'starving', 'stash', 'stated', 'statement', 'statements', 'station', 'stations', 'status', 'stay', 'stayed', 'stayin', 'staying', 'stays', 'std', 'steak', 'steal', 'stealing', 'steam', 'steamboat', 'steed', 'steering', 'step', 'steps', 'stereo', 'sterling', 'sterm', 'steve', 'stevelike', 'steyn', 'sth', 'stick', 'sticky', 'stifled', 'still', 'stillmaybe', 'stink', 'stitch', 'stock', 'stocked', 'stolen', 'stomach', 'stomps', 'stone', 'stoners', 'stones', 'stool', 'stop', 'stopCost', 'stopped', 'stops', 'stoptxtStop', 'stoptxtstop£150week', 'store', 'storelike', 'stores', 'stories', 'story', 'str', 'str8', 'straight', 'strain', 'strange', 'stranger', 'strangersaw', 'street', 'streetshall', 'stress', 'stressed', 'stressful', 'stressfull', 'stretch', 'strewn', 'strict', 'strike', 'strings', 'stripes', 'strips', 'strong', 'strongly', 'strt', 'strtd', 'struggling', 'sts', 'stubborn', 'stuck', 'studdying', 'students', 'studentsthis', 'studies', 'studio', 'study', 'studying', 'studyn', 'stuff', 'stuff42moro', 'stuffed', 'stuffing', 'stuffleaving', 'stuffs', 'stuffwhy', 'stunning', 'stupid', 'style', 'styles', 'styling', 'stylish', 'sub', 'subject', 'subletting', 'submitted', 'submitting', 'subs', 'subscribe', 'subscribed', 'subscriber', 'subscribers', 'subscription', 'subscriptions', 'subscrition', 'subsequent', 'subtoitles', 'success', 'successful', 'successfully', 'sucker', 'suckers', 'sucks', 'sudden', 'suddenly', 'sudn', 'sue', 'suffer', 'suffering', 'suffers', 'sufficient', 'sugar', 'sugardad', 'suggest', 'suggestion', 'suggestions', 'suite', 'suitemates', 'suits', 'sum', 'sum1', 'sumfing', 'summer', 'summon', 'sumthin', 'sun', 'sun0819', 'sunday', 'sundayish', 'sunlight', 'sunny', 'sunoco', 'sunroof', 'sunshine', 'suntec', 'sup', 'super', 'superb', 'superior', 'supervisor', 'suply', 'supose', 'suppliers', 'supplies', 'supply', 'support', 'supportproviding', 'supports', 'supportvery', 'suppose', 'supposed', 'supreme', 'sura', 'sure', 'surely', 'surf', 'surfing', 'surgical', 'surname', 'surprise', 'surprised', 'surrender', 'surrounded', 'survey', 'surya', 'sutra', 'sux', 'suzy', 'svc', 'swalpa', 'swann', 'swashbuckling', 'swatch', 'sway', 'swear', 'sweater', 'sweatter', 'sweet', 'sweetie', 'sweets', 'swell', 'swhrt', 'swimming', 'swimsuit', 'swing', 'swiss', 'switch', 'swollen', 'swoop', 'swt', 'syd', 'syllabus', 'symbol', 'synced', 'syrup', 'system', 'systems', 'ta', 'table', 'tables', 'tablet', 'tablets', 'tackle', 'tacos', 'tactful', 'tactless', 'tag', 'tagged', 'tahan', 'tai', 'tait', 'take', 'taken', 'takenOnly', 'takes', 'takin', 'taking', 'talent', 'talents', 'talk', 'talking', 'talks', 'tall', 'tallahassee', 'tallent', 'tamilnaduthen', 'tampa', 'tank', 'tantrums', 'tap', 'tape', 'tariffs', 'tarpon', 'taste', 'tat', 'tattoos', 'tau', 'taught', 'taunton', 'taxes', 'taxi', 'taxless', 'taxt', 'taylor', 'taylors', 'tb', 'tc', 'tddnewsletteremc1couk', 'tea', 'teach', 'teacher', 'teaches', 'teaching', 'teacoffee', 'team', 'teams', 'tear', 'tears', 'tease', 'teasing', 'tech', 'technical', 'technologies', 'teenager', 'teeth', 'teethif', 'teethis', 'teju', 'tel', 'telephone', 'tell', 'telling', 'tells', 'telly', 'telphone', 'telugu', 'teluguthts', 'temales', 'temp', 'temper', 'temple', 'ten', 'tendencies', 'tensed', 'term', 'terms', 'terrible', 'terrific', 'terrorist', 'tescos', 'test', 'testing', 'tests', 'texas', 'text', 'textand', 'textbook', 'texted', 'textin', 'texting', 'textoperator', 'texts', 'textsweekend', 'tgxxrz', 'th', 'thandiyachu', 'thangam', 'thangamits', 'thank', 'thanks', 'thanks2', 'thanksgiving', 'thanx', 'thanxxx', 'that2worzels', 'thatd', 'thatdont', 'thati', 'thatll', 'thatnow', 'thats', 'that\\x92s', 'that‘s', 'the4th', 'theKingshead', 'theater', 'theatre', 'themP', 'themed', 'themes', 'thenwill', 'theory', 'theplace', 'thepub', 'theredo', 'theregoodnight', 'therere', 'theres', 'therexx', 'thesedays', 'thesis', 'thesmszonecom', 'theyll', 'theyre', 'thia', 'thin', 'thing', 'thinghow', 'things', 'think', 'thinkThis', 'thinked', 'thinkin', 'thinking', 'thinks', 'thinl', 'thirunelvali', 'thisdon', 'thk', 'thkin', 'thm', 'thnk', 'tho', 'thoso', 'thot', 'thou', 'though', 'thought', 'thoughts', 'thoughtsI', 'thousands', 'thread', 'threats', 'three', 'threw', 'thriller', 'throat', 'throw', 'throwin', 'throwing', 'thrown', 'throws', 'thru', 'thruRespect', 'ths', 'tht', 'thts', 'thuglyfe', 'thurs', 'thursday', 'thus', 'thx', 'tick', 'ticket', 'tickets', 'tiempo', 'tight', 'tightly', 'tigress', 'tihs', 'tiime', 'til', 'till', 'time', 'timeYour', 'timedhoni', 'timehope', 'times', 'timeslil', 'timeyou', 'timi', 'timin', 'timing', 'timings', 'tiny', 'tip', 'tips', 'tired', 'tiring', 'tirunelvai', 'tirunelvali', 'tirupur', 'tis', 'titleso', 'tiwary', 'tix', 'tiz', 'tke', 'tkts', 'tlk', 'tm', 'tming', 'tmr', 'tmrw', 'tmw', 'toClaim', 'toDo', 'toa', 'toaday', 'tobacco', 'today', 'todayFrom', 'todayGood', 'todaybut', 'todaydo', 'todayhe', 'todays', 'tog', 'together', 'tohar', 'toilet', 'tok', 'token', 'toking', 'tol', 'told', 'toldshe', 'tolerance', 'toleratbcs', 'tom', 'tomarrow', 'tomeandsaidTHIS', 'tomo', 'tomoCant', 'tomorro', 'tomorrow', 'tomorrowcall', 'tomorrowtoday', 'tone', 'tones', 'tones2youcouk', 'tonght', 'tongued', 'tonight', 'tonights', 'tonite', 'tonitebusy', 'tonitethings', 'tons', 'tonsolitusaswell', 'tooLets', 'tooPray', 'took', 'tookplace', 'tool', 'tooo', 'toopray', 'toot', 'toothpaste', 'tootsie', 'top', 'topic', 'topicsorry', 'topped', 'toppoly', 'tops', 'tor', 'torch', 'torrents', 'tortilla', 'torture', 'tosend', 'toshiba', 'toss', 'tot', 'total', 'totally', 'totes', 'touch', 'touched', 'tough', 'toughest', 'tour', 'towards', 'town', 'toyota', 'tp', 'track', 'trade', 'traffic', 'train', 'trained', 'training', 'trainners', 'trains', 'tram', 'tranquility', 'transaction', 'transcribing', 'transfer', 'transferacc', 'transfered', 'transferred', 'transfr', 'transfred', 'transport', 'trash', 'trauma', 'travel', 'traveling', 'travelled', 'travelling', 'treacle', 'treadmill', 'treasure', 'treat', 'treated', 'treatin', 'treats', 'trebles', 'tree', 'trek', 'trends', 'trial', 'tried', 'trip', 'trips', 'trishul', 'triumphed', 'tron', 'trouble', 'troubleshooting', 'trouser', 'truck', 'true', 'truekDo', 'truffles', 'truly', 'trust', 'trusting', 'truth', 'try', 'tryin', 'trying', 'ts', 'tshirt', 'tsunamis', 'tt', 'tts', 'ttyl', 'tue', 'tues', 'tuesday', 'tui', 'tuition', 'tul', 'tune', 'turkeys', 'turn', 'turned', 'turning', 'turns', 'tuth', 'tv', 'tvhe', 'tvlol', 'twat', 'twelve', 'twenty', 'twice', 'twins', 'two', 'txt', 'txtX', 'txtin', 'txting', 'txtjourney', 'txts', 'tyler', 'tylers', 'type', 'typelyk', 'types', 'typical', 'u', 'uOthrwise', 'uSo', 'ubandu', 'ubi', 'ugos', 'uh', 'uif', 'uk', 'uks', 'ull', 'ultimatum', 'um', 'umma', 'un', 'unable', 'unbelievable', 'unclaimed', 'uncle', 'uncles', 'uncomfortable', 'unconditionally', 'unconscious', 'unconsciously', 'unconvinced', 'uncountable', 'uncut', 'underdtand', 'understand', 'understanding', 'understood', 'underwear', 'undrstnd', 'undrstndng', 'unemployed', 'uneventful', 'unfolds', 'unfortunately', 'unfortuntly', 'unhappiness', 'unhappy', 'uni', 'uniform', 'unintentional', 'unintentionally', 'unique', 'uniqueI', 'units', 'univ', 'university', 'unknown', 'unless', 'unlimited', 'unmits', 'unnecessarily', 'unrecognized', 'unredeemed', 'unsold', 'unsoldmike', 'unsoldnow', 'unspoken', 'unsubscribe', 'unsubscribed', 'unusual', 'upcharge', 'update', 'upgrade', 'upgrading', 'uphad', 'upload', 'uploaded', 'uploads', 'upon', 'upping', 'upset', 'upseti', 'upsetits', 'upstairs', 'upto', 'ur', 'ure', 'urgent', 'urgentbut', 'urgentlyits', 'urgnt', 'urination', 'url', 'urmomi', 'urself', 'us', 'usGET', 'usLET', 'usb', 'usc', 'uscedu', 'use', 'used', 'useful', 'useless', 'user', 'uses', 'usf', 'using', 'usno', 'usps', 'usual', 'usualiam', 'usually', 'uterus', 'utter', 'uttered', 'uup', 'uv', 'uve', 'uwana', 'uwant', 'uworld', 'uxxxx', 'v', 'vaazhthukkal', 'vague', 'vaguely', 'vai', 'vale', 'valentine', 'valentines', 'valid', 'valuable', 'value', 'valueMorning', 'valued', 'valuing', 'varaya', 'vargu', 'various', 'varma', 'vary', 'vasai', 'vava', 'vday', 'vegas', 'vegetables', 'veggie', 'vehicle', 'velachery', 'venaam', 'venugopal', 'verified', 'verify', 'verifying', 'version', 'versus', 'vewy', 'via', 'vibrant', 'vibrate', 'vibrator', 'vic', 'victoria', 'victors', 'vid', 'video', 'videochat', 'videopic', 'videosound', 'videosounds2', 'vidnot', 'view', 'vijay', 'vijaykanth', 'vikky', 'vikkyim', 'vilikkamt', 'vill', 'village', 'vinobanagar', 'violated', 'violence', 'virgils', 'virgin', 'virgins', 'virtual', 'visa', 'visionsmscom', 'visit', 'visiting', 'visitneed', 'visitors', 'vital', 'vitamin', 'vivek', 'viveki', 'vl', 'vldo', 'vodafone', 'vodka', 'voice', 'voicemail', 'volcanoes', 'vomit', 'vomitin', 'vomiting', 'vote', 'voted', 'voucher', 'vouchers', 'vouchersText', 'vpist', 'vry', 'vs', 'vth', 'vtired', 'w', 'w1t1jy', 'w8in', 'wa', 'wad', 'wadebridgeI', 'wahala', 'wahay', 'waheed', 'waheeda', 'waht', 'wait', 'waited', 'waitin', 'waiting', 'wake', 'waking', 'waliking', 'walk', 'walkabout', 'walked', 'walkin', 'walking', 'walks', 'wall', 'wallet', 'wallpaper', 'wallpaperall', 'walls', 'walmart', 'walsall', 'wamma', 'wan', 'wana', 'wanna', 'want', 'want2come', 'wanted', 'wanting', 'wants', 'wap', 'warm', 'warming', 'warned', 'warner', 'warning', 'warranty', 'warwick', 'washob', 'wasnt', 'wasn\\x92t', 'wasn‘t', 'waste', 'wasted', 'wasting', 'wat', 'watch', 'watched', 'watches', 'watchin', 'watching', 'watchng', 'water', 'watever', 'watevr', 'watll', 'wats', 'watts', 'waves', 'way', 'waythis', 'wc', 'wc1n3xx', 'weak', 'weakness', 'weaknesses', 'weapon', 'wear', 'wearing', 'weaseling', 'weasels', 'weather', 'weathers', 'web', 'web2mobile', 'webadres', 'website', 'websitenow', 'wed', 'weddin', 'wedding', 'wednesday', 'weds', 'wee', 'weed', 'weeddeficient', 'week', 'weekdays', 'weekend', 'weekends', 'weekly', 'weeks', 'weekstop', 'weigh', 'weighed', 'weight', 'weightHaha', 'weird', 'weirdest', 'weirdo', 'weirdy', 'welcome', 'welcomes', 'well', 'welli', 'welltake', 'wellyou', 'welp', 'wen', 'wenever', 'went', 'wer', 'wereare', 'werent', 'wesley', 'wesleys', 'west', 'western', 'westonzoyland', 'westshore', 'wet', 'wetherspoons', 'weve', 'we\\x92ve', 'we‘ll', 'we‘re', 'whatever', 'whats', 'wheat', 'wheel', 'wheellock', 'whenever', 'whens', 'whereare', 'wherebtw', 'wheres', 'wherever', 'whether', 'whileamp', 'whillTake', 'whispers', 'white', 'whn', 'whole', 'whos', 'whose', 'whr', 'wi', 'wicked', 'wicket', 'wid', 'widelivecomindex', 'wif', 'wife', 'wifedont', 'wifes', 'wifi', 'wihtuot', 'wikipediacom', 'wil', 'wildest', 'wildlife', 'willing', 'willpower', 'win', 'win150ppmx3age16', 'wind', 'window', 'windows', 'winds', 'windy', 'wine', 'wined', 'wining', 'winner', 'winning', 'wins', 'winterstone', 'wipro', 'wiproyou', 'wisdom', 'wise', 'wish', 'wisheds', 'wishes', 'wishin', 'wishing', 'wishlist', 'wiskey', 'wit', 'withdraw', 'wither', 'within', 'without', 'witin', 'witot', 'witout', 'wiv', 'wizzle', 'wk', 'wkTXT', 'wkend', 'wkg', 'wkly', 'wknd', 'wks', 'wlcome', 'wld', 'wmlid1b6a5ecef91ff937819firsttrue180430JUL05', 'wmlid820554ad0a1705572711firsttrue¡C', 'wnt', 'wo', 'woah', 'wocay', 'woke', 'woken', 'woman', 'womdarfull', 'women', 'wondar', 'wondarfull', 'wonder', 'wonderful', 'wondering', 'wonders', 'wont', 'woot', 'woould', 'woozles', 'worc', 'word', 'wordCOLLECT', 'wordSTART', 'wordnot', 'words', 'work', 'workAnd', 'workLove', 'workage', 'workin', 'working', 'workout', 'works', 'world', 'worldgnun', 'worldmay', 'worlds', 'worldvery', 'worms', 'worried', 'worries', 'worry', 'worrying', 'worryuse', 'worse', 'worst', 'worth', 'worthless', 'wot', 'woul', 'would', 'woulda', 'wouldnt', 'wounds', 'wow', 'wquestion', 'wrecked', 'wrench', 'wrenching', 'write', 'writhing', 'wrk', 'wrking', 'wrks', 'wrnog', 'wrong', 'wrongly', 'wrote', 'ws', 'wt', 'wtc', 'wtf', 'wth', 'wthout', 'wud', 'wudnt', 'wuld', 'wuldnt', 'wun', 'www07781482378com', 'www4tcbiz', 'www80488biz', 'wwwApplausestorecom', 'wwwB4Utelecom', 'wwwIdewcom', 'wwwLdewcom', 'wwwLdewcom1win150ppmx3age16', 'wwwLdewcom1win150ppmx3age16subscription', 'wwwLdewcomsubs161win150ppmx3', 'wwwSMSacubootydelious', 'wwwSMSacugoldviking', 'wwwSMSacuhmmross', 'wwwSMSacunat27081980', 'wwwSMSacunatalie2k9', 'wwwareyouuniquecouk', 'wwwbridalpetticoatdreamscouk', 'wwwcashbincouk', 'wwwclubmobycom', 'wwwclubzedcouk', 'wwwcnupdatescomnewsletter', 'wwwcomuknet', 'wwwdbuknet', 'wwwflirtpartyus', 'wwwfullonsmscom', 'wwwgambtv', 'wwwgetzedcouk', 'wwwldewcom', 'wwwldewcom1win150ppmx3age16', 'wwwmovietriviatv', 'wwwmusictrivianet', 'wwworangecoukow', 'wwwphb1com', 'wwwregalportfoliocouk', 'wwwringtonekingcouk', 'wwwringtonescouk', 'wwwrtfsphostingcom', 'wwwsantacallingcom', 'wwwshortbreaksorguk', 'wwwsmsconet', 'wwwtcbiz', 'wwwtelediscountcouk', 'wwwtextcompcom', 'wwwtextpodnet', 'wwwtklscom', 'wwwtxt2shopcom', 'wwwtxt43com', 'wwwtxt82228com', 'wwwtxttowincouk', 'wwwwin82050couk', 'wylie', 'x', 'xafter', 'xam', 'xavier', 'xin', 'xins', 'xmas', 'xnet', 'xt', 'xuhui', 'xx', 'xxSP', 'xxx', 'xxxmobilemovieclubcomnQJKGIGHJJGCBL', 'xxxx', 'xxxxxxx', 'xxxxxxxx', 'xxxxxxxxxxxxxX', 'xy', 'ya', 'yah', 'yahoo', 'yalrigu', 'yam', 'yan', 'yards', 'yay', 'yck', 'yday', 'yeah', 'year', 'years', 'yelling', 'yellow', 'yeovil', 'yep', 'yer', 'yes', 'yest', 'yesterday', 'yet', 'yettys', 'yetunde', 'yi', 'yifeng', 'yijue', 'yijuehotmailcom', 'ym', 'yo', 'yoHere', 'yoga', 'yogasana', 'yor', 'yorge', 'youPhone', 'youTo', 'youany', 'youcarlos', 'youd', 'youdearwith', 'youdoing', 'youhow', 'youkwhere', 'yould', 'youll', 'youmoney', 'youmy', 'young', 'younger', 'youre', 'yourinclusive', 'youso', 'youthats', 'youuuuu', 'youve', 'youwanna', 'youwhen', 'you\\x92re', 'you‘ll', 'yoville', 'yowifes', 'yr', 'yrs', 'ystrdayice', 'yummy', 'yun', 'yuo', 'yuou', 'zac', 'zealand', 'zed', 'zeros', 'zhong', 'zoom', 'zyada', '\\x91MORROW', '\\x91rents', '\\x93Harry', '\\x93Its', '\\x96', '£1', '£10', '£100', '£1000', '£10000', '£100000', '£1000CALL', '£12', '£125', '£1250', '£1450', '£150', '£1500', '£150ea', '£150msg', '£150perWKsub', '£150perweeksub', '£150pm', '£150pmmorefrommobile2BremovedMobyPOBox734LS27YF', '£150week', '£150wk', '£1million', '£1minMobsmoreLKPOBOX177HP51FL', '£200', '£2000', '£250', '£250k', '£3', '£300', '£3350', '£3365', '£350', '£3wk', '£400', '£450', '£48', '£5', '£50', '£500', '£5000', '£500000', '£50award', '£50£500', '£54', '£5month', '£6', '£600', '£71', '£750', '£75000', '£79', '£800', '£900', '£s', '»10', 'Ü', 'Üll', 'é', 'ü', 'üll', '–', '“', '“Harry', '…', '…Thanks']\n"
     ]
    }
   ],
   "source": [
    "print(transformation_bow.get_feature_names())"
   ]
  },
  {
   "cell_type": "code",
   "execution_count": 36,
   "metadata": {},
   "outputs": [],
   "source": [
    "mess_transform=transformation_bow.transform(messages['message'])"
   ]
  },
  {
   "cell_type": "code",
   "execution_count": 37,
   "metadata": {},
   "outputs": [
    {
     "name": "stdout",
     "output_type": "stream",
     "text": [
      "(5572, 11425)\n"
     ]
    }
   ],
   "source": [
    "\n",
    "print(mess_transform.shape)"
   ]
  },
  {
   "cell_type": "code",
   "execution_count": 38,
   "metadata": {},
   "outputs": [
    {
     "data": {
      "text/plain": [
       "50548"
      ]
     },
     "execution_count": 38,
     "metadata": {},
     "output_type": "execute_result"
    }
   ],
   "source": [
    "mess_transform.nnz"
   ]
  },
  {
   "cell_type": "code",
   "execution_count": 56,
   "metadata": {},
   "outputs": [],
   "source": [
    "from sklearn.feature_extraction.text import TfidfTransformer"
   ]
  },
  {
   "cell_type": "code",
   "execution_count": 55,
   "metadata": {},
   "outputs": [],
   "source": [
    "Tfidf_Transformer=TfidfTransformer().fit(mess_transform)"
   ]
  },
  {
   "cell_type": "code",
   "execution_count": 58,
   "metadata": {},
   "outputs": [],
   "source": [
    "Tfidf3=Tfidf_Transformer.transform(mess_transform)"
   ]
  },
  {
   "cell_type": "code",
   "execution_count": 59,
   "metadata": {},
   "outputs": [
    {
     "name": "stdout",
     "output_type": "stream",
     "text": [
      "  (0, 11163)\t0.23026685592418913\n",
      "  (0, 10965)\t0.19073428545061483\n",
      "  (0, 8917)\t0.24704652376837993\n",
      "  (0, 8336)\t0.17046869292195632\n",
      "  (0, 7668)\t0.26403384065473806\n",
      "  (0, 7555)\t0.31253856260694546\n",
      "  (0, 6937)\t0.1834692413608692\n",
      "  (0, 6906)\t0.15158474664662352\n",
      "  (0, 6217)\t0.18915557732842803\n",
      "  (0, 5769)\t0.24984711892976424\n",
      "  (0, 5218)\t0.26870593862526665\n",
      "  (0, 5217)\t0.29835184088197164\n",
      "  (0, 4653)\t0.31253856260694546\n",
      "  (0, 2060)\t0.24203960256420656\n",
      "  (0, 1483)\t0.31253856260694546\n",
      "  (0, 1110)\t0.2882862016308418\n",
      "  (1, 11072)\t0.40061560982443056\n",
      "  (1, 10698)\t0.2063637481323008\n",
      "  (1, 8590)\t0.5043405901305854\n",
      "  (1, 7701)\t0.3767401070812794\n",
      "  (1, 3064)\t0.2911995411244838\n",
      "  (1, 2451)\t0.561988811929381\n",
      "  (2, 11123)\t0.19104387220509106\n",
      "  (2, 11084)\t0.15898145347176754\n",
      "  (2, 10686)\t0.13995540820792943\n",
      "  :\t:\n",
      "  (5568, 6882)\t0.31367469776242124\n",
      "  (5568, 6691)\t0.47781076401785183\n",
      "  (5568, 6354)\t0.5575721048646767\n",
      "  (5568, 4880)\t0.3853122086093004\n",
      "  (5569, 10199)\t0.520467167163554\n",
      "  (5569, 8252)\t0.4328299709057074\n",
      "  (5569, 3721)\t0.520467167163554\n",
      "  (5569, 3228)\t0.520467167163554\n",
      "  (5570, 11006)\t0.20434525994453323\n",
      "  (5570, 10787)\t0.22867843486502568\n",
      "  (5570, 9915)\t0.22380228376189748\n",
      "  (5570, 8420)\t0.22651675757217207\n",
      "  (5570, 7800)\t0.17243888184764117\n",
      "  (5570, 7394)\t0.3071475234812021\n",
      "  (5570, 7287)\t0.26786677935500575\n",
      "  (5570, 6984)\t0.2641640440122445\n",
      "  (5570, 6799)\t0.294185812624235\n",
      "  (5570, 6699)\t0.2008376534326777\n",
      "  (5570, 6282)\t0.2607702439080329\n",
      "  (5570, 5251)\t0.302353515740512\n",
      "  (5570, 5055)\t0.36357250744470165\n",
      "  (5570, 4508)\t0.3470692575834817\n",
      "  (5571, 10648)\t0.539218119882165\n",
      "  (5571, 8348)\t0.48542915408134024\n",
      "  (5571, 3431)\t0.6881877327870772\n"
     ]
    }
   ],
   "source": [
    "print(Tfidf3)"
   ]
  },
  {
   "cell_type": "code",
   "execution_count": 53,
   "metadata": {},
   "outputs": [],
   "source": [
    "from sklearn.naive_bayes import MultinomialNB"
   ]
  },
  {
   "cell_type": "code",
   "execution_count": 60,
   "metadata": {},
   "outputs": [],
   "source": [
    "spam_detect_model= MultinomialNB().fit(Tfidf3,messages['label'])"
   ]
  },
  {
   "cell_type": "code",
   "execution_count": 64,
   "metadata": {},
   "outputs": [],
   "source": [
    "all_pred=spam_detect_model.predict(Tfidf3)"
   ]
  },
  {
   "cell_type": "code",
   "execution_count": 65,
   "metadata": {},
   "outputs": [
    {
     "data": {
      "text/plain": [
       "array(['ham', 'ham', 'spam', ..., 'ham', 'ham', 'ham'], dtype='<U4')"
      ]
     },
     "execution_count": 65,
     "metadata": {},
     "output_type": "execute_result"
    }
   ],
   "source": [
    "all_pred"
   ]
  },
  {
   "cell_type": "code",
   "execution_count": 66,
   "metadata": {},
   "outputs": [
    {
     "name": "stderr",
     "output_type": "stream",
     "text": [
      "C:\\Users\\Rohit\\Anaconda3\\lib\\site-packages\\sklearn\\cross_validation.py:41: DeprecationWarning: This module was deprecated in version 0.18 in favor of the model_selection module into which all the refactored classes and functions are moved. Also note that the interface of the new CV iterators are different from that of this module. This module will be removed in 0.20.\n",
      "  \"This module will be removed in 0.20.\", DeprecationWarning)\n"
     ]
    }
   ],
   "source": [
    "from sklearn.cross_validation import train_test_split"
   ]
  },
  {
   "cell_type": "code",
   "execution_count": 67,
   "metadata": {},
   "outputs": [],
   "source": [
    "msg_train,msg_test,label_train,label_test=train_test_split(messages['message'],messages['label'])"
   ]
  },
  {
   "cell_type": "code",
   "execution_count": 69,
   "metadata": {},
   "outputs": [
    {
     "data": {
      "text/plain": [
       "1875    Would you like to see my XXX pics they are so ...\n",
       "482     Yo carlos, a few friends are already asking me...\n",
       "3923    Oh really? perform, write a paper, go to a mov...\n",
       "4208                   Lets use it next week, princess :)\n",
       "845                              K.k:)when are you going?\n",
       "5518    By the way, i've put a skip right outside the ...\n",
       "1346      Que pases un buen tiempo or something like that\n",
       "2027    Nah man, my car is meant to be crammed full of...\n",
       "5435                    I'm wif him now buying tix lar...\n",
       "3005    You've won tkts to the EURO2004 CUP FINAL or £...\n",
       "1240    Hope you are having a great new semester. Do w...\n",
       "323     cud u tell ppl im gona b a bit l8 cos 2 buses ...\n",
       "781     Your opinion about me? 1. Over 2. Jada 3. Kusr...\n",
       "299     I cant pick the phone right now. Pls send a me...\n",
       "839     We tried to contact you re our offer of New Vi...\n",
       "1224       Rofl betta invest in some  anti aging products\n",
       "4542    Hiya. How was last night? I've been naughty an...\n",
       "651     Thats cool! Sometimes slow and gentle. Sonetim...\n",
       "2430    Guess who am I?This is the first time I create...\n",
       "4200    cmon babe, make me horny, *turn* me on! Txt me...\n",
       "4939    No it was cancelled yeah baby! Well that sound...\n",
       "394     Yes i think so. I am in office but my lap is i...\n",
       "5437                         Am slow in using biola's fne\n",
       "5051          I will vote for wherever my heart guides me\n",
       "4837                    Yay can't wait to party together!\n",
       "1426            I'll be at mu in like  &lt;#&gt;  seconds\n",
       "1029    Lol you forgot it eh ? Yes, I'll bring it in babe\n",
       "4346                                  Enjoy urself tmr...\n",
       "5223             If I die I want u to have all my stuffs.\n",
       "1220    True. It is passable. And if you get a high sc...\n",
       "                              ...                        \n",
       "502                                  When can ü come out?\n",
       "3922    Do 1 thing! Change that sentence into: \"Becaus...\n",
       "3070                    Ay wana meet on sat?ü wkg on sat?\n",
       "3332            How much it will cost approx . Per month.\n",
       "3367                      I am waiting for your call sir.\n",
       "4573                       Omg how did u know what I ate?\n",
       "2870    House-Maid is the murderer, coz the man was mu...\n",
       "4710    Haha awesome, I might need to take you up on t...\n",
       "858     Hai ana tomarrow am coming on morning.  &lt;DE...\n",
       "2959    U have a secret admirer. REVEAL who thinks U R...\n",
       "2551    Please sen :)my kind advice :-)please come her...\n",
       "5403             So gd got free ice cream... I oso wan...\n",
       "1290    Hey...Great deal...Farm tour 9am to 5pm $95/pa...\n",
       "4936    Hey babe, how's it going ? Did you ever figure...\n",
       "3175                          It vl bcum more difficult..\n",
       "2602                                                 Okie\n",
       "984     LOOK AT THE FUCKIN TIME. WHAT THE FUCK YOU THI...\n",
       "3727                       No chikku nt yet.. Ya i'm free\n",
       "5294    XMAS iscoming & ur awarded either £500 CD gift...\n",
       "5220                  I have to take exam with in march 3\n",
       "2086     Moji i love you more than words. Have a rich day\n",
       "4097     Hey , is * rite u put »10 evey mnth is that all?\n",
       "4917                    Just dropped em off, omw back now\n",
       "2729    Urgent Please call 09066612661 from landline. ...\n",
       "1593    Will it help if we propose going back again to...\n",
       "5438                     What are youdoing later? Sar xxx\n",
       "3750    Dear Voucher Holder 2 claim your 1st class air...\n",
       "4911    WE REGRET TO INFORM U THAT THE NHS HAS MADE A ...\n",
       "2580       I dunno until when... Lets go learn pilates...\n",
       "3812          Excellent! Wish we were together right now!\n",
       "Name: message, Length: 4179, dtype: object"
      ]
     },
     "execution_count": 69,
     "metadata": {},
     "output_type": "execute_result"
    }
   ],
   "source": [
    "msg_train"
   ]
  },
  {
   "cell_type": "code",
   "execution_count": 77,
   "metadata": {},
   "outputs": [],
   "source": [
    "from sklearn.pipeline import Pipeline"
   ]
  },
  {
   "cell_type": "code",
   "execution_count": 78,
   "metadata": {},
   "outputs": [],
   "source": [
    "pipeline = Pipeline([\n",
    "        ('bow',CountVectorizer(analyzer=text_process)),\n",
    "        ('Tfidf',TfidfTransformer()),\n",
    "        ('classifier',MultinomialNB())\n",
    "    ])"
   ]
  },
  {
   "cell_type": "code",
   "execution_count": 79,
   "metadata": {},
   "outputs": [
    {
     "data": {
      "text/plain": [
       "Pipeline(memory=None,\n",
       "     steps=[('bow', CountVectorizer(analyzer=<function text_process at 0x00000295475D47B8>,\n",
       "        binary=False, decode_error='strict', dtype=<class 'numpy.int64'>,\n",
       "        encoding='utf-8', input='content', lowercase=True, max_df=1.0,\n",
       "        max_features=None, min_df=1, ngram_range=(1, 1), preprocesso...f=False, use_idf=True)), ('classifier', MultinomialNB(alpha=1.0, class_prior=None, fit_prior=True))])"
      ]
     },
     "execution_count": 79,
     "metadata": {},
     "output_type": "execute_result"
    }
   ],
   "source": [
    "pipeline.fit(msg_train,label_train)"
   ]
  },
  {
   "cell_type": "code",
   "execution_count": 80,
   "metadata": {},
   "outputs": [],
   "source": [
    "from sklearn.metrics import classification_report"
   ]
  },
  {
   "cell_type": "code",
   "execution_count": 83,
   "metadata": {},
   "outputs": [],
   "source": [
    "predictions=pipeline.predict(msg_test)"
   ]
  },
  {
   "cell_type": "code",
   "execution_count": 85,
   "metadata": {},
   "outputs": [
    {
     "name": "stdout",
     "output_type": "stream",
     "text": [
      "             precision    recall  f1-score   support\n",
      "\n",
      "        ham       0.97      1.00      0.98      1215\n",
      "       spam       1.00      0.75      0.86       178\n",
      "\n",
      "avg / total       0.97      0.97      0.97      1393\n",
      "\n"
     ]
    }
   ],
   "source": [
    "print(classification_report(label_test,predictions))"
   ]
  },
  {
   "cell_type": "code",
   "execution_count": null,
   "metadata": {},
   "outputs": [],
   "source": []
  }
 ],
 "metadata": {
  "kernelspec": {
   "display_name": "Python 3",
   "language": "python",
   "name": "python3"
  },
  "language_info": {
   "codemirror_mode": {
    "name": "ipython",
    "version": 3
   },
   "file_extension": ".py",
   "mimetype": "text/x-python",
   "name": "python",
   "nbconvert_exporter": "python",
   "pygments_lexer": "ipython3",
   "version": "3.6.4"
  }
 },
 "nbformat": 4,
 "nbformat_minor": 2
}
